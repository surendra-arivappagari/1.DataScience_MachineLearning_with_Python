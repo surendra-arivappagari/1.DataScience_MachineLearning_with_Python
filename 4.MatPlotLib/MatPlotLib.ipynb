{
 "cells": [
  {
   "cell_type": "markdown",
   "metadata": {},
   "source": [
    "# MatPlotLib Tutorials:"
   ]
  },
  {
   "cell_type": "markdown",
   "metadata": {},
   "source": [
    "> - Matplotlib is a python data visualization library build on top of Numpy array.\n",
    "> - It is a 2D and 3D graphic library for generating scientific graphs.\n",
    "> - It is very easy for plotting any kind of graphs, customizable texts and labels, High quality outputs in many formats.\n",
    "> - Graphs can be applied on top of List, Numpy arrays, tuples, Dicts, Pandas columns. \n",
    "> - We can use any of below 3 methods to generate the graph.\n",
    ">> 1) plt.plot() -->  <br>\n",
    ">> 2) plt.subplots() -->  <br>\n",
    ">> 3) plt.figure() -->  <br>"
   ]
  },
  {
   "cell_type": "markdown",
   "metadata": {},
   "source": [
    "### A) Import library"
   ]
  },
  {
   "cell_type": "code",
   "execution_count": 11,
   "metadata": {},
   "outputs": [],
   "source": [
    "import matplotlib.pyplot as plt\n",
    "#from matplotlib import pyplot as plt  --> same as above\n",
    "\n",
    "import numpy as np \n",
    "#-->Numpy for generating sample data\n",
    "\n",
    "#If we want to see the outputs in Jupyter notebook,we must use the below inline command. Or we have to use plt.show() everytime.\n",
    "%matplotlib inline"
   ]
  },
  {
   "cell_type": "markdown",
   "metadata": {},
   "source": [
    "### B) Sample example"
   ]
  },
  {
   "cell_type": "code",
   "execution_count": 15,
   "metadata": {},
   "outputs": [
    {
     "data": {
      "image/png": "[encoded data removed]",
      "text/plain": [
       "<Figure size 432x288 with 1 Axes>"
      ]
     },
     "metadata": {
      "needs_background": "light"
     },
     "output_type": "display_data"
    }
   ],
   "source": [
    "#create a sample data first for 2D Graph with x, y axis\n",
    "x = np.linspace(0,5,11)\n",
    "y = x**2\n",
    "\n",
    "#plot() method used for generating graph. Giveing the source of data in axises.\n",
    "plt.plot(x,y, color='blue')\n",
    "\n",
    "#costimize the lables,texts\n",
    "plt.xlabel(\"X-Axis\")\n",
    "plt.ylabel(\"Y-Axis\")\n",
    "plt.title(\"Titile: Sample Graph\")\n",
    "\n",
    "#use below show() as optional because we have already imported the inline command of matplotlib.\n",
    "plt.show()"
   ]
  },
  {
   "cell_type": "code",
   "execution_count": null,
   "metadata": {},
   "outputs": [],
   "source": []
  },
  {
   "cell_type": "code",
   "execution_count": null,
   "metadata": {},
   "outputs": [],
   "source": []
  },
  {
   "cell_type": "code",
   "execution_count": null,
   "metadata": {},
   "outputs": [],
   "source": []
  },
  {
   "cell_type": "code",
   "execution_count": null,
   "metadata": {},
   "outputs": [],
   "source": []
  },
  {
   "cell_type": "code",
   "execution_count": null,
   "metadata": {},
   "outputs": [],
   "source": []
  },
  {
   "cell_type": "code",
   "execution_count": null,
   "metadata": {},
   "outputs": [],
   "source": []
  },
  {
   "cell_type": "code",
   "execution_count": 1,
   "metadata": {},
   "outputs": [],
   "source": [
    "import matplotlib.pyplot as plt\n",
    "%matplotlib inline"
   ]
  }
 ],
 "metadata": {
  "kernelspec": {
   "display_name": "Python 3",
   "language": "python",
   "name": "python3"
  },
  "language_info": {
   "codemirror_mode": {
    "name": "ipython",
    "version": 3
   },
   "file_extension": ".py",
   "mimetype": "text/x-python",
   "name": "python",
   "nbconvert_exporter": "python",
   "pygments_lexer": "ipython3",
   "version": "3.7.1"
  }
 },
 "nbformat": 4,
 "nbformat_minor": 2
}
