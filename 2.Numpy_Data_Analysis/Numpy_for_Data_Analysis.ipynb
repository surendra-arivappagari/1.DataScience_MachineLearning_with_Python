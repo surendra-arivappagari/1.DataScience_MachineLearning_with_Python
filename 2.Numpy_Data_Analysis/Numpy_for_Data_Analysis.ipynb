{
 "cells": [
  {
   "cell_type": "markdown",
   "metadata": {},
   "source": [
    "# Numpy - Tutorials:"
   ]
  },
  {
   "cell_type": "markdown",
   "metadata": {},
   "source": [
    "> - Numpy : Numerical Python <br>\n",
    "> -  NumPy is the fundamental package for scientific computing in Python. <br>\n",
    "> - It is a Python library that provides a multidimensional array object. <br>\n",
    "> - NumPy arrays are faster and more compact than Python lists. <br>\n",
    "> - While a Python list can contain different data types within a single list, all of the elements in a NumPy array should be homogeneous."
   ]
  },
  {
   "cell_type": "markdown",
   "metadata": {},
   "source": [
    "# 1. Import package"
   ]
  },
  {
   "cell_type": "code",
   "execution_count": 77,
   "metadata": {},
   "outputs": [],
   "source": [
    "import numpy as np"
   ]
  },
  {
   "cell_type": "markdown",
   "metadata": {},
   "source": [
    "# 2.Creating Numpy array:"
   ]
  },
  {
   "cell_type": "markdown",
   "metadata": {},
   "source": [
    "### 2A) np.arange()"
   ]
  },
  {
   "cell_type": "code",
   "execution_count": 2,
   "metadata": {},
   "outputs": [
    {
     "name": "stdout",
     "output_type": "stream",
     "text": [
      "2A. Numpy Array using arange()\n",
      "[0 1 2 3 4 5 6 7 8 9]\n"
     ]
    },
    {
     "data": {
      "text/plain": [
       "numpy.ndarray"
      ]
     },
     "execution_count": 2,
     "metadata": {},
     "output_type": "execute_result"
    }
   ],
   "source": [
    "#arange([start,] stop[, step], [, dtype=None]\n",
    "#np.arange() --> will be useful, when we know start, end, step size. But dont know howmany #of values will come\n",
    "\n",
    "#Method-1: using np.arange()\n",
    "print(\"2A. Numpy Array using arange()\")\n",
    "\n",
    "a = np.arange(10)\n",
    "print(a)\n",
    "type(a)"
   ]
  },
  {
   "cell_type": "code",
   "execution_count": 3,
   "metadata": {},
   "outputs": [
    {
     "name": "stdout",
     "output_type": "stream",
     "text": [
      "[0 1 2 3 4 5 6 7 8 9]\n"
     ]
    }
   ],
   "source": [
    "#Method-2 by providing start, end\n",
    "\n",
    "b =np.arange(0,10)\n",
    "print(b)"
   ]
  },
  {
   "cell_type": "code",
   "execution_count": 4,
   "metadata": {
    "scrolled": true
   },
   "outputs": [
    {
     "name": "stdout",
     "output_type": "stream",
     "text": [
      "[0 2 4 6 8]\n"
     ]
    }
   ],
   "source": [
    "#Method-3 by providing start,end,step, data type\n",
    "\n",
    "c =np.arange(0,10,2,int)\n",
    "print(c)"
   ]
  },
  {
   "cell_type": "code",
   "execution_count": 5,
   "metadata": {},
   "outputs": [
    {
     "data": {
      "text/plain": [
       "array([0.1, 0.8, 1.5, 2.2, 2.9, 3.6, 4.3, 5. , 5.7, 6.4, 7.1, 7.8])"
      ]
     },
     "execution_count": 5,
     "metadata": {},
     "output_type": "execute_result"
    }
   ],
   "source": [
    "#Try for floating numbers,\n",
    "a = np.arange(0.1, 8.4, 0.7)\n",
    "a"
   ]
  },
  {
   "cell_type": "code",
   "execution_count": 6,
   "metadata": {},
   "outputs": [
    {
     "data": {
      "text/plain": [
       "array([ 0,  1,  2,  3,  4,  5,  6,  7,  8,  9, 10, 11])"
      ]
     },
     "execution_count": 6,
     "metadata": {},
     "output_type": "execute_result"
    }
   ],
   "source": [
    "#Try for floating numbers by giving dtype parameter\n",
    "a = np.arange(0.6, 8.4, 0.7, int)\n",
    "a"
   ]
  },
  {
   "cell_type": "markdown",
   "metadata": {},
   "source": [
    "### 2B) np.linspace()"
   ]
  },
  {
   "cell_type": "code",
   "execution_count": 7,
   "metadata": {},
   "outputs": [
    {
     "data": {
      "text/plain": [
       "array([ 1.        ,  1.18367347,  1.36734694,  1.55102041,  1.73469388,\n",
       "        1.91836735,  2.10204082,  2.28571429,  2.46938776,  2.65306122,\n",
       "        2.83673469,  3.02040816,  3.20408163,  3.3877551 ,  3.57142857,\n",
       "        3.75510204,  3.93877551,  4.12244898,  4.30612245,  4.48979592,\n",
       "        4.67346939,  4.85714286,  5.04081633,  5.2244898 ,  5.40816327,\n",
       "        5.59183673,  5.7755102 ,  5.95918367,  6.14285714,  6.32653061,\n",
       "        6.51020408,  6.69387755,  6.87755102,  7.06122449,  7.24489796,\n",
       "        7.42857143,  7.6122449 ,  7.79591837,  7.97959184,  8.16326531,\n",
       "        8.34693878,  8.53061224,  8.71428571,  8.89795918,  9.08163265,\n",
       "        9.26530612,  9.44897959,  9.63265306,  9.81632653, 10.        ])"
      ]
     },
     "execution_count": 7,
     "metadata": {},
     "output_type": "execute_result"
    }
   ],
   "source": [
    "#linspace(start, stop, num=50)\n",
    "#np.linspace() --> used when we want exact #of values between 2 numbers. ##no need to worry about step in this method\n",
    "\n",
    "a = np.linspace(1,10)  #default #of values=50\n",
    "a"
   ]
  },
  {
   "cell_type": "code",
   "execution_count": 8,
   "metadata": {},
   "outputs": [
    {
     "data": {
      "text/plain": [
       "array([ 0.,  7., 14., 21.])"
      ]
     },
     "execution_count": 8,
     "metadata": {},
     "output_type": "execute_result"
    }
   ],
   "source": [
    "a = np.linspace(0,21,4)\n",
    "a"
   ]
  },
  {
   "cell_type": "markdown",
   "metadata": {},
   "source": [
    "### 2C) np.array()"
   ]
  },
  {
   "cell_type": "code",
   "execution_count": 9,
   "metadata": {},
   "outputs": [
    {
     "name": "stdout",
     "output_type": "stream",
     "text": [
      "Example for 0-Dimensional numpy array\n",
      "\n",
      "array :  40\n",
      "Type of a: <class 'numpy.ndarray'>\n",
      "Dimentions of a:  0\n",
      "Datatype of a:  int32\n"
     ]
    }
   ],
   "source": [
    "#By using np.array() --> we can create multidimentional arrays in Numpy.\n",
    "#Scalars are zero dimensional.\n",
    "\n",
    "print(\"Example for 0-Dimensional numpy array\\n\")\n",
    "\n",
    "a = np.array(40)\n",
    "print(\"array : \", a)\n",
    "print(\"Type of a:\", type(a))\n",
    "print(\"Dimentions of a: \", np.ndim(a))\n",
    "print(\"Datatype of a: \", a.dtype)"
   ]
  },
  {
   "cell_type": "code",
   "execution_count": 10,
   "metadata": {},
   "outputs": [
    {
     "name": "stdout",
     "output_type": "stream",
     "text": [
      "Example for 1-Dimensional numpy  array\n",
      "\n",
      "array :  [0.  0.5 1.  1.5 2.  2.5 3.  3.5 4.  4.5]\n",
      "Type of a: <class 'numpy.ndarray'>\n",
      "Dimentions of a:  1\n",
      "Datatype of a:  float64\n"
     ]
    }
   ],
   "source": [
    "print(\"Example for 1-Dimensional numpy  array\\n\")\n",
    "\n",
    "a = np.array(np.arange(0,5,0.5))\n",
    "print(\"array : \", a)\n",
    "print(\"Type of a:\", type(a))\n",
    "print(\"Dimentions of a: \", np.ndim(a))\n",
    "print(\"Datatype of a: \", a.dtype)"
   ]
  },
  {
   "cell_type": "code",
   "execution_count": 11,
   "metadata": {},
   "outputs": [
    {
     "name": "stdout",
     "output_type": "stream",
     "text": [
      "Example for 1-Dimensional numpy  array\n",
      "\n",
      "array :  ['1' '9' '7' '8' '3' '6' '2' '9' 'H']\n",
      "Type of a: <class 'numpy.ndarray'>\n",
      "Dimentions of a:  1\n",
      "Datatype of a:  <U11\n"
     ]
    }
   ],
   "source": [
    "print(\"Example for 1-Dimensional numpy  array\\n\")\n",
    "\n",
    "a = np.array([1,9,7,8,3,6,2,9,'H'])\n",
    "print(\"array : \", a)\n",
    "print(\"Type of a:\", type(a))\n",
    "print(\"Dimentions of a: \", np.ndim(a))\n",
    "print(\"Datatype of a: \", a.dtype)"
   ]
  },
  {
   "cell_type": "code",
   "execution_count": 12,
   "metadata": {},
   "outputs": [
    {
     "name": "stdout",
     "output_type": "stream",
     "text": [
      "Example for 2-Dimensional numpy  array\n",
      "\n",
      "array : \n",
      " [[1 2 3]\n",
      " [4 5 6]\n",
      " [7 8 9]]\n",
      "\n",
      "Type of a: <class 'numpy.ndarray'>\n",
      "Dimentions of a:  2\n",
      "Datatype of a:  int32\n"
     ]
    }
   ],
   "source": [
    "print(\"Example for 2-Dimensional numpy  array\\n\")\n",
    "\n",
    "a = np.array([[1,2,3],[4,5,6],[7,8,9]])\n",
    "print(\"array : \\n\", a)\n",
    "print(\"\\nType of a:\", type(a))\n",
    "print(\"Dimentions of a: \", np.ndim(a))\n",
    "print(\"Datatype of a: \", a.dtype)"
   ]
  },
  {
   "cell_type": "code",
   "execution_count": 13,
   "metadata": {},
   "outputs": [
    {
     "name": "stdout",
     "output_type": "stream",
     "text": [
      "Example for 2-Dimensional numpy  array\n",
      "\n",
      "array : \n",
      " [[ 0  1  2  3  4]\n",
      " [ 5  6  7  8  9]\n",
      " [10 11 12 13 14]\n",
      " [15 16 17 18 19]]\n",
      "\n",
      "Type of a: <class 'numpy.ndarray'>\n",
      "Dimentions of a:  2\n",
      "Datatype of a:  int32\n"
     ]
    }
   ],
   "source": [
    "print(\"Example for 2-Dimensional numpy  array\\n\")\n",
    "\n",
    "a = np.array(np.arange(20).reshape(4,5))\n",
    "print(\"array : \\n\", a)\n",
    "print(\"\\nType of a:\", type(a))\n",
    "print(\"Dimentions of a: \", np.ndim(a))\n",
    "print(\"Datatype of a: \", a.dtype)"
   ]
  },
  {
   "cell_type": "code",
   "execution_count": 14,
   "metadata": {},
   "outputs": [
    {
     "name": "stdout",
     "output_type": "stream",
     "text": [
      "Example for 3-Dimensional numpy  array\n",
      "\n",
      "array : \n",
      " [[[ 0  1  2  3  4]\n",
      "  [ 5  6  7  8  9]]\n",
      "\n",
      " [[10 11 12 13 14]\n",
      "  [15 16 17 18 19]]]\n",
      "\n",
      "Type of a: <class 'numpy.ndarray'>\n",
      "Dimentions of a:  3\n",
      "Datatype of a:  int32\n"
     ]
    }
   ],
   "source": [
    "print(\"Example for 3-Dimensional numpy  array\\n\")\n",
    "\n",
    "a = np.array(np.arange(20).reshape(2,2,5))\n",
    "print(\"array : \\n\", a)\n",
    "print(\"\\nType of a:\", type(a))\n",
    "print(\"Dimentions of a: \", np.ndim(a))\n",
    "print(\"Datatype of a: \", a.dtype)"
   ]
  },
  {
   "cell_type": "code",
   "execution_count": 15,
   "metadata": {},
   "outputs": [
    {
     "name": "stdout",
     "output_type": "stream",
     "text": [
      "Example for 3-Dimensional numpy  array\n",
      "\n",
      "array : \n",
      " [[[ 0  1]\n",
      "  [ 2  3]\n",
      "  [ 4  5]\n",
      "  [ 6  7]\n",
      "  [ 8  9]]\n",
      "\n",
      " [[10 11]\n",
      "  [12 13]\n",
      "  [14 15]\n",
      "  [16 17]\n",
      "  [18 19]]]\n",
      "\n",
      "Type of a: <class 'numpy.ndarray'>\n",
      "Dimentions of a:  3\n",
      "Datatype of a:  int32\n"
     ]
    }
   ],
   "source": [
    "print(\"Example for 3-Dimensional numpy  array\\n\")\n",
    "\n",
    "a = np.array(np.arange(20).reshape(2,5,2))\n",
    "print(\"array : \\n\", a)\n",
    "print(\"\\nType of a:\", type(a))\n",
    "print(\"Dimentions of a: \", np.ndim(a))\n",
    "print(\"Datatype of a: \", a.dtype)"
   ]
  },
  {
   "cell_type": "markdown",
   "metadata": {},
   "source": [
    "# 3) ReShape the array"
   ]
  },
  {
   "cell_type": "code",
   "execution_count": 16,
   "metadata": {},
   "outputs": [
    {
     "name": "stdout",
     "output_type": "stream",
     "text": [
      "Example for 2-Dimensional numpy array with reshape\n",
      "\n",
      "reshape(#rows, #columns) = reshape(5,4)\n",
      "array : \n",
      " [[ 0  1  2  3]\n",
      " [ 4  5  6  7]\n",
      " [ 8  9 10 11]\n",
      " [12 13 14 15]\n",
      " [16 17 18 19]]\n",
      "\n",
      "Type of a: <class 'numpy.ndarray'>\n",
      "Dimentions of a:  2\n",
      "Datatype of a:  int32\n"
     ]
    }
   ],
   "source": [
    "#The reshape() function is used to give a new shape to an array without changing its data\n",
    "print(\"Example for 2-Dimensional numpy array with reshape\\n\")\n",
    "print(\"reshape(#rows, #columns) = reshape(5,4)\")\n",
    "\n",
    "a = np.array(np.arange(20).reshape(5,4))\n",
    "print(\"array : \\n\", a)\n",
    "print(\"\\nType of a:\", type(a))\n",
    "print(\"Dimentions of a: \", np.ndim(a))\n",
    "print(\"Datatype of a: \", a.dtype)"
   ]
  },
  {
   "cell_type": "code",
   "execution_count": 17,
   "metadata": {},
   "outputs": [
    {
     "name": "stdout",
     "output_type": "stream",
     "text": [
      "Example for 2-Dimensional numpy array with reshape\n",
      "\n",
      "reshape(#rows, #columns) = reshape(4,5)\n",
      "array : \n",
      " [[ 0  1  2  3  4]\n",
      " [ 5  6  7  8  9]\n",
      " [10 11 12 13 14]\n",
      " [15 16 17 18 19]]\n",
      "\n",
      "Type of a: <class 'numpy.ndarray'>\n",
      "Dimentions of a:  2\n",
      "Datatype of a:  int32\n"
     ]
    }
   ],
   "source": [
    "print(\"Example for 2-Dimensional numpy array with reshape\\n\")\n",
    "print(\"reshape(#rows, #columns) = reshape(4,5)\")\n",
    "\n",
    "a = np.array(np.arange(20).reshape(4,5))\n",
    "print(\"array : \\n\", a)\n",
    "print(\"\\nType of a:\", type(a))\n",
    "print(\"Dimentions of a: \", np.ndim(a))\n",
    "print(\"Datatype of a: \", a.dtype)"
   ]
  },
  {
   "cell_type": "code",
   "execution_count": 18,
   "metadata": {},
   "outputs": [
    {
     "name": "stdout",
     "output_type": "stream",
     "text": [
      "Example for 3-Dimensional numpy array with reshape\n",
      "\n",
      "reshape(#sets, #rows_in_each_set, #columns_in_each_set) = reshape(2,4,5)\n",
      "array : \n",
      " [[[ 0  1  2  3  4]\n",
      "  [ 5  6  7  8  9]\n",
      "  [10 11 12 13 14]\n",
      "  [15 16 17 18 19]]\n",
      "\n",
      " [[20 21 22 23 24]\n",
      "  [25 26 27 28 29]\n",
      "  [30 31 32 33 34]\n",
      "  [35 36 37 38 39]]]\n",
      "\n",
      "Type of a: <class 'numpy.ndarray'>\n",
      "Dimentions of a:  3\n",
      "Datatype of a:  int32\n"
     ]
    }
   ],
   "source": [
    "print(\"Example for 3-Dimensional numpy array with reshape\\n\")\n",
    "print(\"reshape(#sets, #rows_in_each_set, #columns_in_each_set) = reshape(2,4,5)\")\n",
    "\n",
    "a = np.array(np.arange(40).reshape(2,4,5))\n",
    "print(\"array : \\n\", a)\n",
    "print(\"\\nType of a:\", type(a))\n",
    "print(\"Dimentions of a: \", np.ndim(a))\n",
    "print(\"Datatype of a: \", a.dtype)"
   ]
  },
  {
   "cell_type": "markdown",
   "metadata": {},
   "source": [
    "# 4) Shape of Array"
   ]
  },
  {
   "cell_type": "code",
   "execution_count": 35,
   "metadata": {},
   "outputs": [
    {
     "name": "stdout",
     "output_type": "stream",
     "text": [
      "Example of Shape function for 0-Dimensional array:\n",
      "\n",
      "array: \n",
      " 20\n",
      "\n",
      "Shape:  ()\n",
      "\n",
      "Shape:  ()\n",
      "\n",
      "# of Dimensions 0\n"
     ]
    }
   ],
   "source": [
    "#shape--> returns share of the array\n",
    "\n",
    "print(\"Example of Shape function for 0-Dimensional array:\\n\")\n",
    "a = np.array(20)\n",
    "print(\"array: \\n\", a)\n",
    "print(\"\\nShape: \", np.shape(a)) #approach1\n",
    "\n",
    "print(\"\\nShape: \", a.shape)#approach2\n",
    "print(\"\\n# of Dimensions\", np.ndim(a))\n"
   ]
  },
  {
   "cell_type": "code",
   "execution_count": 36,
   "metadata": {},
   "outputs": [
    {
     "name": "stdout",
     "output_type": "stream",
     "text": [
      "Example of Shape function for 1-Dimensional array:\n",
      "\n",
      "array: \n",
      " [0 1 2 3 4 5 6 7 8 9]\n",
      "\n",
      "Shape:  (10,)\n",
      "\n",
      "Shape:  (10,)\n",
      "\n",
      "# of Dimensions 1\n"
     ]
    }
   ],
   "source": [
    "print(\"Example of Shape function for 1-Dimensional array:\\n\")\n",
    "a = np.array(np.arange(10))\n",
    "print(\"array: \\n\", a)\n",
    "print(\"\\nShape: \", np.shape(a)) #approach1\n",
    "\n",
    "print(\"\\nShape: \", a.shape)#approach2\n",
    "print(\"\\n# of Dimensions\", np.ndim(a))\n"
   ]
  },
  {
   "cell_type": "code",
   "execution_count": 38,
   "metadata": {},
   "outputs": [
    {
     "name": "stdout",
     "output_type": "stream",
     "text": [
      "Example of Shape function for 2-Dimensional array:\n",
      "\n",
      "array: \n",
      " [[0 1 2 3 4]\n",
      " [5 6 7 8 9]]\n",
      "\n",
      "Shape:  (2, 5)\n",
      "\n",
      "Shape:  (2, 5)\n",
      "\n",
      "# of Dimensions 2\n"
     ]
    }
   ],
   "source": [
    "print(\"Example of Shape function for 2-Dimensional array:\\n\")\n",
    "a = np.array(np.arange(10).reshape(2,5))\n",
    "print(\"array: \\n\", a)\n",
    "print(\"\\nShape: \", np.shape(a)) #approach1\n",
    "\n",
    "print(\"\\nShape: \", a.shape)#approach2\n",
    "print(\"\\n# of Dimensions\", np.ndim(a))\n"
   ]
  },
  {
   "cell_type": "code",
   "execution_count": 40,
   "metadata": {},
   "outputs": [
    {
     "name": "stdout",
     "output_type": "stream",
     "text": [
      "Example of Shape function for 3-Dimensional array:\n",
      "\n",
      "array: \n",
      " [[[ 0  1]\n",
      "  [ 2  3]\n",
      "  [ 4  5]\n",
      "  [ 6  7]\n",
      "  [ 8  9]]\n",
      "\n",
      " [[10 11]\n",
      "  [12 13]\n",
      "  [14 15]\n",
      "  [16 17]\n",
      "  [18 19]]]\n",
      "\n",
      "Shape:  (2, 5, 2)\n",
      "\n",
      "Shape:  (2, 5, 2)\n",
      "\n",
      "# of Dimensions 3\n"
     ]
    }
   ],
   "source": [
    "print(\"Example of Shape function for 3-Dimensional array:\\n\")\n",
    "a = np.array(np.arange(20).reshape(2,5,2))\n",
    "print(\"array: \\n\", a)\n",
    "print(\"\\nShape: \", np.shape(a)) #approach1\n",
    "\n",
    "print(\"\\nShape: \", a.shape)#approach2\n",
    "print(\"\\n# of Dimensions\", np.ndim(a))\n"
   ]
  },
  {
   "cell_type": "code",
   "execution_count": 72,
   "metadata": {},
   "outputs": [
    {
     "name": "stdout",
     "output_type": "stream",
     "text": [
      "Example of Shape function for 2-Dimensional array and reassign the shape of array:\n",
      "\n",
      "array: \n",
      " [[ 0  1  2  3  4]\n",
      " [ 5  6  7  8  9]\n",
      " [10 11 12 13 14]\n",
      " [15 16 17 18 19]]\n",
      "\n",
      "Shape:  (4, 5)\n",
      "\n",
      "Shape:  (4, 5)\n",
      "\n",
      "# of Dimensions 2\n",
      "\n",
      "Re assign the shape of array to 2,10\n",
      "\n",
      "array: \n",
      " [[ 0  1  2  3  4  5  6  7  8  9]\n",
      " [10 11 12 13 14 15 16 17 18 19]]\n"
     ]
    }
   ],
   "source": [
    "print(\"Example of Shape function for 2-Dimensional array and reassign the shape of array:\\n\")\n",
    "a = np.array(np.arange(20).reshape(4,5))\n",
    "print(\"array: \\n\", a)\n",
    "print(\"\\nShape: \", np.shape(a)) #approach1\n",
    "\n",
    "print(\"\\nShape: \", a.shape)#approach2\n",
    "print(\"\\n# of Dimensions\", np.ndim(a))\n",
    "\n",
    "print(\"\\nRe assign the shape of array to 2,10\\n\")\n",
    "a.shape = (2,10)\n",
    "print(\"array: \\n\", a)\n"
   ]
  },
  {
   "cell_type": "markdown",
   "metadata": {},
   "source": [
    "# 5) Indexing and Slicing"
   ]
  },
  {
   "cell_type": "code",
   "execution_count": 57,
   "metadata": {},
   "outputs": [
    {
     "name": "stdout",
     "output_type": "stream",
     "text": [
      "Indexing Example for 1D array\n",
      "\n",
      " Array: [0 1 2 3 4 5 6 7]\n",
      "\n",
      " Access 3rd elements in Array:  2\n",
      "\n",
      " Access first elements in Array:  0\n",
      "\n",
      " Access last elements in Array:  7\n"
     ]
    }
   ],
   "source": [
    "#By using index we can access the elements in a Numpy array just like accessing elements in List, Tuple\n",
    "#A[start:stop:step] this conecpt applicable to slicing the Numpy array aswell\n",
    "print(\"Indexing Example for 1D array\")\n",
    "a = np.array([0,1,2,3,4,5,6,7])\n",
    "\n",
    "print(\"\\n Array:\", a)\n",
    "print(\"\\n Access 3rd elements in Array: \", a[2])\n",
    "print(\"\\n Access first elements in Array: \", a[0])\n",
    "print(\"\\n Access last elements in Array: \", a[-1])"
   ]
  },
  {
   "cell_type": "code",
   "execution_count": 56,
   "metadata": {},
   "outputs": [
    {
     "name": "stdout",
     "output_type": "stream",
     "text": [
      "Indexing Example for 3D array\n",
      "\n",
      " Array:\n",
      " [[ 0  1  2  3  4]\n",
      " [ 5  6  7  8  9]\n",
      " [10 11 12 13 14]\n",
      " [15 16 17 18 19]]\n",
      "\n",
      " Access 1st row in Array:  [0 1 2 3 4]\n",
      "\n",
      " Access last row in Array:  [15 16 17 18 19]\n",
      "\n",
      " Access first column in Array:  [ 0  5 10 15]\n",
      "\n",
      " Access last column in Array:  [ 4  9 14 19]\n"
     ]
    }
   ],
   "source": [
    "print(\"Indexing Example for 3D array\")\n",
    "a = np.array(np.arange(20).reshape(4,5))\n",
    "\n",
    "print(\"\\n Array:\\n\", a)\n",
    "print(\"\\n Access 1st row in Array: \", a[0])\n",
    "print(\"\\n Access last row in Array: \", a[-1])\n",
    "print(\"\\n Access first column in Array: \", a[:,0])\n",
    "print(\"\\n Access last column in Array: \", a[:,-1])"
   ]
  },
  {
   "cell_type": "code",
   "execution_count": 58,
   "metadata": {},
   "outputs": [
    {
     "name": "stdout",
     "output_type": "stream",
     "text": [
      "Slicing Example for 3D array\n",
      "\n",
      " Array:\n",
      " [[ 0  1  2  3  4]\n",
      " [ 5  6  7  8  9]\n",
      " [10 11 12 13 14]\n",
      " [15 16 17 18 19]]\n",
      "\n",
      " Access middle array by eliminating borders:\n",
      "  [[ 6  7  8]\n",
      " [11 12 13]]\n"
     ]
    }
   ],
   "source": [
    "print(\"Slicing Example for 3D array\")\n",
    "a = np.array(np.arange(20).reshape(4,5))\n",
    "\n",
    "print(\"\\n Array:\\n\", a)\n",
    "print(\"\\n Access middle array by eliminating borders:\\n \", a[1:3,1:4])\n"
   ]
  },
  {
   "cell_type": "code",
   "execution_count": 2,
   "metadata": {},
   "outputs": [
    {
     "name": "stdout",
     "output_type": "stream",
     "text": [
      "Slicing Example for 2D array with 3 parameters.A[start:stop:step]\n",
      "\n",
      " Array:\n",
      " [[ 0  1  2  3  4]\n",
      " [ 5  6  7  8  9]\n",
      " [10 11 12 13 14]\n",
      " [15 16 17 18 19]\n",
      " [20 21 22 23 24]\n",
      " [25 26 27 28 29]\n",
      " [30 31 32 33 34]\n",
      " [35 36 37 38 39]]\n",
      "\n",
      " Access array with 3 parameters A[start:stop:step]:\n",
      "  [[ 5  6  7  8  9]\n",
      " [15 16 17 18 19]\n",
      " [25 26 27 28 29]]\n"
     ]
    }
   ],
   "source": [
    "print(\"Slicing Example for 2D array with 3 parameters.A[start:stop:step]\")\n",
    "a = np.array(np.arange(40).reshape(8,5))\n",
    "\n",
    "print(\"\\n Array:\\n\", a)\n",
    "print(\"\\n Access array with 3 parameters A[start:stop:step]:\\n \", a[1:6:2])\n"
   ]
  },
  {
   "cell_type": "markdown",
   "metadata": {},
   "source": [
    "# 6) Numpy Special Arrays: \n",
    "# ones(), ones_like(), zeros(), zeros_like(), empty(), transpose()"
   ]
  },
  {
   "cell_type": "markdown",
   "metadata": {},
   "source": [
    "### np.ones()"
   ]
  },
  {
   "cell_type": "code",
   "execution_count": 10,
   "metadata": {},
   "outputs": [
    {
     "name": "stdout",
     "output_type": "stream",
     "text": [
      "Ones() Example: with float type.\n",
      "\n",
      "Array:\n",
      " [1. 1. 1. 1. 1.]\n",
      "\n",
      "Array Dimension: 1\n"
     ]
    }
   ],
   "source": [
    "#np.ones()--> is used to fill all ones in array with given shape.\n",
    "#bydefault it will be float type\n",
    "\n",
    "print(\"Ones() Example: with float type.\\n\")\n",
    "a = np.ones(5)\n",
    "print(\"Array:\\n\",a)\n",
    "print(\"\\nArray Dimension:\", a.ndim)"
   ]
  },
  {
   "cell_type": "code",
   "execution_count": 13,
   "metadata": {
    "scrolled": true
   },
   "outputs": [
    {
     "name": "stdout",
     "output_type": "stream",
     "text": [
      "Ones() Example: with float type.\n",
      "\n",
      "Array:\n",
      " [1 1 1 1 1]\n",
      "\n",
      "Array Dimension: 1\n"
     ]
    }
   ],
   "source": [
    "print(\"Ones() Example: with defined type.\\n\")\n",
    "\n",
    "a = np.ones(5, dtype=int)\n",
    "print(\"Array:\\n\",a)\n",
    "print(\"\\nArray Dimension:\", a.ndim)"
   ]
  },
  {
   "cell_type": "code",
   "execution_count": 15,
   "metadata": {},
   "outputs": [
    {
     "name": "stdout",
     "output_type": "stream",
     "text": [
      "Ones() Example: with defined type and 2D array.\n",
      "\n",
      "Array:\n",
      " [[1 1 1 1 1]\n",
      " [1 1 1 1 1]\n",
      " [1 1 1 1 1]\n",
      " [1 1 1 1 1]]\n",
      "\n",
      "Array Dimension: 2\n"
     ]
    }
   ],
   "source": [
    "print(\"Ones() Example: with defined type and 2D array.\\n\")\n",
    "\n",
    "a = np.ones((4,5), dtype=int)\n",
    "print(\"Array:\\n\",a)\n",
    "print(\"\\nArray Dimension:\", a.ndim)"
   ]
  },
  {
   "cell_type": "code",
   "execution_count": 19,
   "metadata": {},
   "outputs": [
    {
     "name": "stdout",
     "output_type": "stream",
     "text": [
      "Ones() Example: with defined type and 3D array.\n",
      "\n",
      "Array:\n",
      " [[[1 1 1 1 1]\n",
      "  [1 1 1 1 1]\n",
      "  [1 1 1 1 1]\n",
      "  [1 1 1 1 1]]\n",
      "\n",
      " [[1 1 1 1 1]\n",
      "  [1 1 1 1 1]\n",
      "  [1 1 1 1 1]\n",
      "  [1 1 1 1 1]]\n",
      "\n",
      " [[1 1 1 1 1]\n",
      "  [1 1 1 1 1]\n",
      "  [1 1 1 1 1]\n",
      "  [1 1 1 1 1]]]\n",
      "\n",
      "Array Dimension: 3\n"
     ]
    }
   ],
   "source": [
    "print(\"Ones() Example: with defined type and 3D array.\\n\")\n",
    "\n",
    "a = np.ones((3,4,5), dtype=int)\n",
    "print(\"Array:\\n\",a)\n",
    "print(\"\\nArray Dimension:\", a.ndim)"
   ]
  },
  {
   "cell_type": "markdown",
   "metadata": {},
   "source": [
    "### np.ones_like()"
   ]
  },
  {
   "cell_type": "code",
   "execution_count": 18,
   "metadata": {},
   "outputs": [
    {
     "name": "stdout",
     "output_type": "stream",
     "text": [
      "Example Array:\n",
      " [8 4 5 6 3]\n",
      "\n",
      "Target Array:\n",
      " [1 1 1 1 1]\n"
     ]
    }
   ],
   "source": [
    "#ones_like(<other_array_name>)--> used to print ones array in given ohter array dimension\n",
    "example_array = np.array([8,4,5,6,3])\n",
    "target_array = np.ones_like(example_array)\n",
    "print(\"Example Array:\\n\",example_array)\n",
    "print(\"\\nTarget Array:\\n\",target_array)"
   ]
  },
  {
   "cell_type": "code",
   "execution_count": 21,
   "metadata": {},
   "outputs": [
    {
     "name": "stdout",
     "output_type": "stream",
     "text": [
      "Example Array:\n",
      " [[[ 0  1  2  3  4]\n",
      "  [ 5  6  7  8  9]\n",
      "  [10 11 12 13 14]\n",
      "  [15 16 17 18 19]]\n",
      "\n",
      " [[20 21 22 23 24]\n",
      "  [25 26 27 28 29]\n",
      "  [30 31 32 33 34]\n",
      "  [35 36 37 38 39]]]\n",
      "\n",
      "Target Array:\n",
      " [[[1 1 1 1 1]\n",
      "  [1 1 1 1 1]\n",
      "  [1 1 1 1 1]\n",
      "  [1 1 1 1 1]]\n",
      "\n",
      " [[1 1 1 1 1]\n",
      "  [1 1 1 1 1]\n",
      "  [1 1 1 1 1]\n",
      "  [1 1 1 1 1]]]\n"
     ]
    }
   ],
   "source": [
    "example_array = np.arange(40).reshape(2,4,5)\n",
    "target_array = np.ones_like(example_array)\n",
    "print(\"Example Array:\\n\",example_array)\n",
    "print(\"\\nTarget Array:\\n\",target_array)"
   ]
  },
  {
   "cell_type": "markdown",
   "metadata": {},
   "source": [
    "### np.zeros()"
   ]
  },
  {
   "cell_type": "code",
   "execution_count": 23,
   "metadata": {},
   "outputs": [
    {
     "name": "stdout",
     "output_type": "stream",
     "text": [
      "Zeros() Example: with defined type and 1D array.\n",
      "\n",
      "Array:\n",
      " [0 0 0 0 0]\n",
      "\n",
      "Array Dimension: 1\n"
     ]
    }
   ],
   "source": [
    "#np.zeros()--> is used to fill all zeros in array with given shape.\n",
    "#bydefault it will be float type\n",
    "\n",
    "print(\"Zeros() Example: with defined type and 1D array.\\n\")\n",
    "\n",
    "a = np.zeros(5, dtype=int)\n",
    "print(\"Array:\\n\",a)\n",
    "print(\"\\nArray Dimension:\", a.ndim)"
   ]
  },
  {
   "cell_type": "code",
   "execution_count": 24,
   "metadata": {},
   "outputs": [
    {
     "name": "stdout",
     "output_type": "stream",
     "text": [
      "Zeros() Example: with defined type and 2D array.\n",
      "\n",
      "Array:\n",
      " [[0 0 0 0 0]\n",
      " [0 0 0 0 0]\n",
      " [0 0 0 0 0]\n",
      " [0 0 0 0 0]]\n",
      "\n",
      "Array Dimension: 2\n"
     ]
    }
   ],
   "source": [
    "print(\"Zeros() Example: with defined type and 2D array.\\n\")\n",
    "\n",
    "a = np.zeros((4,5), dtype=int)\n",
    "print(\"Array:\\n\",a)\n",
    "print(\"\\nArray Dimension:\", a.ndim)"
   ]
  },
  {
   "cell_type": "code",
   "execution_count": 25,
   "metadata": {},
   "outputs": [
    {
     "name": "stdout",
     "output_type": "stream",
     "text": [
      "Zeros() Example: with defined type and 3D array.\n",
      "\n",
      "Array:\n",
      " [[[0 0 0 0 0]\n",
      "  [0 0 0 0 0]\n",
      "  [0 0 0 0 0]\n",
      "  [0 0 0 0 0]]\n",
      "\n",
      " [[0 0 0 0 0]\n",
      "  [0 0 0 0 0]\n",
      "  [0 0 0 0 0]\n",
      "  [0 0 0 0 0]]\n",
      "\n",
      " [[0 0 0 0 0]\n",
      "  [0 0 0 0 0]\n",
      "  [0 0 0 0 0]\n",
      "  [0 0 0 0 0]]]\n",
      "\n",
      "Array Dimension: 3\n"
     ]
    }
   ],
   "source": [
    "print(\"Zeros() Example: with defined type and 3D array.\\n\")\n",
    "\n",
    "a = np.zeros((3,4,5), dtype=int)\n",
    "print(\"Array:\\n\",a)\n",
    "print(\"\\nArray Dimension:\", a.ndim)"
   ]
  },
  {
   "cell_type": "markdown",
   "metadata": {},
   "source": [
    "### np.zeros_like()"
   ]
  },
  {
   "cell_type": "code",
   "execution_count": 26,
   "metadata": {},
   "outputs": [
    {
     "name": "stdout",
     "output_type": "stream",
     "text": [
      "Example Array:\n",
      " [[[ 0  1  2  3  4]\n",
      "  [ 5  6  7  8  9]\n",
      "  [10 11 12 13 14]\n",
      "  [15 16 17 18 19]]\n",
      "\n",
      " [[20 21 22 23 24]\n",
      "  [25 26 27 28 29]\n",
      "  [30 31 32 33 34]\n",
      "  [35 36 37 38 39]]]\n",
      "\n",
      "Target Array:\n",
      " [[[0 0 0 0 0]\n",
      "  [0 0 0 0 0]\n",
      "  [0 0 0 0 0]\n",
      "  [0 0 0 0 0]]\n",
      "\n",
      " [[0 0 0 0 0]\n",
      "  [0 0 0 0 0]\n",
      "  [0 0 0 0 0]\n",
      "  [0 0 0 0 0]]]\n"
     ]
    }
   ],
   "source": [
    "example_array = np.arange(40).reshape(2,4,5)\n",
    "target_array = np.zeros_like(example_array)\n",
    "print(\"Example Array:\\n\",example_array)\n",
    "print(\"\\nTarget Array:\\n\",target_array)"
   ]
  },
  {
   "cell_type": "markdown",
   "metadata": {},
   "source": [
    "### np.empty()"
   ]
  },
  {
   "cell_type": "code",
   "execution_count": 33,
   "metadata": {},
   "outputs": [
    {
     "data": {
      "text/plain": [
       "array([[0., 0., 0., 0., 0.],\n",
       "       [0., 0., 0., 0., 0.],\n",
       "       [0., 0., 0., 0., 0.]])"
      ]
     },
     "execution_count": 33,
     "metadata": {},
     "output_type": "execute_result"
    }
   ],
   "source": [
    "#np.empty()--> usually entries are zeros, but they are arbitrary values.\n",
    "a = np.empty((3,5))\n",
    "a"
   ]
  },
  {
   "cell_type": "markdown",
   "metadata": {},
   "source": [
    "### np.transpose()"
   ]
  },
  {
   "cell_type": "code",
   "execution_count": 46,
   "metadata": {
    "scrolled": true
   },
   "outputs": [
    {
     "name": "stdout",
     "output_type": "stream",
     "text": [
      "Examp[le for Transpose function\n",
      "\n",
      "Array A:\n",
      " [[ 0  1  2  3]\n",
      " [ 4  5  6  7]\n",
      " [ 8  9 10 11]]\n",
      "Shape of A: (3, 4)\n",
      "\n",
      "Transposed Array B:\n",
      " [[ 0  4  8]\n",
      " [ 1  5  9]\n",
      " [ 2  6 10]\n",
      " [ 3  7 11]]\n",
      "Shape of B: (4, 3)\n"
     ]
    }
   ],
   "source": [
    "#np.transpose() --> will convert rows into columns and columns into rows\n",
    "print(\"Examp[le for Transpose function\")\n",
    "\n",
    "a = np.array(np.arange(12).reshape(3,4))\n",
    "print(\"\\nArray A:\\n\",a)\n",
    "print(\"Shape of A:\",a.shape)\n",
    "\n",
    "#b = a.transpose()  --> #same as below\n",
    "b = np.transpose(a)\n",
    "print(\"\\nTransposed Array B:\\n\",b)\n",
    "print(\"Shape of B:\",b.shape)"
   ]
  },
  {
   "cell_type": "code",
   "execution_count": 56,
   "metadata": {},
   "outputs": [
    {
     "name": "stdout",
     "output_type": "stream",
     "text": [
      "Example for Transpose function\n",
      "\n",
      "Array A:\n",
      " [0 1 2]\n",
      "Shape of A: (3,)\n",
      "\n",
      "Transposed Array B:\n",
      " [0 1 2]\n",
      "Shape of B: (3,)\n",
      "\n",
      "\n",
      "##################################################\n",
      "\n",
      "So 1-D arrays transpose will not be applicable ###Solution: -->use np.newaxis\n",
      "\n",
      "Array A:\n",
      " [0 1 2]\n",
      "Shape of A: (3,)\n",
      "\n",
      "Transposed Array B:\n",
      " [[0]\n",
      " [1]\n",
      " [2]]\n",
      "Shape of B: (3, 1)\n"
     ]
    }
   ],
   "source": [
    "print(\"Example for Transpose function\")\n",
    "\n",
    "a = np.array(np.arange(3))\n",
    "print(\"\\nArray A:\\n\",a)\n",
    "print(\"Shape of A:\",a.shape)\n",
    "\n",
    "#b = a.transpose()  --> #same as below\n",
    "b = np.transpose(a)\n",
    "print(\"\\nTransposed Array B:\\n\",b)\n",
    "print(\"Shape of B:\",b.shape)\n",
    "\n",
    "\n",
    "print(\"\\n\\n##################################################\\n\")\n",
    "print(\"So 1-D arrays transpose will not be applicable ###Solution: -->use np.newaxis\")\n",
    " \n",
    "a = np.array(np.arange(3))\n",
    "print(\"\\nArray A:\\n\",a)\n",
    "print(\"Shape of A:\",a.shape)\n",
    "\n",
    "b = a[:, np.newaxis]\n",
    "print(\"\\nTransposed Array B:\\n\",b)\n",
    "print(\"Shape of B:\",b.shape)"
   ]
  },
  {
   "cell_type": "markdown",
   "metadata": {},
   "source": [
    "# 7) Identity Array: np.identity(), np.eye()"
   ]
  },
  {
   "cell_type": "markdown",
   "metadata": {},
   "source": [
    "### np.identity()"
   ]
  },
  {
   "cell_type": "code",
   "execution_count": 35,
   "metadata": {},
   "outputs": [
    {
     "name": "stdout",
     "output_type": "stream",
     "text": [
      "Example of Identity Array\n",
      "\n"
     ]
    },
    {
     "data": {
      "text/plain": [
       "array([[1., 0., 0., 0.],\n",
       "       [0., 1., 0., 0.],\n",
       "       [0., 0., 1., 0.],\n",
       "       [0., 0., 0., 1.]])"
      ]
     },
     "execution_count": 35,
     "metadata": {},
     "output_type": "execute_result"
    }
   ],
   "source": [
    "#np.identity(n, dtype=None)\n",
    "#In linear algebra, the identity matrix or unit matrix, of size n is the n × n square matrix.\n",
    "#values with ones on the main diagonal and zeros elsewhere.\n",
    "\n",
    "print(\"Example of Identity Array 4X4\\n\")\n",
    "a = np.identity(4)\n",
    "a"
   ]
  },
  {
   "cell_type": "code",
   "execution_count": 38,
   "metadata": {},
   "outputs": [
    {
     "name": "stdout",
     "output_type": "stream",
     "text": [
      "Example of Identity Array 5X5, with Int type\n",
      "\n"
     ]
    },
    {
     "data": {
      "text/plain": [
       "array([[1, 0, 0, 0, 0],\n",
       "       [0, 1, 0, 0, 0],\n",
       "       [0, 0, 1, 0, 0],\n",
       "       [0, 0, 0, 1, 0],\n",
       "       [0, 0, 0, 0, 1]])"
      ]
     },
     "execution_count": 38,
     "metadata": {},
     "output_type": "execute_result"
    }
   ],
   "source": [
    "print(\"Example of Identity Array 5X5, with Int type\\n\")\n",
    "a = np.identity(5, int)\n",
    "a"
   ]
  },
  {
   "cell_type": "markdown",
   "metadata": {},
   "source": [
    "### np.eye()"
   ]
  },
  {
   "cell_type": "code",
   "execution_count": 42,
   "metadata": {},
   "outputs": [
    {
     "name": "stdout",
     "output_type": "stream",
     "text": [
      "Example of Eye Array 4X4 . If we give single parameter it will become square matrix\n",
      "\n"
     ]
    },
    {
     "data": {
      "text/plain": [
       "array([[1, 0, 0, 0],\n",
       "       [0, 1, 0, 0],\n",
       "       [0, 0, 1, 0],\n",
       "       [0, 0, 0, 1]])"
      ]
     },
     "execution_count": 42,
     "metadata": {},
     "output_type": "execute_result"
    }
   ],
   "source": [
    "#np.eye(N,M,K=0, dtype=None)\n",
    "#In linear algebra, the identity matrix or unit matrix, of size N X M  matrix.\n",
    "#values with ones on the main diagonal and zeros elsewhere, but diagonal will starts at K ht position.\n",
    "\n",
    "print(\"Example of Eye Array 4X4 . If we give single parameter it will become square matrix\\n\")\n",
    "a = np.eye(4, dtype=int)\n",
    "a"
   ]
  },
  {
   "cell_type": "code",
   "execution_count": 47,
   "metadata": {},
   "outputs": [
    {
     "name": "stdout",
     "output_type": "stream",
     "text": [
      "Eye(rows, columns) ecample. We have given rows X columns size. 4X6 Matrix\n"
     ]
    },
    {
     "data": {
      "text/plain": [
       "array([[1, 0, 0, 0, 0, 0],\n",
       "       [0, 1, 0, 0, 0, 0],\n",
       "       [0, 0, 1, 0, 0, 0],\n",
       "       [0, 0, 0, 1, 0, 0]])"
      ]
     },
     "execution_count": 47,
     "metadata": {},
     "output_type": "execute_result"
    }
   ],
   "source": [
    "# rows X columns \n",
    "\n",
    "print(\"Eye(rows, columns) ecample. We have given rows X columns size. 4X6 Matrix\")\n",
    "a = np.eye(4,6, dtype=int)\n",
    "a"
   ]
  },
  {
   "cell_type": "code",
   "execution_count": 59,
   "metadata": {},
   "outputs": [
    {
     "name": "stdout",
     "output_type": "stream",
     "text": [
      "Eye(rows, columns) ecample. We have given rows X columns size. 4X6 Matrix\n",
      "\n",
      "without K value:Array:\n",
      " [[1 0 0 0 0 0]\n",
      " [0 1 0 0 0 0]\n",
      " [0 0 1 0 0 0]\n",
      " [0 0 0 1 0 0]]\n",
      "\n",
      "\n",
      "Eye(rows, columns, position_of_identiy_value) ecample. We have given rows X columns size.\n",
      "4X6 Matrix, identity starts at 2nd position\n"
     ]
    },
    {
     "data": {
      "text/plain": [
       "array([[0, 0, 1, 0, 0, 0],\n",
       "       [0, 0, 0, 1, 0, 0],\n",
       "       [0, 0, 0, 0, 1, 0],\n",
       "       [0, 0, 0, 0, 0, 1]])"
      ]
     },
     "execution_count": 59,
     "metadata": {},
     "output_type": "execute_result"
    }
   ],
   "source": [
    "# rows X columns with diagonal value position its K\n",
    "\n",
    "print(\"Eye(rows, columns) ecample. We have given rows X columns size. 4X6 Matrix\")\n",
    "a = np.eye(4,6, dtype=int)\n",
    "print(\"\\nwithout K value:Array:\\n\",a)\n",
    "\n",
    "\n",
    "print(\"\\n\\nEye(rows, columns, position_of_identiy_value) ecample. We have given rows X columns size.\\\n",
    "\\n4X6 Matrix, identity starts at 2nd position\")\n",
    "a = np.eye(4,6,k=2, dtype=int)\n",
    "a"
   ]
  },
  {
   "cell_type": "markdown",
   "metadata": {},
   "source": [
    "# 8) Copies and Views "
   ]
  },
  {
   "cell_type": "markdown",
   "metadata": {},
   "source": [
    "### Case1:simple assignment. B = A"
   ]
  },
  {
   "cell_type": "code",
   "execution_count": 6,
   "metadata": {},
   "outputs": [
    {
     "name": "stdout",
     "output_type": "stream",
     "text": [
      "Simple assignments make no copy of objects or their data.\n",
      "\n",
      "Given Array A:\n",
      " [[ 0  1  2  3]\n",
      " [ 4  5  6  7]\n",
      " [ 8  9 10 11]]\n",
      "\n",
      "assigning B = A\n",
      "\n",
      "\n",
      "Assigned Array B:\n",
      " [[ 0  1  2  3]\n",
      " [ 4  5  6  7]\n",
      " [ 8  9 10 11]]\n",
      "\n",
      "\n",
      "ID's: \n",
      "\tA id =  1960538728048 \n",
      "\tB id =  1960538728048\n",
      "\n",
      "B IS A : True\n",
      "\n",
      "SO, simple assignment will not copy a new array\n",
      "\n",
      "\n",
      "Modifiy value in b[1][1]=999\n",
      "\n",
      "Given Array A:\n",
      " [[  0   1   2   3]\n",
      " [  4 999   6   7]\n",
      " [  8   9  10  11]]\n",
      "\n",
      "\n",
      "Assigned Array B:\n",
      " [[  0   1   2   3]\n",
      " [  4 999   6   7]\n",
      " [  8   9  10  11]]\n"
     ]
    }
   ],
   "source": [
    "#When operating and manipulating arrays, their data is sometimes copied into a new array and sometimes not.\n",
    "#Simple assignments make no copy of objects or their data.\n",
    "\n",
    "print(\"Simple assignments make no copy of objects or their data.\\n\")\n",
    "\n",
    "a = np.array(np.arange(12).reshape(3,4))\n",
    "print(\"Given Array A:\\n\",a)\n",
    "\n",
    "#Assign array A to B:\n",
    "b = a\n",
    "print(\"\\nassigning B = A\")\n",
    "print(\"\\n\\nAssigned Array B:\\n\",b)\n",
    "\n",
    "#check their ID's\n",
    "print(\"\\n\\nID's: \\n\\tA id = \",id(a),\"\\n\\tB id = \", id(b))\n",
    "\n",
    "#check with is cluase:\n",
    "print(\"\\nB IS A :\", b is a)\n",
    "\n",
    "print(\"\\nSO, simple assignment will not copy a new array\")\n",
    "\n",
    "#lets test:\n",
    "print(\"\\n\\nModifiy value in b[1][1]=999\")\n",
    "b[1][1]=999\n",
    "print(\"\\nGiven Array A:\\n\",a)\n",
    "print(\"\\n\\nAssigned Array B:\\n\",b)"
   ]
  },
  {
   "cell_type": "markdown",
   "metadata": {},
   "source": [
    "### Case2: view() --> Shallow Copy"
   ]
  },
  {
   "cell_type": "code",
   "execution_count": 120,
   "metadata": {
    "scrolled": true
   },
   "outputs": [
    {
     "name": "stdout",
     "output_type": "stream",
     "text": [
      "Initial Arrays:b = a.view():#################################\n",
      "\n",
      "Array A\n",
      " [[ 0  1  2  3  4]\n",
      " [ 5  6  7  8  9]\n",
      " [10 11 12 13 14]\n",
      " [15 16 17 18 19]]\n",
      "\n",
      "Array B\n",
      " [[ 0  1  2  3  4]\n",
      " [ 5  6  7  8  9]\n",
      " [10 11 12 13 14]\n",
      " [15 16 17 18 19]]\n",
      "\n",
      "ID's: \n",
      "\tA id =  2055081117376 \n",
      "\tB id =  2055081117616\n",
      "B is A:  False\n",
      "B.base is A:  True\n",
      "\n",
      "\n",
      "Changing shapes:b.shape = (2,10):#################################\n",
      "\n",
      "Array A\n",
      " [[ 0  1  2  3  4]\n",
      " [ 5  6  7  8  9]\n",
      " [10 11 12 13 14]\n",
      " [15 16 17 18 19]]\n",
      "\n",
      "Array B\n",
      " [[ 0  1  2  3  4  5  6  7  8  9]\n",
      " [10 11 12 13 14 15 16 17 18 19]]\n",
      "\n",
      "ID's: \n",
      "\tA id =  2055081117376 \n",
      "\tB id =  2055081117616\n",
      "B is A:  False\n",
      "B.base is A:  True\n",
      "\n",
      "\n",
      "Changing values:b[0][0] = 999:#################################\n",
      "\n",
      "Array A\n",
      " [[999   1   2   3   4]\n",
      " [  5   6   7   8   9]\n",
      " [ 10  11  12  13  14]\n",
      " [ 15  16  17  18  19]]\n",
      "\n",
      "Array B\n",
      " [[999   1   2   3   4   5   6   7   8   9]\n",
      " [ 10  11  12  13  14  15  16  17  18  19]]\n",
      "\n",
      "ID's: \n",
      "\tA id =  2055081117376 \n",
      "\tB id =  2055081117616\n",
      "B is A:  False\n",
      "B.base is A:  True\n"
     ]
    }
   ],
   "source": [
    "#view()--> will create a new array, \n",
    "#But if we assing new values, our old reference also get reflected. \n",
    "#still we cannot change the shape of the array\n",
    "#base is same.\n",
    "\n",
    "\n",
    "print(\"Initial Arrays:b = a.view():#################################\\n\")\n",
    "a = np.array(np.arange(20).reshape(4,5))\n",
    "print(\"Array A\\n\",a)\n",
    "\n",
    "b = a.view()\n",
    "print(\"\\nArray B\\n\",b)\n",
    "print(\"\\nID's: \\n\\tA id = \",id(a),\"\\n\\tB id = \", id(b))\n",
    "print(\"B is A: \", b is a)\n",
    "print(\"B.base is A: \", b.base is a)\n",
    "\n",
    "\n",
    "print(\"\\n\\nChanging shapes:b.shape = (2,10):#################################\")\n",
    "#change the shape of b\n",
    "b.shape = (2,10)\n",
    "print(\"\\nArray A\\n\",a)\n",
    "print(\"\\nArray B\\n\",b)\n",
    "print(\"\\nID's: \\n\\tA id = \",id(a),\"\\n\\tB id = \", id(b))\n",
    "print(\"B is A: \", b is a)\n",
    "print(\"B.base is A: \", b.base is a)\n",
    "\n",
    "\n",
    "print(\"\\n\\nChanging values:b[0][0] = 999:#################################\")\n",
    "#change the value in b\n",
    "b[0][0] = 999\n",
    "print(\"\\nArray A\\n\",a)\n",
    "print(\"\\nArray B\\n\",b)\n",
    "print(\"\\nID's: \\n\\tA id = \",id(a),\"\\n\\tB id = \", id(b))\n",
    "print(\"B is A: \", b is a)\n",
    "print(\"B.base is A: \", b.base is a)\n"
   ]
  },
  {
   "cell_type": "markdown",
   "metadata": {},
   "source": [
    "### Case3: copy()--> DeepCopy"
   ]
  },
  {
   "cell_type": "code",
   "execution_count": 126,
   "metadata": {},
   "outputs": [
    {
     "name": "stdout",
     "output_type": "stream",
     "text": [
      "Initial Arrays:b = a.copy():#################################\n",
      "\n",
      "Array A\n",
      " [[ 0  1  2  3  4]\n",
      " [ 5  6  7  8  9]\n",
      " [10 11 12 13 14]\n",
      " [15 16 17 18 19]]\n",
      "\n",
      "Array B\n",
      " [[ 0  1  2  3  4]\n",
      " [ 5  6  7  8  9]\n",
      " [10 11 12 13 14]\n",
      " [15 16 17 18 19]]\n",
      "\n",
      "ID's: \n",
      "\tA id =  2055081118816 \n",
      "\tB id =  2055081119376\n",
      "B is A:  False\n",
      "B.base is A:  False\n",
      "\n",
      "\n",
      "Changing shapes:b.shape = (2,10):#################################\n",
      "\n",
      "Array A\n",
      " [[ 0  1  2  3  4]\n",
      " [ 5  6  7  8  9]\n",
      " [10 11 12 13 14]\n",
      " [15 16 17 18 19]]\n",
      "\n",
      "Array B\n",
      " [[ 0  1  2  3  4  5  6  7  8  9]\n",
      " [10 11 12 13 14 15 16 17 18 19]]\n",
      "\n",
      "ID's: \n",
      "\tA id =  2055081118816 \n",
      "\tB id =  2055081119376\n",
      "B is A:  False\n",
      "B.base is A:  False\n",
      "\n",
      "\n",
      "Changing values:b[0][0] = 999:#################################\n",
      "\n",
      "Array A\n",
      " [[ 0  1  2  3  4]\n",
      " [ 5  6  7  8  9]\n",
      " [10 11 12 13 14]\n",
      " [15 16 17 18 19]]\n",
      "\n",
      "Array B\n",
      " [[999   1   2   3   4   5   6   7   8   9]\n",
      " [ 10  11  12  13  14  15  16  17  18  19]]\n",
      "\n",
      "ID's: \n",
      "\tA id =  2055081118816 \n",
      "\tB id =  2055081119376\n",
      "B is A:  False\n",
      "B.base is A:  False\n"
     ]
    }
   ],
   "source": [
    "#copy()--> will create a complete new array, \n",
    "#base is not same.\n",
    "#if we change the values in copied one, original will remain same\n",
    "\n",
    "\n",
    "print(\"Initial Arrays:b = a.copy():#################################\\n\")\n",
    "a = np.array(np.arange(20).reshape(4,5))\n",
    "print(\"Array A\\n\",a)\n",
    "\n",
    "b = a.copy()\n",
    "print(\"\\nArray B\\n\",b)\n",
    "print(\"\\nID's: \\n\\tA id = \",id(a),\"\\n\\tB id = \", id(b))\n",
    "print(\"B is A: \", b is a)\n",
    "print(\"B.base is A: \", b.base is a)\n",
    "\n",
    "\n",
    "print(\"\\n\\nChanging shapes:b.shape = (2,10):#################################\")\n",
    "#change the shape of b\n",
    "b.shape = (2,10)\n",
    "print(\"\\nArray A\\n\",a)\n",
    "print(\"\\nArray B\\n\",b)\n",
    "print(\"\\nID's: \\n\\tA id = \",id(a),\"\\n\\tB id = \", id(b))\n",
    "print(\"B is A: \", b is a)\n",
    "print(\"B.base is A: \", b.base is a)\n",
    "\n",
    "\n",
    "print(\"\\n\\nChanging values:b[0][0] = 999:#################################\")\n",
    "#change the value in b\n",
    "b[0][0] = 999\n",
    "print(\"\\nArray A\\n\",a)\n",
    "print(\"\\nArray B\\n\",b)\n",
    "print(\"\\nID's: \\n\\tA id = \",id(a),\"\\n\\tB id = \", id(b))\n",
    "print(\"B is A: \", b is a)\n",
    "print(\"B.base is A: \", b.base is a)\n"
   ]
  },
  {
   "cell_type": "markdown",
   "metadata": {},
   "source": [
    "# 9) Boolean Indexing"
   ]
  },
  {
   "cell_type": "code",
   "execution_count": 135,
   "metadata": {},
   "outputs": [
    {
     "name": "stdout",
     "output_type": "stream",
     "text": [
      "Example of Boolean indexing of Numpy Array\n",
      "Array:\n",
      " [[40 41 42 43 44]\n",
      " [45 46 47 48 49]\n",
      " [50 51 52 53 54]\n",
      " [55 56 57 58 59]]\n",
      "check if given value is even or odd:\n",
      "\n",
      "[[ True False  True False  True]\n",
      " [False  True False  True False]\n",
      " [ True False  True False  True]\n",
      " [False  True False  True False]]\n"
     ]
    }
   ],
   "source": [
    "#boolean indexing will be applied on top of numpy array and compared each value in array\n",
    "#it is also possible to check on \"<\", \"<=\", \">\" and \">=\".\n",
    "\n",
    "print(\"Example of Boolean indexing of Numpy Array\")\n",
    "\n",
    "a = np.array(np.arange(40,60).reshape(4,5))\n",
    "print(\"Array:\\n\",a)\n",
    "\n",
    "#check if given value is even or odd\n",
    "print(\"check if given value is even or odd:\\n\")\n",
    "print(a%2==0)"
   ]
  },
  {
   "cell_type": "code",
   "execution_count": 140,
   "metadata": {},
   "outputs": [
    {
     "name": "stdout",
     "output_type": "stream",
     "text": [
      "Example of Boolean indexing of Numpy Array\n",
      "Array:\n",
      " [[40 41 42 43 44]\n",
      " [45 46 47 48 49]\n",
      " [50 51 52 53 54]\n",
      " [55 56 57 58 59]]\n",
      "\n",
      "\n",
      "check if given value is <=47:\n"
     ]
    },
    {
     "data": {
      "text/plain": [
       "array([[1, 1, 1, 1, 1],\n",
       "       [1, 1, 1, 0, 0],\n",
       "       [0, 0, 0, 0, 0],\n",
       "       [0, 0, 0, 0, 0]])"
      ]
     },
     "execution_count": 140,
     "metadata": {},
     "output_type": "execute_result"
    }
   ],
   "source": [
    "print(\"Example of Boolean indexing of Numpy Array\")\n",
    "\n",
    "a = np.array(np.arange(40,60).reshape(4,5))\n",
    "print(\"Array:\\n\",a)\n",
    "\n",
    "#check if given value is <=47\n",
    "print(\"\\n\\ncheck if given value is <=47:\")\n",
    "b = a<=47\n",
    "b.astype(int)"
   ]
  },
  {
   "cell_type": "markdown",
   "metadata": {},
   "source": [
    "# 10) Numerical Operations on Numpy Arrays"
   ]
  },
  {
   "cell_type": "markdown",
   "metadata": {},
   "source": [
    "### Case1: Array with any value"
   ]
  },
  {
   "cell_type": "code",
   "execution_count": 9,
   "metadata": {},
   "outputs": [
    {
     "name": "stdout",
     "output_type": "stream",
     "text": [
      "Example for Adding number to array\n",
      "\n",
      "Array:\n",
      " [[40 41 42 43 44]\n",
      " [45 46 47 48 49]\n",
      " [50 51 52 53 54]\n",
      " [55 56 57 58 59]]\n",
      "\n",
      "\n",
      "Array+10:\n",
      " [[50 51 52 53 54]\n",
      " [55 56 57 58 59]\n",
      " [60 61 62 63 64]\n",
      " [65 66 67 68 69]]\n"
     ]
    }
   ],
   "source": [
    "#we can do arithmetic operations with scalars on top of numpy arrays\n",
    "# +, -, *, **, /\n",
    "\n",
    "print(\"Example for Adding number to array\\n\")\n",
    "\n",
    "a = np.array(np.arange(40,60).reshape(4,5))\n",
    "print(\"Array:\\n\",a)\n",
    "\n",
    "print(\"\\n\\nArray+10:\\n\",a+10)"
   ]
  },
  {
   "cell_type": "code",
   "execution_count": 8,
   "metadata": {},
   "outputs": [
    {
     "name": "stdout",
     "output_type": "stream",
     "text": [
      "Array:\n",
      " [[40 41 42 43 44]\n",
      " [45 46 47 48 49]\n",
      " [50 51 52 53 54]\n",
      " [55 56 57 58 59]]\n",
      "\n",
      "\n",
      "Array * 10:\n",
      " [[400 410 420 430 440]\n",
      " [450 460 470 480 490]\n",
      " [500 510 520 530 540]\n",
      " [550 560 570 580 590]]\n"
     ]
    }
   ],
   "source": [
    "a = np.array(np.arange(40,60).reshape(4,5))\n",
    "print(\"Array:\\n\",a)\n",
    "\n",
    "print(\"\\n\\nArray * 10:\\n\",a*10)"
   ]
  },
  {
   "cell_type": "markdown",
   "metadata": {},
   "source": [
    "### Case2: Array with Array"
   ]
  },
  {
   "cell_type": "code",
   "execution_count": 153,
   "metadata": {},
   "outputs": [
    {
     "name": "stdout",
     "output_type": "stream",
     "text": [
      "Example for adding 2 arrays\n",
      "Array A:\n",
      " [[ 0  1  2  3  4]\n",
      " [ 5  6  7  8  9]\n",
      " [10 11 12 13 14]\n",
      " [15 16 17 18 19]]\n",
      "\n",
      "\n",
      "Array B:\n",
      " [[60 61 62 63 64]\n",
      " [65 66 67 68 69]\n",
      " [70 71 72 73 74]\n",
      " [75 76 77 78 79]]\n",
      "\n",
      "\n",
      "A + B:\n",
      " [[60 62 64 66 68]\n",
      " [70 72 74 76 78]\n",
      " [80 82 84 86 88]\n",
      " [90 92 94 96 98]]\n"
     ]
    }
   ],
   "source": [
    "#we can use  +, -, *, **, /\n",
    "#Add 2 arrays \n",
    "print(\"Example for adding 2 arrays\")\n",
    "a = np.array(np.arange(20).reshape(4,5))\n",
    "print(\"Array A:\\n\",a)\n",
    "\n",
    "b = np.array(np.arange(60,80).reshape(4,5))\n",
    "print(\"\\n\\nArray B:\\n\",b)\n",
    "\n",
    "print(\"\\n\\nA + B:\\n\", a + b)"
   ]
  },
  {
   "cell_type": "code",
   "execution_count": 155,
   "metadata": {
    "scrolled": true
   },
   "outputs": [
    {
     "name": "stdout",
     "output_type": "stream",
     "text": [
      "Example for multipling 2 arrays\n",
      "Array A:\n",
      " [[ 0  1  2  3  4]\n",
      " [ 5  6  7  8  9]\n",
      " [10 11 12 13 14]\n",
      " [15 16 17 18 19]]\n",
      "\n",
      "\n",
      "Array B:\n",
      " [[40 41 42 43 44]\n",
      " [45 46 47 48 49]\n",
      " [50 51 52 53 54]\n",
      " [55 56 57 58 59]]\n",
      "\n",
      "\n",
      "A * B:\n",
      " [[   0   41   84  129  176]\n",
      " [ 225  276  329  384  441]\n",
      " [ 500  561  624  689  756]\n",
      " [ 825  896  969 1044 1121]]\n"
     ]
    }
   ],
   "source": [
    "#multiple 2 arrays \n",
    "print(\"Example for multipling 2 arrays\")\n",
    "a = np.array(np.arange(20).reshape(4,5))\n",
    "print(\"Array A:\\n\",a)\n",
    "\n",
    "b = np.array(np.arange(40,60).reshape(4,5))\n",
    "print(\"\\n\\nArray B:\\n\",b)\n",
    "\n",
    "print(\"\\n\\nA * B:\\n\", a * b)"
   ]
  },
  {
   "cell_type": "markdown",
   "metadata": {},
   "source": [
    "### Case3: Matrix Multiplication"
   ]
  },
  {
   "cell_type": "code",
   "execution_count": 162,
   "metadata": {},
   "outputs": [
    {
     "name": "stdout",
     "output_type": "stream",
     "text": [
      "Example for matrix multipling 2 arrays with dot()\n",
      "Array A:\n",
      " [[0 1 2]\n",
      " [3 4 5]]\n",
      "\n",
      "Array B:\n",
      " [[0 1]\n",
      " [2 3]\n",
      " [4 5]]\n",
      "\n",
      "Matrix Multiplication = np.dot(A,B):\n",
      " [[10 13]\n",
      " [28 40]]\n"
     ]
    }
   ],
   "source": [
    "print(\"Example for matrix multipling 2 arrays with dot()\")\n",
    "a = np.array(np.arange(6).reshape(2,3))\n",
    "print(\"Array A:\\n\",a)\n",
    "\n",
    "b= np.array(np.arange(6).reshape(3,2))\n",
    "print(\"\\nArray B:\\n\",b)\n",
    "\n",
    "print(\"\\nMatrix Multiplication = np.dot(A,B):\\n\", np.dot(a, b))"
   ]
  },
  {
   "cell_type": "markdown",
   "metadata": {},
   "source": [
    "# 11) Matrices vs. Two-Dimensional Arrays"
   ]
  },
  {
   "cell_type": "code",
   "execution_count": 167,
   "metadata": {},
   "outputs": [
    {
     "name": "stdout",
     "output_type": "stream",
     "text": [
      "Example to convert Numpy 2D array into Numpy Matrix\n",
      "Array A:\n",
      " [[0 1 2]\n",
      " [3 4 5]]\n",
      "\n",
      "Type of A:  <class 'numpy.ndarray'>\n",
      "\n",
      "\n",
      "Convert 2D array to Matrix: np.mat(array)\n",
      "Matrix MatA:\n",
      " [[0 1 2]\n",
      " [3 4 5]]\n",
      "\n",
      "Type of MatA:  <class 'numpy.matrixlib.defmatrix.matrix'>\n"
     ]
    }
   ],
   "source": [
    "#two-dimensional numpy arrays can be considered as matrices. #but they are different\n",
    "#Matrix in Numpy are subset of two-dimensional arrays.\n",
    "#We can convert a two-dimensional array into a matrix by applying the \"mat\" function.\n",
    "\n",
    "print(\"Example to convert Numpy 2D array into Numpy Matrix\")\n",
    "a = np.array(np.arange(6).reshape(2,3))\n",
    "print(\"Array A:\\n\",a)\n",
    "print(\"\\nType of A: \",type(a))\n",
    "\n",
    "print(\"\\n\\nConvert 2D array to Matrix: np.mat(array)\")\n",
    "MatA = np.mat(a)\n",
    "print(\"Matrix MatA:\\n\",MatA)\n",
    "print(\"\\nType of MatA: \",type(MatA))"
   ]
  },
  {
   "cell_type": "markdown",
   "metadata": {},
   "source": [
    "# 12) Broadcasting"
   ]
  },
  {
   "cell_type": "code",
   "execution_count": 27,
   "metadata": {},
   "outputs": [
    {
     "name": "stdout",
     "output_type": "stream",
     "text": [
      "Broading Example:\n",
      "\n",
      "Array A: \n",
      " [[ 0  1  2  3]\n",
      " [ 4  5  6  7]\n",
      " [ 8  9 10 11]]\n",
      "\n",
      "Array B: \n",
      " [0 1 2 3]\n",
      "\n",
      "Let's see how array B converted into given Bigger array shape:\n",
      "[[0 1 2 3]\n",
      " [0 1 2 3]\n",
      " [0 1 2 3]]\n",
      "\n",
      "Addition of A, B:\n",
      " [[ 0  2  4  6]\n",
      " [ 4  6  8 10]\n",
      " [ 8 10 12 14]]\n"
     ]
    }
   ],
   "source": [
    "\"\"\"\n",
    "1). Braodcasting allows to perform arithmetic operations on arrays of different shapes.\n",
    "2). In 2 different shapes of arrays, we are transforming smaller array shape into larger array shape \n",
    "    and then perform given operataions\n",
    "3). In 2nd point the smaller array is \"broadcasted\" \n",
    "4). For Broadcasting we wont use any additional keyword, bydefault smaller array will converted into bigger array shape\n",
    "\"\"\"\n",
    "\n",
    "print(\"Broading Example:\")\n",
    "a = np.array(np.arange(12).reshape(3,4))\n",
    "print(\"\\nArray A: \\n\", a)\n",
    "\n",
    "b = np.array(np.arange(4))\n",
    "print(\"\\nArray B: \\n\", b)\n",
    "\n",
    "print(\"\\nLet's see how array B converted into given Bigger array shape:\")\n",
    "#print(\"\\n\", b,\"\\n\", b,\"\\n\", b)\n",
    "#c = np.array([b,b,b])\n",
    "c = np.array([b,]*3)\n",
    "print(c)\n",
    "\n",
    "print(\"\\nAddition of A, B:\\n\",a + b)\n"
   ]
  },
  {
   "cell_type": "code",
   "execution_count": 33,
   "metadata": {},
   "outputs": [
    {
     "name": "stdout",
     "output_type": "stream",
     "text": [
      "Different ways to repliocate numpy array \n",
      "Array X:\n",
      " [1 2 3]\n",
      "\n",
      "Array Y:\n",
      " [[1 2 3]\n",
      " [1 2 3]\n",
      " [1 2 3]]\n",
      "\n",
      "Array Z:\n",
      " [[1 2 3]\n",
      " [1 2 3]\n",
      " [1 2 3]]\n",
      "\n",
      "Array Z1:\n",
      " [[1 2 3]\n",
      " [1 2 3]\n",
      " [1 2 3]]\n"
     ]
    }
   ],
   "source": [
    "print(\"Different ways to repliocate numpy array \")\n",
    "x = np.array([1,2,3])\n",
    "y = np.array([x,x,x])\n",
    "z = np.array([x]*3)\n",
    "z1 = np.array([x,]*3)\n",
    "\n",
    "print(\"Array X:\\n\",x)\n",
    "print(\"\\nArray Y:\\n\",y)\n",
    "print(\"\\nArray Z:\\n\",z)\n",
    "print(\"\\nArray Z1:\\n\",z1)"
   ]
  },
  {
   "cell_type": "markdown",
   "metadata": {},
   "source": [
    "# 13) Numpy array functions:"
   ]
  },
  {
   "cell_type": "markdown",
   "metadata": {},
   "source": [
    "### max(), min(), avg(), sum(), size() "
   ]
  },
  {
   "cell_type": "code",
   "execution_count": 69,
   "metadata": {},
   "outputs": [
    {
     "name": "stdout",
     "output_type": "stream",
     "text": [
      "Array A:\n",
      " [[0 1 2]\n",
      " [3 4 5]]\n",
      "\n",
      "Mamimum value in A:  5\n",
      "Mamimum value in A:  5\n",
      "\n",
      "Minimum value in A:  0\n",
      "Minimum value in A:  0\n",
      "\n",
      "Average value in A:  2.5\n",
      "Average value in A:  2.5\n",
      "\n",
      "Sum value in A:  15\n",
      "Sum value in A:  15\n",
      "\n",
      "Size of A:  6\n"
     ]
    }
   ],
   "source": [
    "a = np.array(np.arange(6).reshape(2,3))\n",
    "print(\"Array A:\\n\",a)\n",
    "\n",
    "print(\"\\nMamimum value in A: \", np.max(a))\n",
    "print(\"Mamimum value in A: \", a.max())\n",
    "\n",
    "print(\"\\nMinimum value in A: \", np.min(a))\n",
    "print(\"Minimum value in A: \", a.min())\n",
    "\n",
    "print(\"\\nAverage value in A: \", np.mean(a))\n",
    "print(\"Average value in A: \", a.mean())\n",
    "\n",
    "print(\"\\nSum value in A: \", np.sum(a))\n",
    "print(\"Sum value in A: \", a.sum())\n",
    "\n",
    "print(\"\\nSize of A: \", np.size(a))\n"
   ]
  },
  {
   "cell_type": "markdown",
   "metadata": {},
   "source": [
    "### sin(), cos(), exp(), log(), ..................Mathematical functions"
   ]
  },
  {
   "cell_type": "code",
   "execution_count": 76,
   "metadata": {},
   "outputs": [
    {
     "name": "stdout",
     "output_type": "stream",
     "text": [
      "Array A:\n",
      " [[0 1 2]\n",
      " [3 4 5]]\n",
      "\n",
      "Apply Sin() function to Array A:\n",
      " [[ 0.          0.84147098  0.90929743]\n",
      " [ 0.14112001 -0.7568025  -0.95892427]]\n",
      "\n",
      "Apply Cos() function to Array A:\n",
      " [[ 1.          0.54030231 -0.41614684]\n",
      " [-0.9899925  -0.65364362  0.28366219]]\n",
      "\n",
      "Apply exp() function to Array A:\n",
      " [[  1.           2.71828183   7.3890561 ]\n",
      " [ 20.08553692  54.59815003 148.4131591 ]]\n",
      "\n",
      "Apply log() function to Array A:\n",
      " [[      -inf 0.         0.69314718]\n",
      " [1.09861229 1.38629436 1.60943791]]\n"
     ]
    },
    {
     "name": "stderr",
     "output_type": "stream",
     "text": [
      "C:\\ProgramData\\Anaconda3\\lib\\site-packages\\ipykernel_launcher.py:10: RuntimeWarning: divide by zero encountered in log\n",
      "  # Remove the CWD from sys.path while we load stuff.\n"
     ]
    }
   ],
   "source": [
    "a = np.array(np.arange(6).reshape(2,3))\n",
    "print(\"Array A:\\n\",a)\n",
    "\n",
    "print(\"\\nApply Sin() function to Array A:\\n\",np.sin(a))\n",
    "\n",
    "print(\"\\nApply Cos() function to Array A:\\n\",np.cos(a))\n",
    "\n",
    "print(\"\\nApply exp() function to Array A:\\n\",np.exp(a))\n",
    "\n",
    "print(\"\\nApply log() function to Array A:\\n\",np.log(a))\n",
    "\n"
   ]
  }
 ],
 "metadata": {
  "kernelspec": {
   "display_name": "Python 3",
   "language": "python",
   "name": "python3"
  },
  "language_info": {
   "codemirror_mode": {
    "name": "ipython",
    "version": 3
   },
   "file_extension": ".py",
   "mimetype": "text/x-python",
   "name": "python",
   "nbconvert_exporter": "python",
   "pygments_lexer": "ipython3",
   "version": "3.7.1"
  }
 },
 "nbformat": 4,
 "nbformat_minor": 2
}
