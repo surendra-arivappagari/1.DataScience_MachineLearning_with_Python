{
 "cells": [
  {
   "cell_type": "markdown",
   "metadata": {},
   "source": [
    "# Numpy - Tutorials:"
   ]
  },
  {
   "cell_type": "markdown",
   "metadata": {},
   "source": [
    "> - Numpy : Numerical Python <br>\n",
    "> -  NumPy is the fundamental package for scientific computing in Python. <br>\n",
    "> - It is a Python library that provides a multidimensional array object. "
   ]
  },
  {
   "cell_type": "markdown",
   "metadata": {},
   "source": [
    "# 1. Import package"
   ]
  },
  {
   "cell_type": "code",
   "execution_count": 1,
   "metadata": {},
   "outputs": [],
   "source": [
    "import numpy as np"
   ]
  },
  {
   "cell_type": "markdown",
   "metadata": {},
   "source": [
    "# 2.Creating Numpy array:"
   ]
  },
  {
   "cell_type": "markdown",
   "metadata": {},
   "source": [
    "#### 2A) np.arange()"
   ]
  },
  {
   "cell_type": "code",
   "execution_count": 2,
   "metadata": {},
   "outputs": [
    {
     "name": "stdout",
     "output_type": "stream",
     "text": [
      "2A. Numpy Array using arange()\n",
      "[0 1 2 3 4 5 6 7 8 9]\n"
     ]
    },
    {
     "data": {
      "text/plain": [
       "numpy.ndarray"
      ]
     },
     "execution_count": 2,
     "metadata": {},
     "output_type": "execute_result"
    }
   ],
   "source": [
    "#arange([start,] stop[, step], [, dtype=None]\n",
    "#np.arange() --> will be useful, when we know start, end, step size. But dont know howmany #of values will come\n",
    "\n",
    "#Method-1: using np.arange()\n",
    "print(\"2A. Numpy Array using arange()\")\n",
    "\n",
    "a = np.arange(10)\n",
    "print(a)\n",
    "type(a)"
   ]
  },
  {
   "cell_type": "code",
   "execution_count": 3,
   "metadata": {},
   "outputs": [
    {
     "name": "stdout",
     "output_type": "stream",
     "text": [
      "[0 1 2 3 4 5 6 7 8 9]\n"
     ]
    }
   ],
   "source": [
    "#Method-2 by providing start, end\n",
    "\n",
    "b =np.arange(0,10)\n",
    "print(b)"
   ]
  },
  {
   "cell_type": "code",
   "execution_count": 4,
   "metadata": {
    "scrolled": true
   },
   "outputs": [
    {
     "name": "stdout",
     "output_type": "stream",
     "text": [
      "[0 2 4 6 8]\n"
     ]
    }
   ],
   "source": [
    "#Method-3 by providing start,end,step, data type\n",
    "\n",
    "c =np.arange(0,10,2,int)\n",
    "print(c)"
   ]
  },
  {
   "cell_type": "code",
   "execution_count": 5,
   "metadata": {},
   "outputs": [
    {
     "data": {
      "text/plain": [
       "array([0.1, 0.8, 1.5, 2.2, 2.9, 3.6, 4.3, 5. , 5.7, 6.4, 7.1, 7.8])"
      ]
     },
     "execution_count": 5,
     "metadata": {},
     "output_type": "execute_result"
    }
   ],
   "source": [
    "#Try for floating numbers,\n",
    "a = np.arange(0.1, 8.4, 0.7)\n",
    "a"
   ]
  },
  {
   "cell_type": "code",
   "execution_count": 6,
   "metadata": {},
   "outputs": [
    {
     "data": {
      "text/plain": [
       "array([ 0,  1,  2,  3,  4,  5,  6,  7,  8,  9, 10, 11])"
      ]
     },
     "execution_count": 6,
     "metadata": {},
     "output_type": "execute_result"
    }
   ],
   "source": [
    "#Try for floating numbers by giving dtype parameter\n",
    "a = np.arange(0.6, 8.4, 0.7, int)\n",
    "a"
   ]
  },
  {
   "cell_type": "raw",
   "metadata": {},
   "source": [
    " "
   ]
  },
  {
   "cell_type": "markdown",
   "metadata": {},
   "source": [
    "#### 2B) np.linspace()"
   ]
  },
  {
   "cell_type": "code",
   "execution_count": 7,
   "metadata": {},
   "outputs": [
    {
     "data": {
      "text/plain": [
       "array([ 1.        ,  1.18367347,  1.36734694,  1.55102041,  1.73469388,\n",
       "        1.91836735,  2.10204082,  2.28571429,  2.46938776,  2.65306122,\n",
       "        2.83673469,  3.02040816,  3.20408163,  3.3877551 ,  3.57142857,\n",
       "        3.75510204,  3.93877551,  4.12244898,  4.30612245,  4.48979592,\n",
       "        4.67346939,  4.85714286,  5.04081633,  5.2244898 ,  5.40816327,\n",
       "        5.59183673,  5.7755102 ,  5.95918367,  6.14285714,  6.32653061,\n",
       "        6.51020408,  6.69387755,  6.87755102,  7.06122449,  7.24489796,\n",
       "        7.42857143,  7.6122449 ,  7.79591837,  7.97959184,  8.16326531,\n",
       "        8.34693878,  8.53061224,  8.71428571,  8.89795918,  9.08163265,\n",
       "        9.26530612,  9.44897959,  9.63265306,  9.81632653, 10.        ])"
      ]
     },
     "execution_count": 7,
     "metadata": {},
     "output_type": "execute_result"
    }
   ],
   "source": [
    "#linspace(start, stop, num=50)\n",
    "#np.linspace() --> used when we want exact #of values between 2 numbers. ##no need to worry about step in this method\n",
    "\n",
    "a = np.linspace(1,10)  #default #of values=50\n",
    "a"
   ]
  },
  {
   "cell_type": "code",
   "execution_count": 8,
   "metadata": {},
   "outputs": [
    {
     "data": {
      "text/plain": [
       "array([ 0.,  7., 14., 21.])"
      ]
     },
     "execution_count": 8,
     "metadata": {},
     "output_type": "execute_result"
    }
   ],
   "source": [
    "a = np.linspace(0,21,4)\n",
    "a"
   ]
  },
  {
   "cell_type": "markdown",
   "metadata": {},
   "source": [
    "#### 2C) np.array()"
   ]
  },
  {
   "cell_type": "code",
   "execution_count": 9,
   "metadata": {},
   "outputs": [
    {
     "name": "stdout",
     "output_type": "stream",
     "text": [
      "Example for 0-Dimensional numpy array\n",
      "\n",
      "array :  40\n",
      "Type of a: <class 'numpy.ndarray'>\n",
      "Dimentions of a:  0\n",
      "Datatype of a:  int32\n"
     ]
    }
   ],
   "source": [
    "#By using np.array() --> we can create multidimentional arrays in Numpy.\n",
    "#Scalars are zero dimensional.\n",
    "\n",
    "print(\"Example for 0-Dimensional numpy array\\n\")\n",
    "\n",
    "a = np.array(40)\n",
    "print(\"array : \", a)\n",
    "print(\"Type of a:\", type(a))\n",
    "print(\"Dimentions of a: \", np.ndim(a))\n",
    "print(\"Datatype of a: \", a.dtype)"
   ]
  },
  {
   "cell_type": "code",
   "execution_count": 10,
   "metadata": {},
   "outputs": [
    {
     "name": "stdout",
     "output_type": "stream",
     "text": [
      "Example for 1-Dimensional numpy  array\n",
      "\n",
      "array :  [0.  0.5 1.  1.5 2.  2.5 3.  3.5 4.  4.5]\n",
      "Type of a: <class 'numpy.ndarray'>\n",
      "Dimentions of a:  1\n",
      "Datatype of a:  float64\n"
     ]
    }
   ],
   "source": [
    "print(\"Example for 1-Dimensional numpy  array\\n\")\n",
    "\n",
    "a = np.array(np.arange(0,5,0.5))\n",
    "print(\"array : \", a)\n",
    "print(\"Type of a:\", type(a))\n",
    "print(\"Dimentions of a: \", np.ndim(a))\n",
    "print(\"Datatype of a: \", a.dtype)"
   ]
  },
  {
   "cell_type": "code",
   "execution_count": 11,
   "metadata": {},
   "outputs": [
    {
     "name": "stdout",
     "output_type": "stream",
     "text": [
      "Example for 1-Dimensional numpy  array\n",
      "\n",
      "array :  ['1' '9' '7' '8' '3' '6' '2' '9' 'H']\n",
      "Type of a: <class 'numpy.ndarray'>\n",
      "Dimentions of a:  1\n",
      "Datatype of a:  <U11\n"
     ]
    }
   ],
   "source": [
    "print(\"Example for 1-Dimensional numpy  array\\n\")\n",
    "\n",
    "a = np.array([1,9,7,8,3,6,2,9,'H'])\n",
    "print(\"array : \", a)\n",
    "print(\"Type of a:\", type(a))\n",
    "print(\"Dimentions of a: \", np.ndim(a))\n",
    "print(\"Datatype of a: \", a.dtype)"
   ]
  },
  {
   "cell_type": "code",
   "execution_count": 12,
   "metadata": {},
   "outputs": [
    {
     "name": "stdout",
     "output_type": "stream",
     "text": [
      "Example for 2-Dimensional numpy  array\n",
      "\n",
      "array : \n",
      " [[1 2 3]\n",
      " [4 5 6]\n",
      " [7 8 9]]\n",
      "\n",
      "Type of a: <class 'numpy.ndarray'>\n",
      "Dimentions of a:  2\n",
      "Datatype of a:  int32\n"
     ]
    }
   ],
   "source": [
    "print(\"Example for 2-Dimensional numpy  array\\n\")\n",
    "\n",
    "a = np.array([[1,2,3],[4,5,6],[7,8,9]])\n",
    "print(\"array : \\n\", a)\n",
    "print(\"\\nType of a:\", type(a))\n",
    "print(\"Dimentions of a: \", np.ndim(a))\n",
    "print(\"Datatype of a: \", a.dtype)"
   ]
  },
  {
   "cell_type": "code",
   "execution_count": 13,
   "metadata": {},
   "outputs": [
    {
     "name": "stdout",
     "output_type": "stream",
     "text": [
      "Example for 2-Dimensional numpy  array\n",
      "\n",
      "array : \n",
      " [[ 0  1  2  3  4]\n",
      " [ 5  6  7  8  9]\n",
      " [10 11 12 13 14]\n",
      " [15 16 17 18 19]]\n",
      "\n",
      "Type of a: <class 'numpy.ndarray'>\n",
      "Dimentions of a:  2\n",
      "Datatype of a:  int32\n"
     ]
    }
   ],
   "source": [
    "print(\"Example for 2-Dimensional numpy  array\\n\")\n",
    "\n",
    "a = np.array(np.arange(20).reshape(4,5))\n",
    "print(\"array : \\n\", a)\n",
    "print(\"\\nType of a:\", type(a))\n",
    "print(\"Dimentions of a: \", np.ndim(a))\n",
    "print(\"Datatype of a: \", a.dtype)"
   ]
  },
  {
   "cell_type": "code",
   "execution_count": 14,
   "metadata": {},
   "outputs": [
    {
     "name": "stdout",
     "output_type": "stream",
     "text": [
      "Example for 3-Dimensional numpy  array\n",
      "\n",
      "array : \n",
      " [[[ 0  1  2  3  4]\n",
      "  [ 5  6  7  8  9]]\n",
      "\n",
      " [[10 11 12 13 14]\n",
      "  [15 16 17 18 19]]]\n",
      "\n",
      "Type of a: <class 'numpy.ndarray'>\n",
      "Dimentions of a:  3\n",
      "Datatype of a:  int32\n"
     ]
    }
   ],
   "source": [
    "print(\"Example for 3-Dimensional numpy  array\\n\")\n",
    "\n",
    "a = np.array(np.arange(20).reshape(2,2,5))\n",
    "print(\"array : \\n\", a)\n",
    "print(\"\\nType of a:\", type(a))\n",
    "print(\"Dimentions of a: \", np.ndim(a))\n",
    "print(\"Datatype of a: \", a.dtype)"
   ]
  },
  {
   "cell_type": "code",
   "execution_count": 15,
   "metadata": {},
   "outputs": [
    {
     "name": "stdout",
     "output_type": "stream",
     "text": [
      "Example for 3-Dimensional numpy  array\n",
      "\n",
      "array : \n",
      " [[[ 0  1]\n",
      "  [ 2  3]\n",
      "  [ 4  5]\n",
      "  [ 6  7]\n",
      "  [ 8  9]]\n",
      "\n",
      " [[10 11]\n",
      "  [12 13]\n",
      "  [14 15]\n",
      "  [16 17]\n",
      "  [18 19]]]\n",
      "\n",
      "Type of a: <class 'numpy.ndarray'>\n",
      "Dimentions of a:  3\n",
      "Datatype of a:  int32\n"
     ]
    }
   ],
   "source": [
    "print(\"Example for 3-Dimensional numpy  array\\n\")\n",
    "\n",
    "a = np.array(np.arange(20).reshape(2,5,2))\n",
    "print(\"array : \\n\", a)\n",
    "print(\"\\nType of a:\", type(a))\n",
    "print(\"Dimentions of a: \", np.ndim(a))\n",
    "print(\"Datatype of a: \", a.dtype)"
   ]
  },
  {
   "cell_type": "code",
   "execution_count": null,
   "metadata": {},
   "outputs": [],
   "source": []
  },
  {
   "cell_type": "markdown",
   "metadata": {},
   "source": [
    "# 3) ReShape the array"
   ]
  },
  {
   "cell_type": "code",
   "execution_count": 16,
   "metadata": {},
   "outputs": [
    {
     "name": "stdout",
     "output_type": "stream",
     "text": [
      "Example for 2-Dimensional numpy array with reshape\n",
      "\n",
      "reshape(#rows, #columns) = reshape(5,4)\n",
      "array : \n",
      " [[ 0  1  2  3]\n",
      " [ 4  5  6  7]\n",
      " [ 8  9 10 11]\n",
      " [12 13 14 15]\n",
      " [16 17 18 19]]\n",
      "\n",
      "Type of a: <class 'numpy.ndarray'>\n",
      "Dimentions of a:  2\n",
      "Datatype of a:  int32\n"
     ]
    }
   ],
   "source": [
    "#The reshape() function is used to give a new shape to an array without changing its data\n",
    "print(\"Example for 2-Dimensional numpy array with reshape\\n\")\n",
    "print(\"reshape(#rows, #columns) = reshape(5,4)\")\n",
    "\n",
    "a = np.array(np.arange(20).reshape(5,4))\n",
    "print(\"array : \\n\", a)\n",
    "print(\"\\nType of a:\", type(a))\n",
    "print(\"Dimentions of a: \", np.ndim(a))\n",
    "print(\"Datatype of a: \", a.dtype)"
   ]
  },
  {
   "cell_type": "code",
   "execution_count": 17,
   "metadata": {},
   "outputs": [
    {
     "name": "stdout",
     "output_type": "stream",
     "text": [
      "Example for 2-Dimensional numpy array with reshape\n",
      "\n",
      "reshape(#rows, #columns) = reshape(4,5)\n",
      "array : \n",
      " [[ 0  1  2  3  4]\n",
      " [ 5  6  7  8  9]\n",
      " [10 11 12 13 14]\n",
      " [15 16 17 18 19]]\n",
      "\n",
      "Type of a: <class 'numpy.ndarray'>\n",
      "Dimentions of a:  2\n",
      "Datatype of a:  int32\n"
     ]
    }
   ],
   "source": [
    "print(\"Example for 2-Dimensional numpy array with reshape\\n\")\n",
    "print(\"reshape(#rows, #columns) = reshape(4,5)\")\n",
    "\n",
    "a = np.array(np.arange(20).reshape(4,5))\n",
    "print(\"array : \\n\", a)\n",
    "print(\"\\nType of a:\", type(a))\n",
    "print(\"Dimentions of a: \", np.ndim(a))\n",
    "print(\"Datatype of a: \", a.dtype)"
   ]
  },
  {
   "cell_type": "code",
   "execution_count": 18,
   "metadata": {},
   "outputs": [
    {
     "name": "stdout",
     "output_type": "stream",
     "text": [
      "Example for 3-Dimensional numpy array with reshape\n",
      "\n",
      "reshape(#sets, #rows_in_each_set, #columns_in_each_set) = reshape(2,4,5)\n",
      "array : \n",
      " [[[ 0  1  2  3  4]\n",
      "  [ 5  6  7  8  9]\n",
      "  [10 11 12 13 14]\n",
      "  [15 16 17 18 19]]\n",
      "\n",
      " [[20 21 22 23 24]\n",
      "  [25 26 27 28 29]\n",
      "  [30 31 32 33 34]\n",
      "  [35 36 37 38 39]]]\n",
      "\n",
      "Type of a: <class 'numpy.ndarray'>\n",
      "Dimentions of a:  3\n",
      "Datatype of a:  int32\n"
     ]
    }
   ],
   "source": [
    "print(\"Example for 3-Dimensional numpy array with reshape\\n\")\n",
    "print(\"reshape(#sets, #rows_in_each_set, #columns_in_each_set) = reshape(2,4,5)\")\n",
    "\n",
    "a = np.array(np.arange(40).reshape(2,4,5))\n",
    "print(\"array : \\n\", a)\n",
    "print(\"\\nType of a:\", type(a))\n",
    "print(\"Dimentions of a: \", np.ndim(a))\n",
    "print(\"Datatype of a: \", a.dtype)"
   ]
  },
  {
   "cell_type": "code",
   "execution_count": null,
   "metadata": {},
   "outputs": [],
   "source": []
  },
  {
   "cell_type": "markdown",
   "metadata": {},
   "source": [
    "# 4) Shape of Array"
   ]
  },
  {
   "cell_type": "code",
   "execution_count": 35,
   "metadata": {},
   "outputs": [
    {
     "name": "stdout",
     "output_type": "stream",
     "text": [
      "Example of Shape function for 0-Dimensional array:\n",
      "\n",
      "array: \n",
      " 20\n",
      "\n",
      "Shape:  ()\n",
      "\n",
      "Shape:  ()\n",
      "\n",
      "# of Dimensions 0\n"
     ]
    }
   ],
   "source": [
    "#shape--> returns share of the array\n",
    "\n",
    "print(\"Example of Shape function for 0-Dimensional array:\\n\")\n",
    "a = np.array(20)\n",
    "print(\"array: \\n\", a)\n",
    "print(\"\\nShape: \", np.shape(a)) #approach1\n",
    "\n",
    "print(\"\\nShape: \", a.shape)#approach2\n",
    "print(\"\\n# of Dimensions\", np.ndim(a))\n"
   ]
  },
  {
   "cell_type": "code",
   "execution_count": 36,
   "metadata": {},
   "outputs": [
    {
     "name": "stdout",
     "output_type": "stream",
     "text": [
      "Example of Shape function for 1-Dimensional array:\n",
      "\n",
      "array: \n",
      " [0 1 2 3 4 5 6 7 8 9]\n",
      "\n",
      "Shape:  (10,)\n",
      "\n",
      "Shape:  (10,)\n",
      "\n",
      "# of Dimensions 1\n"
     ]
    }
   ],
   "source": [
    "print(\"Example of Shape function for 1-Dimensional array:\\n\")\n",
    "a = np.array(np.arange(10))\n",
    "print(\"array: \\n\", a)\n",
    "print(\"\\nShape: \", np.shape(a)) #approach1\n",
    "\n",
    "print(\"\\nShape: \", a.shape)#approach2\n",
    "print(\"\\n# of Dimensions\", np.ndim(a))\n"
   ]
  },
  {
   "cell_type": "code",
   "execution_count": 38,
   "metadata": {},
   "outputs": [
    {
     "name": "stdout",
     "output_type": "stream",
     "text": [
      "Example of Shape function for 2-Dimensional array:\n",
      "\n",
      "array: \n",
      " [[0 1 2 3 4]\n",
      " [5 6 7 8 9]]\n",
      "\n",
      "Shape:  (2, 5)\n",
      "\n",
      "Shape:  (2, 5)\n",
      "\n",
      "# of Dimensions 2\n"
     ]
    }
   ],
   "source": [
    "print(\"Example of Shape function for 2-Dimensional array:\\n\")\n",
    "a = np.array(np.arange(10).reshape(2,5))\n",
    "print(\"array: \\n\", a)\n",
    "print(\"\\nShape: \", np.shape(a)) #approach1\n",
    "\n",
    "print(\"\\nShape: \", a.shape)#approach2\n",
    "print(\"\\n# of Dimensions\", np.ndim(a))\n"
   ]
  },
  {
   "cell_type": "code",
   "execution_count": 40,
   "metadata": {},
   "outputs": [
    {
     "name": "stdout",
     "output_type": "stream",
     "text": [
      "Example of Shape function for 3-Dimensional array:\n",
      "\n",
      "array: \n",
      " [[[ 0  1]\n",
      "  [ 2  3]\n",
      "  [ 4  5]\n",
      "  [ 6  7]\n",
      "  [ 8  9]]\n",
      "\n",
      " [[10 11]\n",
      "  [12 13]\n",
      "  [14 15]\n",
      "  [16 17]\n",
      "  [18 19]]]\n",
      "\n",
      "Shape:  (2, 5, 2)\n",
      "\n",
      "Shape:  (2, 5, 2)\n",
      "\n",
      "# of Dimensions 3\n"
     ]
    }
   ],
   "source": [
    "print(\"Example of Shape function for 3-Dimensional array:\\n\")\n",
    "a = np.array(np.arange(20).reshape(2,5,2))\n",
    "print(\"array: \\n\", a)\n",
    "print(\"\\nShape: \", np.shape(a)) #approach1\n",
    "\n",
    "print(\"\\nShape: \", a.shape)#approach2\n",
    "print(\"\\n# of Dimensions\", np.ndim(a))\n"
   ]
  },
  {
   "cell_type": "code",
   "execution_count": null,
   "metadata": {},
   "outputs": [],
   "source": []
  },
  {
   "cell_type": "code",
   "execution_count": null,
   "metadata": {},
   "outputs": [],
   "source": []
  },
  {
   "cell_type": "code",
   "execution_count": null,
   "metadata": {},
   "outputs": [],
   "source": []
  },
  {
   "cell_type": "code",
   "execution_count": null,
   "metadata": {},
   "outputs": [],
   "source": []
  },
  {
   "cell_type": "code",
   "execution_count": null,
   "metadata": {},
   "outputs": [],
   "source": []
  },
  {
   "cell_type": "code",
   "execution_count": null,
   "metadata": {},
   "outputs": [],
   "source": []
  },
  {
   "cell_type": "code",
   "execution_count": null,
   "metadata": {},
   "outputs": [],
   "source": []
  },
  {
   "cell_type": "code",
   "execution_count": null,
   "metadata": {},
   "outputs": [],
   "source": []
  },
  {
   "cell_type": "code",
   "execution_count": null,
   "metadata": {},
   "outputs": [],
   "source": []
  },
  {
   "cell_type": "code",
   "execution_count": null,
   "metadata": {},
   "outputs": [],
   "source": []
  },
  {
   "cell_type": "code",
   "execution_count": null,
   "metadata": {},
   "outputs": [],
   "source": []
  },
  {
   "cell_type": "markdown",
   "metadata": {},
   "source": [
    "` Hello `"
   ]
  },
  {
   "cell_type": "code",
   "execution_count": null,
   "metadata": {},
   "outputs": [],
   "source": []
  },
  {
   "cell_type": "code",
   "execution_count": null,
   "metadata": {},
   "outputs": [],
   "source": []
  },
  {
   "cell_type": "code",
   "execution_count": null,
   "metadata": {},
   "outputs": [],
   "source": []
  }
 ],
 "metadata": {
  "kernelspec": {
   "display_name": "Python 3",
   "language": "python",
   "name": "python3"
  },
  "language_info": {
   "codemirror_mode": {
    "name": "ipython",
    "version": 3
   },
   "file_extension": ".py",
   "mimetype": "text/x-python",
   "name": "python",
   "nbconvert_exporter": "python",
   "pygments_lexer": "ipython3",
   "version": "3.7.1"
  }
 },
 "nbformat": 4,
 "nbformat_minor": 2
}
