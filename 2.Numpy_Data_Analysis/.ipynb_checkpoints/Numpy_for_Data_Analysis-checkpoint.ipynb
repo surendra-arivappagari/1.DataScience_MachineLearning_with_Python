{
 "cells": [
  {
   "cell_type": "markdown",
   "metadata": {},
   "source": [
    "# Numpy - Tutorials:"
   ]
  },
  {
   "cell_type": "markdown",
   "metadata": {},
   "source": [
    "> - Numpy : Numerical Python <br>\n",
    "> -  NumPy is the fundamental package for scientific computing in Python. <br>\n",
    "> - It is a Python library that provides a multidimensional array object. <br>\n",
    "> - NumPy arrays are faster and more compact than Python lists. <br>\n",
    "> - While a Python list can contain different data types within a single list, all of the elements in a NumPy array should be homogeneous."
   ]
  },
  {
   "cell_type": "markdown",
   "metadata": {},
   "source": [
    "# 1. Import package"
   ]
  },
  {
   "cell_type": "code",
   "execution_count": 1,
   "metadata": {},
   "outputs": [],
   "source": [
    "import numpy as np"
   ]
  },
  {
   "cell_type": "markdown",
   "metadata": {},
   "source": [
    "# 2.Creating Numpy array:"
   ]
  },
  {
   "cell_type": "markdown",
   "metadata": {},
   "source": [
    "#### 2A) np.arange()"
   ]
  },
  {
   "cell_type": "code",
   "execution_count": 2,
   "metadata": {},
   "outputs": [
    {
     "name": "stdout",
     "output_type": "stream",
     "text": [
      "2A. Numpy Array using arange()\n",
      "[0 1 2 3 4 5 6 7 8 9]\n"
     ]
    },
    {
     "data": {
      "text/plain": [
       "numpy.ndarray"
      ]
     },
     "execution_count": 2,
     "metadata": {},
     "output_type": "execute_result"
    }
   ],
   "source": [
    "#arange([start,] stop[, step], [, dtype=None]\n",
    "#np.arange() --> will be useful, when we know start, end, step size. But dont know howmany #of values will come\n",
    "\n",
    "#Method-1: using np.arange()\n",
    "print(\"2A. Numpy Array using arange()\")\n",
    "\n",
    "a = np.arange(10)\n",
    "print(a)\n",
    "type(a)"
   ]
  },
  {
   "cell_type": "code",
   "execution_count": 3,
   "metadata": {},
   "outputs": [
    {
     "name": "stdout",
     "output_type": "stream",
     "text": [
      "[0 1 2 3 4 5 6 7 8 9]\n"
     ]
    }
   ],
   "source": [
    "#Method-2 by providing start, end\n",
    "\n",
    "b =np.arange(0,10)\n",
    "print(b)"
   ]
  },
  {
   "cell_type": "code",
   "execution_count": 4,
   "metadata": {
    "scrolled": true
   },
   "outputs": [
    {
     "name": "stdout",
     "output_type": "stream",
     "text": [
      "[0 2 4 6 8]\n"
     ]
    }
   ],
   "source": [
    "#Method-3 by providing start,end,step, data type\n",
    "\n",
    "c =np.arange(0,10,2,int)\n",
    "print(c)"
   ]
  },
  {
   "cell_type": "code",
   "execution_count": 5,
   "metadata": {},
   "outputs": [
    {
     "data": {
      "text/plain": [
       "array([0.1, 0.8, 1.5, 2.2, 2.9, 3.6, 4.3, 5. , 5.7, 6.4, 7.1, 7.8])"
      ]
     },
     "execution_count": 5,
     "metadata": {},
     "output_type": "execute_result"
    }
   ],
   "source": [
    "#Try for floating numbers,\n",
    "a = np.arange(0.1, 8.4, 0.7)\n",
    "a"
   ]
  },
  {
   "cell_type": "code",
   "execution_count": 6,
   "metadata": {},
   "outputs": [
    {
     "data": {
      "text/plain": [
       "array([ 0,  1,  2,  3,  4,  5,  6,  7,  8,  9, 10, 11])"
      ]
     },
     "execution_count": 6,
     "metadata": {},
     "output_type": "execute_result"
    }
   ],
   "source": [
    "#Try for floating numbers by giving dtype parameter\n",
    "a = np.arange(0.6, 8.4, 0.7, int)\n",
    "a"
   ]
  },
  {
   "cell_type": "raw",
   "metadata": {},
   "source": [
    " "
   ]
  },
  {
   "cell_type": "markdown",
   "metadata": {},
   "source": [
    "#### 2B) np.linspace()"
   ]
  },
  {
   "cell_type": "code",
   "execution_count": 7,
   "metadata": {},
   "outputs": [
    {
     "data": {
      "text/plain": [
       "array([ 1.        ,  1.18367347,  1.36734694,  1.55102041,  1.73469388,\n",
       "        1.91836735,  2.10204082,  2.28571429,  2.46938776,  2.65306122,\n",
       "        2.83673469,  3.02040816,  3.20408163,  3.3877551 ,  3.57142857,\n",
       "        3.75510204,  3.93877551,  4.12244898,  4.30612245,  4.48979592,\n",
       "        4.67346939,  4.85714286,  5.04081633,  5.2244898 ,  5.40816327,\n",
       "        5.59183673,  5.7755102 ,  5.95918367,  6.14285714,  6.32653061,\n",
       "        6.51020408,  6.69387755,  6.87755102,  7.06122449,  7.24489796,\n",
       "        7.42857143,  7.6122449 ,  7.79591837,  7.97959184,  8.16326531,\n",
       "        8.34693878,  8.53061224,  8.71428571,  8.89795918,  9.08163265,\n",
       "        9.26530612,  9.44897959,  9.63265306,  9.81632653, 10.        ])"
      ]
     },
     "execution_count": 7,
     "metadata": {},
     "output_type": "execute_result"
    }
   ],
   "source": [
    "#linspace(start, stop, num=50)\n",
    "#np.linspace() --> used when we want exact #of values between 2 numbers. ##no need to worry about step in this method\n",
    "\n",
    "a = np.linspace(1,10)  #default #of values=50\n",
    "a"
   ]
  },
  {
   "cell_type": "code",
   "execution_count": 8,
   "metadata": {},
   "outputs": [
    {
     "data": {
      "text/plain": [
       "array([ 0.,  7., 14., 21.])"
      ]
     },
     "execution_count": 8,
     "metadata": {},
     "output_type": "execute_result"
    }
   ],
   "source": [
    "a = np.linspace(0,21,4)\n",
    "a"
   ]
  },
  {
   "cell_type": "markdown",
   "metadata": {},
   "source": [
    "#### 2C) np.array()"
   ]
  },
  {
   "cell_type": "code",
   "execution_count": 9,
   "metadata": {},
   "outputs": [
    {
     "name": "stdout",
     "output_type": "stream",
     "text": [
      "Example for 0-Dimensional numpy array\n",
      "\n",
      "array :  40\n",
      "Type of a: <class 'numpy.ndarray'>\n",
      "Dimentions of a:  0\n",
      "Datatype of a:  int32\n"
     ]
    }
   ],
   "source": [
    "#By using np.array() --> we can create multidimentional arrays in Numpy.\n",
    "#Scalars are zero dimensional.\n",
    "\n",
    "print(\"Example for 0-Dimensional numpy array\\n\")\n",
    "\n",
    "a = np.array(40)\n",
    "print(\"array : \", a)\n",
    "print(\"Type of a:\", type(a))\n",
    "print(\"Dimentions of a: \", np.ndim(a))\n",
    "print(\"Datatype of a: \", a.dtype)"
   ]
  },
  {
   "cell_type": "code",
   "execution_count": 10,
   "metadata": {},
   "outputs": [
    {
     "name": "stdout",
     "output_type": "stream",
     "text": [
      "Example for 1-Dimensional numpy  array\n",
      "\n",
      "array :  [0.  0.5 1.  1.5 2.  2.5 3.  3.5 4.  4.5]\n",
      "Type of a: <class 'numpy.ndarray'>\n",
      "Dimentions of a:  1\n",
      "Datatype of a:  float64\n"
     ]
    }
   ],
   "source": [
    "print(\"Example for 1-Dimensional numpy  array\\n\")\n",
    "\n",
    "a = np.array(np.arange(0,5,0.5))\n",
    "print(\"array : \", a)\n",
    "print(\"Type of a:\", type(a))\n",
    "print(\"Dimentions of a: \", np.ndim(a))\n",
    "print(\"Datatype of a: \", a.dtype)"
   ]
  },
  {
   "cell_type": "code",
   "execution_count": 11,
   "metadata": {},
   "outputs": [
    {
     "name": "stdout",
     "output_type": "stream",
     "text": [
      "Example for 1-Dimensional numpy  array\n",
      "\n",
      "array :  ['1' '9' '7' '8' '3' '6' '2' '9' 'H']\n",
      "Type of a: <class 'numpy.ndarray'>\n",
      "Dimentions of a:  1\n",
      "Datatype of a:  <U11\n"
     ]
    }
   ],
   "source": [
    "print(\"Example for 1-Dimensional numpy  array\\n\")\n",
    "\n",
    "a = np.array([1,9,7,8,3,6,2,9,'H'])\n",
    "print(\"array : \", a)\n",
    "print(\"Type of a:\", type(a))\n",
    "print(\"Dimentions of a: \", np.ndim(a))\n",
    "print(\"Datatype of a: \", a.dtype)"
   ]
  },
  {
   "cell_type": "code",
   "execution_count": 12,
   "metadata": {},
   "outputs": [
    {
     "name": "stdout",
     "output_type": "stream",
     "text": [
      "Example for 2-Dimensional numpy  array\n",
      "\n",
      "array : \n",
      " [[1 2 3]\n",
      " [4 5 6]\n",
      " [7 8 9]]\n",
      "\n",
      "Type of a: <class 'numpy.ndarray'>\n",
      "Dimentions of a:  2\n",
      "Datatype of a:  int32\n"
     ]
    }
   ],
   "source": [
    "print(\"Example for 2-Dimensional numpy  array\\n\")\n",
    "\n",
    "a = np.array([[1,2,3],[4,5,6],[7,8,9]])\n",
    "print(\"array : \\n\", a)\n",
    "print(\"\\nType of a:\", type(a))\n",
    "print(\"Dimentions of a: \", np.ndim(a))\n",
    "print(\"Datatype of a: \", a.dtype)"
   ]
  },
  {
   "cell_type": "code",
   "execution_count": 13,
   "metadata": {},
   "outputs": [
    {
     "name": "stdout",
     "output_type": "stream",
     "text": [
      "Example for 2-Dimensional numpy  array\n",
      "\n",
      "array : \n",
      " [[ 0  1  2  3  4]\n",
      " [ 5  6  7  8  9]\n",
      " [10 11 12 13 14]\n",
      " [15 16 17 18 19]]\n",
      "\n",
      "Type of a: <class 'numpy.ndarray'>\n",
      "Dimentions of a:  2\n",
      "Datatype of a:  int32\n"
     ]
    }
   ],
   "source": [
    "print(\"Example for 2-Dimensional numpy  array\\n\")\n",
    "\n",
    "a = np.array(np.arange(20).reshape(4,5))\n",
    "print(\"array : \\n\", a)\n",
    "print(\"\\nType of a:\", type(a))\n",
    "print(\"Dimentions of a: \", np.ndim(a))\n",
    "print(\"Datatype of a: \", a.dtype)"
   ]
  },
  {
   "cell_type": "code",
   "execution_count": 14,
   "metadata": {},
   "outputs": [
    {
     "name": "stdout",
     "output_type": "stream",
     "text": [
      "Example for 3-Dimensional numpy  array\n",
      "\n",
      "array : \n",
      " [[[ 0  1  2  3  4]\n",
      "  [ 5  6  7  8  9]]\n",
      "\n",
      " [[10 11 12 13 14]\n",
      "  [15 16 17 18 19]]]\n",
      "\n",
      "Type of a: <class 'numpy.ndarray'>\n",
      "Dimentions of a:  3\n",
      "Datatype of a:  int32\n"
     ]
    }
   ],
   "source": [
    "print(\"Example for 3-Dimensional numpy  array\\n\")\n",
    "\n",
    "a = np.array(np.arange(20).reshape(2,2,5))\n",
    "print(\"array : \\n\", a)\n",
    "print(\"\\nType of a:\", type(a))\n",
    "print(\"Dimentions of a: \", np.ndim(a))\n",
    "print(\"Datatype of a: \", a.dtype)"
   ]
  },
  {
   "cell_type": "code",
   "execution_count": 15,
   "metadata": {},
   "outputs": [
    {
     "name": "stdout",
     "output_type": "stream",
     "text": [
      "Example for 3-Dimensional numpy  array\n",
      "\n",
      "array : \n",
      " [[[ 0  1]\n",
      "  [ 2  3]\n",
      "  [ 4  5]\n",
      "  [ 6  7]\n",
      "  [ 8  9]]\n",
      "\n",
      " [[10 11]\n",
      "  [12 13]\n",
      "  [14 15]\n",
      "  [16 17]\n",
      "  [18 19]]]\n",
      "\n",
      "Type of a: <class 'numpy.ndarray'>\n",
      "Dimentions of a:  3\n",
      "Datatype of a:  int32\n"
     ]
    }
   ],
   "source": [
    "print(\"Example for 3-Dimensional numpy  array\\n\")\n",
    "\n",
    "a = np.array(np.arange(20).reshape(2,5,2))\n",
    "print(\"array : \\n\", a)\n",
    "print(\"\\nType of a:\", type(a))\n",
    "print(\"Dimentions of a: \", np.ndim(a))\n",
    "print(\"Datatype of a: \", a.dtype)"
   ]
  },
  {
   "cell_type": "code",
   "execution_count": null,
   "metadata": {},
   "outputs": [],
   "source": []
  },
  {
   "cell_type": "markdown",
   "metadata": {},
   "source": [
    "# 3) ReShape the array"
   ]
  },
  {
   "cell_type": "code",
   "execution_count": 16,
   "metadata": {},
   "outputs": [
    {
     "name": "stdout",
     "output_type": "stream",
     "text": [
      "Example for 2-Dimensional numpy array with reshape\n",
      "\n",
      "reshape(#rows, #columns) = reshape(5,4)\n",
      "array : \n",
      " [[ 0  1  2  3]\n",
      " [ 4  5  6  7]\n",
      " [ 8  9 10 11]\n",
      " [12 13 14 15]\n",
      " [16 17 18 19]]\n",
      "\n",
      "Type of a: <class 'numpy.ndarray'>\n",
      "Dimentions of a:  2\n",
      "Datatype of a:  int32\n"
     ]
    }
   ],
   "source": [
    "#The reshape() function is used to give a new shape to an array without changing its data\n",
    "print(\"Example for 2-Dimensional numpy array with reshape\\n\")\n",
    "print(\"reshape(#rows, #columns) = reshape(5,4)\")\n",
    "\n",
    "a = np.array(np.arange(20).reshape(5,4))\n",
    "print(\"array : \\n\", a)\n",
    "print(\"\\nType of a:\", type(a))\n",
    "print(\"Dimentions of a: \", np.ndim(a))\n",
    "print(\"Datatype of a: \", a.dtype)"
   ]
  },
  {
   "cell_type": "code",
   "execution_count": 17,
   "metadata": {},
   "outputs": [
    {
     "name": "stdout",
     "output_type": "stream",
     "text": [
      "Example for 2-Dimensional numpy array with reshape\n",
      "\n",
      "reshape(#rows, #columns) = reshape(4,5)\n",
      "array : \n",
      " [[ 0  1  2  3  4]\n",
      " [ 5  6  7  8  9]\n",
      " [10 11 12 13 14]\n",
      " [15 16 17 18 19]]\n",
      "\n",
      "Type of a: <class 'numpy.ndarray'>\n",
      "Dimentions of a:  2\n",
      "Datatype of a:  int32\n"
     ]
    }
   ],
   "source": [
    "print(\"Example for 2-Dimensional numpy array with reshape\\n\")\n",
    "print(\"reshape(#rows, #columns) = reshape(4,5)\")\n",
    "\n",
    "a = np.array(np.arange(20).reshape(4,5))\n",
    "print(\"array : \\n\", a)\n",
    "print(\"\\nType of a:\", type(a))\n",
    "print(\"Dimentions of a: \", np.ndim(a))\n",
    "print(\"Datatype of a: \", a.dtype)"
   ]
  },
  {
   "cell_type": "code",
   "execution_count": 18,
   "metadata": {},
   "outputs": [
    {
     "name": "stdout",
     "output_type": "stream",
     "text": [
      "Example for 3-Dimensional numpy array with reshape\n",
      "\n",
      "reshape(#sets, #rows_in_each_set, #columns_in_each_set) = reshape(2,4,5)\n",
      "array : \n",
      " [[[ 0  1  2  3  4]\n",
      "  [ 5  6  7  8  9]\n",
      "  [10 11 12 13 14]\n",
      "  [15 16 17 18 19]]\n",
      "\n",
      " [[20 21 22 23 24]\n",
      "  [25 26 27 28 29]\n",
      "  [30 31 32 33 34]\n",
      "  [35 36 37 38 39]]]\n",
      "\n",
      "Type of a: <class 'numpy.ndarray'>\n",
      "Dimentions of a:  3\n",
      "Datatype of a:  int32\n"
     ]
    }
   ],
   "source": [
    "print(\"Example for 3-Dimensional numpy array with reshape\\n\")\n",
    "print(\"reshape(#sets, #rows_in_each_set, #columns_in_each_set) = reshape(2,4,5)\")\n",
    "\n",
    "a = np.array(np.arange(40).reshape(2,4,5))\n",
    "print(\"array : \\n\", a)\n",
    "print(\"\\nType of a:\", type(a))\n",
    "print(\"Dimentions of a: \", np.ndim(a))\n",
    "print(\"Datatype of a: \", a.dtype)"
   ]
  },
  {
   "cell_type": "code",
   "execution_count": null,
   "metadata": {},
   "outputs": [],
   "source": []
  },
  {
   "cell_type": "markdown",
   "metadata": {},
   "source": [
    "# 4) Shape of Array"
   ]
  },
  {
   "cell_type": "code",
   "execution_count": 35,
   "metadata": {},
   "outputs": [
    {
     "name": "stdout",
     "output_type": "stream",
     "text": [
      "Example of Shape function for 0-Dimensional array:\n",
      "\n",
      "array: \n",
      " 20\n",
      "\n",
      "Shape:  ()\n",
      "\n",
      "Shape:  ()\n",
      "\n",
      "# of Dimensions 0\n"
     ]
    }
   ],
   "source": [
    "#shape--> returns share of the array\n",
    "\n",
    "print(\"Example of Shape function for 0-Dimensional array:\\n\")\n",
    "a = np.array(20)\n",
    "print(\"array: \\n\", a)\n",
    "print(\"\\nShape: \", np.shape(a)) #approach1\n",
    "\n",
    "print(\"\\nShape: \", a.shape)#approach2\n",
    "print(\"\\n# of Dimensions\", np.ndim(a))\n"
   ]
  },
  {
   "cell_type": "code",
   "execution_count": 36,
   "metadata": {},
   "outputs": [
    {
     "name": "stdout",
     "output_type": "stream",
     "text": [
      "Example of Shape function for 1-Dimensional array:\n",
      "\n",
      "array: \n",
      " [0 1 2 3 4 5 6 7 8 9]\n",
      "\n",
      "Shape:  (10,)\n",
      "\n",
      "Shape:  (10,)\n",
      "\n",
      "# of Dimensions 1\n"
     ]
    }
   ],
   "source": [
    "print(\"Example of Shape function for 1-Dimensional array:\\n\")\n",
    "a = np.array(np.arange(10))\n",
    "print(\"array: \\n\", a)\n",
    "print(\"\\nShape: \", np.shape(a)) #approach1\n",
    "\n",
    "print(\"\\nShape: \", a.shape)#approach2\n",
    "print(\"\\n# of Dimensions\", np.ndim(a))\n"
   ]
  },
  {
   "cell_type": "code",
   "execution_count": 38,
   "metadata": {},
   "outputs": [
    {
     "name": "stdout",
     "output_type": "stream",
     "text": [
      "Example of Shape function for 2-Dimensional array:\n",
      "\n",
      "array: \n",
      " [[0 1 2 3 4]\n",
      " [5 6 7 8 9]]\n",
      "\n",
      "Shape:  (2, 5)\n",
      "\n",
      "Shape:  (2, 5)\n",
      "\n",
      "# of Dimensions 2\n"
     ]
    }
   ],
   "source": [
    "print(\"Example of Shape function for 2-Dimensional array:\\n\")\n",
    "a = np.array(np.arange(10).reshape(2,5))\n",
    "print(\"array: \\n\", a)\n",
    "print(\"\\nShape: \", np.shape(a)) #approach1\n",
    "\n",
    "print(\"\\nShape: \", a.shape)#approach2\n",
    "print(\"\\n# of Dimensions\", np.ndim(a))\n"
   ]
  },
  {
   "cell_type": "code",
   "execution_count": 40,
   "metadata": {},
   "outputs": [
    {
     "name": "stdout",
     "output_type": "stream",
     "text": [
      "Example of Shape function for 3-Dimensional array:\n",
      "\n",
      "array: \n",
      " [[[ 0  1]\n",
      "  [ 2  3]\n",
      "  [ 4  5]\n",
      "  [ 6  7]\n",
      "  [ 8  9]]\n",
      "\n",
      " [[10 11]\n",
      "  [12 13]\n",
      "  [14 15]\n",
      "  [16 17]\n",
      "  [18 19]]]\n",
      "\n",
      "Shape:  (2, 5, 2)\n",
      "\n",
      "Shape:  (2, 5, 2)\n",
      "\n",
      "# of Dimensions 3\n"
     ]
    }
   ],
   "source": [
    "print(\"Example of Shape function for 3-Dimensional array:\\n\")\n",
    "a = np.array(np.arange(20).reshape(2,5,2))\n",
    "print(\"array: \\n\", a)\n",
    "print(\"\\nShape: \", np.shape(a)) #approach1\n",
    "\n",
    "print(\"\\nShape: \", a.shape)#approach2\n",
    "print(\"\\n# of Dimensions\", np.ndim(a))\n"
   ]
  },
  {
   "cell_type": "code",
   "execution_count": 72,
   "metadata": {},
   "outputs": [
    {
     "name": "stdout",
     "output_type": "stream",
     "text": [
      "Example of Shape function for 2-Dimensional array and reassign the shape of array:\n",
      "\n",
      "array: \n",
      " [[ 0  1  2  3  4]\n",
      " [ 5  6  7  8  9]\n",
      " [10 11 12 13 14]\n",
      " [15 16 17 18 19]]\n",
      "\n",
      "Shape:  (4, 5)\n",
      "\n",
      "Shape:  (4, 5)\n",
      "\n",
      "# of Dimensions 2\n",
      "\n",
      "Re assign the shape of array to 2,10\n",
      "\n",
      "array: \n",
      " [[ 0  1  2  3  4  5  6  7  8  9]\n",
      " [10 11 12 13 14 15 16 17 18 19]]\n"
     ]
    }
   ],
   "source": [
    "print(\"Example of Shape function for 2-Dimensional array and reassign the shape of array:\\n\")\n",
    "a = np.array(np.arange(20).reshape(4,5))\n",
    "print(\"array: \\n\", a)\n",
    "print(\"\\nShape: \", np.shape(a)) #approach1\n",
    "\n",
    "print(\"\\nShape: \", a.shape)#approach2\n",
    "print(\"\\n# of Dimensions\", np.ndim(a))\n",
    "\n",
    "print(\"\\nRe assign the shape of array to 2,10\\n\")\n",
    "a.shape = (2,10)\n",
    "print(\"array: \\n\", a)\n"
   ]
  },
  {
   "cell_type": "markdown",
   "metadata": {},
   "source": [
    "# 5) Indexing and Slicing"
   ]
  },
  {
   "cell_type": "code",
   "execution_count": 57,
   "metadata": {},
   "outputs": [
    {
     "name": "stdout",
     "output_type": "stream",
     "text": [
      "Indexing Example for 1D array\n",
      "\n",
      " Array: [0 1 2 3 4 5 6 7]\n",
      "\n",
      " Access 3rd elements in Array:  2\n",
      "\n",
      " Access first elements in Array:  0\n",
      "\n",
      " Access last elements in Array:  7\n"
     ]
    }
   ],
   "source": [
    "#By using index we can access the elements in a Numpy array just like accessing elements in List, Tuple\n",
    "#A[start:stop:step] this conecpt applicable to slicing the Numpy array aswell\n",
    "print(\"Indexing Example for 1D array\")\n",
    "a = np.array([0,1,2,3,4,5,6,7])\n",
    "\n",
    "print(\"\\n Array:\", a)\n",
    "print(\"\\n Access 3rd elements in Array: \", a[2])\n",
    "print(\"\\n Access first elements in Array: \", a[0])\n",
    "print(\"\\n Access last elements in Array: \", a[-1])"
   ]
  },
  {
   "cell_type": "code",
   "execution_count": 56,
   "metadata": {},
   "outputs": [
    {
     "name": "stdout",
     "output_type": "stream",
     "text": [
      "Indexing Example for 3D array\n",
      "\n",
      " Array:\n",
      " [[ 0  1  2  3  4]\n",
      " [ 5  6  7  8  9]\n",
      " [10 11 12 13 14]\n",
      " [15 16 17 18 19]]\n",
      "\n",
      " Access 1st row in Array:  [0 1 2 3 4]\n",
      "\n",
      " Access last row in Array:  [15 16 17 18 19]\n",
      "\n",
      " Access first column in Array:  [ 0  5 10 15]\n",
      "\n",
      " Access last column in Array:  [ 4  9 14 19]\n"
     ]
    }
   ],
   "source": [
    "print(\"Indexing Example for 3D array\")\n",
    "a = np.array(np.arange(20).reshape(4,5))\n",
    "\n",
    "print(\"\\n Array:\\n\", a)\n",
    "print(\"\\n Access 1st row in Array: \", a[0])\n",
    "print(\"\\n Access last row in Array: \", a[-1])\n",
    "print(\"\\n Access first column in Array: \", a[:,0])\n",
    "print(\"\\n Access last column in Array: \", a[:,-1])"
   ]
  },
  {
   "cell_type": "code",
   "execution_count": 58,
   "metadata": {},
   "outputs": [
    {
     "name": "stdout",
     "output_type": "stream",
     "text": [
      "Slicing Example for 3D array\n",
      "\n",
      " Array:\n",
      " [[ 0  1  2  3  4]\n",
      " [ 5  6  7  8  9]\n",
      " [10 11 12 13 14]\n",
      " [15 16 17 18 19]]\n",
      "\n",
      " Access middle array by eliminating borders:\n",
      "  [[ 6  7  8]\n",
      " [11 12 13]]\n"
     ]
    }
   ],
   "source": [
    "print(\"Slicing Example for 3D array\")\n",
    "a = np.array(np.arange(20).reshape(4,5))\n",
    "\n",
    "print(\"\\n Array:\\n\", a)\n",
    "print(\"\\n Access middle array by eliminating borders:\\n \", a[1:3,1:4])\n"
   ]
  },
  {
   "cell_type": "code",
   "execution_count": 2,
   "metadata": {},
   "outputs": [
    {
     "name": "stdout",
     "output_type": "stream",
     "text": [
      "Slicing Example for 2D array with 3 parameters.A[start:stop:step]\n",
      "\n",
      " Array:\n",
      " [[ 0  1  2  3  4]\n",
      " [ 5  6  7  8  9]\n",
      " [10 11 12 13 14]\n",
      " [15 16 17 18 19]\n",
      " [20 21 22 23 24]\n",
      " [25 26 27 28 29]\n",
      " [30 31 32 33 34]\n",
      " [35 36 37 38 39]]\n",
      "\n",
      " Access array with 3 parameters A[start:stop:step]:\n",
      "  [[ 5  6  7  8  9]\n",
      " [15 16 17 18 19]\n",
      " [25 26 27 28 29]]\n"
     ]
    }
   ],
   "source": [
    "print(\"Slicing Example for 2D array with 3 parameters.A[start:stop:step]\")\n",
    "a = np.array(np.arange(40).reshape(8,5))\n",
    "\n",
    "print(\"\\n Array:\\n\", a)\n",
    "print(\"\\n Access array with 3 parameters A[start:stop:step]:\\n \", a[1:6:2])\n"
   ]
  },
  {
   "cell_type": "markdown",
   "metadata": {},
   "source": [
    "# 6) Numpy Special Arrays: ones(), zeros(), empty()"
   ]
  },
  {
   "cell_type": "markdown",
   "metadata": {},
   "source": [
    "#### np.ones()"
   ]
  },
  {
   "cell_type": "code",
   "execution_count": 10,
   "metadata": {},
   "outputs": [
    {
     "name": "stdout",
     "output_type": "stream",
     "text": [
      "Ones() Example: with float type.\n",
      "\n",
      "Array:\n",
      " [1. 1. 1. 1. 1.]\n",
      "\n",
      "Array Dimension: 1\n"
     ]
    }
   ],
   "source": [
    "#np.ones()--> is used to fill all ones in array with given shape.\n",
    "#bydefault it will be float type\n",
    "\n",
    "print(\"Ones() Example: with float type.\\n\")\n",
    "a = np.ones(5)\n",
    "print(\"Array:\\n\",a)\n",
    "print(\"\\nArray Dimension:\", a.ndim)"
   ]
  },
  {
   "cell_type": "code",
   "execution_count": 13,
   "metadata": {
    "scrolled": true
   },
   "outputs": [
    {
     "name": "stdout",
     "output_type": "stream",
     "text": [
      "Ones() Example: with float type.\n",
      "\n",
      "Array:\n",
      " [1 1 1 1 1]\n",
      "\n",
      "Array Dimension: 1\n"
     ]
    }
   ],
   "source": [
    "print(\"Ones() Example: with defined type.\\n\")\n",
    "\n",
    "a = np.ones(5, dtype=int)\n",
    "print(\"Array:\\n\",a)\n",
    "print(\"\\nArray Dimension:\", a.ndim)"
   ]
  },
  {
   "cell_type": "code",
   "execution_count": 15,
   "metadata": {},
   "outputs": [
    {
     "name": "stdout",
     "output_type": "stream",
     "text": [
      "Ones() Example: with defined type and 2D array.\n",
      "\n",
      "Array:\n",
      " [[1 1 1 1 1]\n",
      " [1 1 1 1 1]\n",
      " [1 1 1 1 1]\n",
      " [1 1 1 1 1]]\n",
      "\n",
      "Array Dimension: 2\n"
     ]
    }
   ],
   "source": [
    "print(\"Ones() Example: with defined type and 2D array.\\n\")\n",
    "\n",
    "a = np.ones((4,5), dtype=int)\n",
    "print(\"Array:\\n\",a)\n",
    "print(\"\\nArray Dimension:\", a.ndim)"
   ]
  },
  {
   "cell_type": "code",
   "execution_count": 19,
   "metadata": {},
   "outputs": [
    {
     "name": "stdout",
     "output_type": "stream",
     "text": [
      "Ones() Example: with defined type and 3D array.\n",
      "\n",
      "Array:\n",
      " [[[1 1 1 1 1]\n",
      "  [1 1 1 1 1]\n",
      "  [1 1 1 1 1]\n",
      "  [1 1 1 1 1]]\n",
      "\n",
      " [[1 1 1 1 1]\n",
      "  [1 1 1 1 1]\n",
      "  [1 1 1 1 1]\n",
      "  [1 1 1 1 1]]\n",
      "\n",
      " [[1 1 1 1 1]\n",
      "  [1 1 1 1 1]\n",
      "  [1 1 1 1 1]\n",
      "  [1 1 1 1 1]]]\n",
      "\n",
      "Array Dimension: 3\n"
     ]
    }
   ],
   "source": [
    "print(\"Ones() Example: with defined type and 3D array.\\n\")\n",
    "\n",
    "a = np.ones((3,4,5), dtype=int)\n",
    "print(\"Array:\\n\",a)\n",
    "print(\"\\nArray Dimension:\", a.ndim)"
   ]
  },
  {
   "cell_type": "markdown",
   "metadata": {},
   "source": [
    "#### np.ones_like()"
   ]
  },
  {
   "cell_type": "code",
   "execution_count": 18,
   "metadata": {},
   "outputs": [
    {
     "name": "stdout",
     "output_type": "stream",
     "text": [
      "Example Array:\n",
      " [8 4 5 6 3]\n",
      "\n",
      "Target Array:\n",
      " [1 1 1 1 1]\n"
     ]
    }
   ],
   "source": [
    "#ones_like(<other_array_name>)--> used to print ones array in given ohter array dimension\n",
    "example_array = np.array([8,4,5,6,3])\n",
    "target_array = np.ones_like(example_array)\n",
    "print(\"Example Array:\\n\",example_array)\n",
    "print(\"\\nTarget Array:\\n\",target_array)"
   ]
  },
  {
   "cell_type": "code",
   "execution_count": 21,
   "metadata": {},
   "outputs": [
    {
     "name": "stdout",
     "output_type": "stream",
     "text": [
      "Example Array:\n",
      " [[[ 0  1  2  3  4]\n",
      "  [ 5  6  7  8  9]\n",
      "  [10 11 12 13 14]\n",
      "  [15 16 17 18 19]]\n",
      "\n",
      " [[20 21 22 23 24]\n",
      "  [25 26 27 28 29]\n",
      "  [30 31 32 33 34]\n",
      "  [35 36 37 38 39]]]\n",
      "\n",
      "Target Array:\n",
      " [[[1 1 1 1 1]\n",
      "  [1 1 1 1 1]\n",
      "  [1 1 1 1 1]\n",
      "  [1 1 1 1 1]]\n",
      "\n",
      " [[1 1 1 1 1]\n",
      "  [1 1 1 1 1]\n",
      "  [1 1 1 1 1]\n",
      "  [1 1 1 1 1]]]\n"
     ]
    }
   ],
   "source": [
    "example_array = np.arange(40).reshape(2,4,5)\n",
    "target_array = np.ones_like(example_array)\n",
    "print(\"Example Array:\\n\",example_array)\n",
    "print(\"\\nTarget Array:\\n\",target_array)"
   ]
  },
  {
   "cell_type": "markdown",
   "metadata": {},
   "source": [
    "#### np.zeros()"
   ]
  },
  {
   "cell_type": "code",
   "execution_count": 23,
   "metadata": {},
   "outputs": [
    {
     "name": "stdout",
     "output_type": "stream",
     "text": [
      "Zeros() Example: with defined type and 1D array.\n",
      "\n",
      "Array:\n",
      " [0 0 0 0 0]\n",
      "\n",
      "Array Dimension: 1\n"
     ]
    }
   ],
   "source": [
    "#np.zeros()--> is used to fill all zeros in array with given shape.\n",
    "#bydefault it will be float type\n",
    "\n",
    "print(\"Zeros() Example: with defined type and 1D array.\\n\")\n",
    "\n",
    "a = np.zeros(5, dtype=int)\n",
    "print(\"Array:\\n\",a)\n",
    "print(\"\\nArray Dimension:\", a.ndim)"
   ]
  },
  {
   "cell_type": "code",
   "execution_count": 24,
   "metadata": {},
   "outputs": [
    {
     "name": "stdout",
     "output_type": "stream",
     "text": [
      "Zeros() Example: with defined type and 2D array.\n",
      "\n",
      "Array:\n",
      " [[0 0 0 0 0]\n",
      " [0 0 0 0 0]\n",
      " [0 0 0 0 0]\n",
      " [0 0 0 0 0]]\n",
      "\n",
      "Array Dimension: 2\n"
     ]
    }
   ],
   "source": [
    "print(\"Zeros() Example: with defined type and 2D array.\\n\")\n",
    "\n",
    "a = np.zeros((4,5), dtype=int)\n",
    "print(\"Array:\\n\",a)\n",
    "print(\"\\nArray Dimension:\", a.ndim)"
   ]
  },
  {
   "cell_type": "code",
   "execution_count": 25,
   "metadata": {},
   "outputs": [
    {
     "name": "stdout",
     "output_type": "stream",
     "text": [
      "Zeros() Example: with defined type and 3D array.\n",
      "\n",
      "Array:\n",
      " [[[0 0 0 0 0]\n",
      "  [0 0 0 0 0]\n",
      "  [0 0 0 0 0]\n",
      "  [0 0 0 0 0]]\n",
      "\n",
      " [[0 0 0 0 0]\n",
      "  [0 0 0 0 0]\n",
      "  [0 0 0 0 0]\n",
      "  [0 0 0 0 0]]\n",
      "\n",
      " [[0 0 0 0 0]\n",
      "  [0 0 0 0 0]\n",
      "  [0 0 0 0 0]\n",
      "  [0 0 0 0 0]]]\n",
      "\n",
      "Array Dimension: 3\n"
     ]
    }
   ],
   "source": [
    "print(\"Zeros() Example: with defined type and 3D array.\\n\")\n",
    "\n",
    "a = np.zeros((3,4,5), dtype=int)\n",
    "print(\"Array:\\n\",a)\n",
    "print(\"\\nArray Dimension:\", a.ndim)"
   ]
  },
  {
   "cell_type": "markdown",
   "metadata": {},
   "source": [
    "#### np.zeros_like()"
   ]
  },
  {
   "cell_type": "code",
   "execution_count": 26,
   "metadata": {},
   "outputs": [
    {
     "name": "stdout",
     "output_type": "stream",
     "text": [
      "Example Array:\n",
      " [[[ 0  1  2  3  4]\n",
      "  [ 5  6  7  8  9]\n",
      "  [10 11 12 13 14]\n",
      "  [15 16 17 18 19]]\n",
      "\n",
      " [[20 21 22 23 24]\n",
      "  [25 26 27 28 29]\n",
      "  [30 31 32 33 34]\n",
      "  [35 36 37 38 39]]]\n",
      "\n",
      "Target Array:\n",
      " [[[0 0 0 0 0]\n",
      "  [0 0 0 0 0]\n",
      "  [0 0 0 0 0]\n",
      "  [0 0 0 0 0]]\n",
      "\n",
      " [[0 0 0 0 0]\n",
      "  [0 0 0 0 0]\n",
      "  [0 0 0 0 0]\n",
      "  [0 0 0 0 0]]]\n"
     ]
    }
   ],
   "source": [
    "example_array = np.arange(40).reshape(2,4,5)\n",
    "target_array = np.zeros_like(example_array)\n",
    "print(\"Example Array:\\n\",example_array)\n",
    "print(\"\\nTarget Array:\\n\",target_array)"
   ]
  },
  {
   "cell_type": "markdown",
   "metadata": {},
   "source": [
    "#### np.empty()"
   ]
  },
  {
   "cell_type": "code",
   "execution_count": 33,
   "metadata": {},
   "outputs": [
    {
     "data": {
      "text/plain": [
       "array([[0., 0., 0., 0., 0.],\n",
       "       [0., 0., 0., 0., 0.],\n",
       "       [0., 0., 0., 0., 0.]])"
      ]
     },
     "execution_count": 33,
     "metadata": {},
     "output_type": "execute_result"
    }
   ],
   "source": [
    "#np.empty()--> usually entries are zeros, but they are arbitrary values.\n",
    "a = np.empty((3,5))\n",
    "a"
   ]
  },
  {
   "cell_type": "markdown",
   "metadata": {},
   "source": [
    "# 7) Identity Array: np.identity(), np.eye()"
   ]
  },
  {
   "cell_type": "markdown",
   "metadata": {},
   "source": [
    "#### np.identity()"
   ]
  },
  {
   "cell_type": "code",
   "execution_count": 35,
   "metadata": {},
   "outputs": [
    {
     "name": "stdout",
     "output_type": "stream",
     "text": [
      "Example of Identity Array\n",
      "\n"
     ]
    },
    {
     "data": {
      "text/plain": [
       "array([[1., 0., 0., 0.],\n",
       "       [0., 1., 0., 0.],\n",
       "       [0., 0., 1., 0.],\n",
       "       [0., 0., 0., 1.]])"
      ]
     },
     "execution_count": 35,
     "metadata": {},
     "output_type": "execute_result"
    }
   ],
   "source": [
    "#np.identity(n, dtype=None)\n",
    "#In linear algebra, the identity matrix or unit matrix, of size n is the n × n square matrix.\n",
    "#values with ones on the main diagonal and zeros elsewhere.\n",
    "\n",
    "print(\"Example of Identity Array 4X4\\n\")\n",
    "a = np.identity(4)\n",
    "a"
   ]
  },
  {
   "cell_type": "code",
   "execution_count": 38,
   "metadata": {},
   "outputs": [
    {
     "name": "stdout",
     "output_type": "stream",
     "text": [
      "Example of Identity Array 5X5, with Int type\n",
      "\n"
     ]
    },
    {
     "data": {
      "text/plain": [
       "array([[1, 0, 0, 0, 0],\n",
       "       [0, 1, 0, 0, 0],\n",
       "       [0, 0, 1, 0, 0],\n",
       "       [0, 0, 0, 1, 0],\n",
       "       [0, 0, 0, 0, 1]])"
      ]
     },
     "execution_count": 38,
     "metadata": {},
     "output_type": "execute_result"
    }
   ],
   "source": [
    "print(\"Example of Identity Array 5X5, with Int type\\n\")\n",
    "a = np.identity(5, int)\n",
    "a"
   ]
  },
  {
   "cell_type": "markdown",
   "metadata": {},
   "source": [
    "#### np.eye()"
   ]
  },
  {
   "cell_type": "code",
   "execution_count": 42,
   "metadata": {},
   "outputs": [
    {
     "name": "stdout",
     "output_type": "stream",
     "text": [
      "Example of Eye Array 4X4 . If we give single parameter it will become square matrix\n",
      "\n"
     ]
    },
    {
     "data": {
      "text/plain": [
       "array([[1, 0, 0, 0],\n",
       "       [0, 1, 0, 0],\n",
       "       [0, 0, 1, 0],\n",
       "       [0, 0, 0, 1]])"
      ]
     },
     "execution_count": 42,
     "metadata": {},
     "output_type": "execute_result"
    }
   ],
   "source": [
    "#np.eye(N,M,K=0, dtype=None)\n",
    "#In linear algebra, the identity matrix or unit matrix, of size N X M  matrix.\n",
    "#values with ones on the main diagonal and zeros elsewhere, but diagonal will starts at K ht position.\n",
    "\n",
    "print(\"Example of Eye Array 4X4 . If we give single parameter it will become square matrix\\n\")\n",
    "a = np.eye(4, dtype=int)\n",
    "a"
   ]
  },
  {
   "cell_type": "code",
   "execution_count": 47,
   "metadata": {},
   "outputs": [
    {
     "name": "stdout",
     "output_type": "stream",
     "text": [
      "Eye(rows, columns) ecample. We have given rows X columns size. 4X6 Matrix\n"
     ]
    },
    {
     "data": {
      "text/plain": [
       "array([[1, 0, 0, 0, 0, 0],\n",
       "       [0, 1, 0, 0, 0, 0],\n",
       "       [0, 0, 1, 0, 0, 0],\n",
       "       [0, 0, 0, 1, 0, 0]])"
      ]
     },
     "execution_count": 47,
     "metadata": {},
     "output_type": "execute_result"
    }
   ],
   "source": [
    "# rows X columns \n",
    "\n",
    "print(\"Eye(rows, columns) ecample. We have given rows X columns size. 4X6 Matrix\")\n",
    "a = np.eye(4,6, dtype=int)\n",
    "a"
   ]
  },
  {
   "cell_type": "code",
   "execution_count": 59,
   "metadata": {},
   "outputs": [
    {
     "name": "stdout",
     "output_type": "stream",
     "text": [
      "Eye(rows, columns) ecample. We have given rows X columns size. 4X6 Matrix\n",
      "\n",
      "without K value:Array:\n",
      " [[1 0 0 0 0 0]\n",
      " [0 1 0 0 0 0]\n",
      " [0 0 1 0 0 0]\n",
      " [0 0 0 1 0 0]]\n",
      "\n",
      "\n",
      "Eye(rows, columns, position_of_identiy_value) ecample. We have given rows X columns size.\n",
      "4X6 Matrix, identity starts at 2nd position\n"
     ]
    },
    {
     "data": {
      "text/plain": [
       "array([[0, 0, 1, 0, 0, 0],\n",
       "       [0, 0, 0, 1, 0, 0],\n",
       "       [0, 0, 0, 0, 1, 0],\n",
       "       [0, 0, 0, 0, 0, 1]])"
      ]
     },
     "execution_count": 59,
     "metadata": {},
     "output_type": "execute_result"
    }
   ],
   "source": [
    "# rows X columns with diagonal value position its K\n",
    "\n",
    "print(\"Eye(rows, columns) ecample. We have given rows X columns size. 4X6 Matrix\")\n",
    "a = np.eye(4,6, dtype=int)\n",
    "print(\"\\nwithout K value:Array:\\n\",a)\n",
    "\n",
    "\n",
    "print(\"\\n\\nEye(rows, columns, position_of_identiy_value) ecample. We have given rows X columns size.\\\n",
    "\\n4X6 Matrix, identity starts at 2nd position\")\n",
    "a = np.eye(4,6,k=2, dtype=int)\n",
    "a"
   ]
  },
  {
   "cell_type": "markdown",
   "metadata": {},
   "source": [
    "# 8) Copies and Views "
   ]
  },
  {
   "cell_type": "markdown",
   "metadata": {},
   "source": [
    "#### Case1:simple assignment. B = A"
   ]
  },
  {
   "cell_type": "code",
   "execution_count": 77,
   "metadata": {},
   "outputs": [
    {
     "name": "stdout",
     "output_type": "stream",
     "text": [
      "Simple assignments make no copy of objects or their data.\n",
      "\n",
      "Given Array A:\n",
      " [[ 0  1  2  3]\n",
      " [ 4  5  6  7]\n",
      " [ 8  9 10 11]]\n",
      "\n",
      "assigning B = A\n",
      "\n",
      "\n",
      "Assigned Array B:\n",
      " [[ 0  1  2  3]\n",
      " [ 4  5  6  7]\n",
      " [ 8  9 10 11]]\n",
      "\n",
      "\n",
      "ID's: \n",
      "\tA id =  2055081006864 \n",
      "\tB id =  2055081006864\n",
      "\n",
      "B IS A : True\n",
      "\n",
      "SO, simple assignment will not copy a new array\n",
      "\n",
      "\n",
      "Modifiy value in b[1][1]=999\n",
      "\n",
      "Given Array A:\n",
      " [[  0   1   2   3]\n",
      " [  4 999   6   7]\n",
      " [  8   9  10  11]]\n",
      "\n",
      "\n",
      "Assigned Array B:\n",
      " [[  0   1   2   3]\n",
      " [  4 999   6   7]\n",
      " [  8   9  10  11]]\n"
     ]
    }
   ],
   "source": [
    "#When operating and manipulating arrays, their data is sometimes copied into a new array and sometimes not.\n",
    "#Simple assignments make no copy of objects or their data.\n",
    "\n",
    "print(\"Simple assignments make no copy of objects or their data.\\n\")\n",
    "\n",
    "a = np.arange(12).reshape(3,4)\n",
    "print(\"Given Array A:\\n\",a)\n",
    "\n",
    "#Assign array A to B:\n",
    "b = a\n",
    "print(\"\\nassigning B = A\")\n",
    "print(\"\\n\\nAssigned Array B:\\n\",b)\n",
    "\n",
    "#check their ID's\n",
    "print(\"\\n\\nID's: \\n\\tA id = \",id(a),\"\\n\\tB id = \", id(b))\n",
    "\n",
    "#check with is cluase:\n",
    "print(\"\\nB IS A :\", b is a)\n",
    "\n",
    "print(\"\\nSO, simple assignment will not copy a new array\")\n",
    "\n",
    "#lets test:\n",
    "print(\"\\n\\nModifiy value in b[1][1]=999\")\n",
    "b[1][1]=999\n",
    "print(\"\\nGiven Array A:\\n\",a)\n",
    "print(\"\\n\\nAssigned Array B:\\n\",b)"
   ]
  },
  {
   "cell_type": "code",
   "execution_count": null,
   "metadata": {},
   "outputs": [],
   "source": []
  },
  {
   "cell_type": "markdown",
   "metadata": {},
   "source": [
    "#### Case2: view()"
   ]
  },
  {
   "cell_type": "code",
   "execution_count": 99,
   "metadata": {},
   "outputs": [
    {
     "name": "stdout",
     "output_type": "stream",
     "text": [
      "Initial Arrays:b = a.view():#################################\n",
      "\n",
      "Array A\n",
      " [[ 0  1  2  3  4]\n",
      " [ 5  6  7  8  9]\n",
      " [10 11 12 13 14]\n",
      " [15 16 17 18 19]]\n",
      "\n",
      "Array B\n",
      " [[ 0  1  2  3  4]\n",
      " [ 5  6  7  8  9]\n",
      " [10 11 12 13 14]\n",
      " [15 16 17 18 19]]\n",
      "\n",
      "ID's: \n",
      "\tA id =  2055081096976 \n",
      "\tB id =  2055081096656\n",
      "\n",
      "\n",
      "Changing shapes:b.shape = (2,10):#################################\n",
      "\n",
      "Array A\n",
      " [[ 0  1  2  3  4]\n",
      " [ 5  6  7  8  9]\n",
      " [10 11 12 13 14]\n",
      " [15 16 17 18 19]]\n",
      "\n",
      "Array B\n",
      " [[ 0  1  2  3  4  5  6  7  8  9]\n",
      " [10 11 12 13 14 15 16 17 18 19]]\n",
      "\n",
      "ID's: \n",
      "\tA id =  2055081096976 \n",
      "\tB id =  2055081096656\n",
      "\n",
      "\n",
      "Changing values:b[0][0] = 999:#################################\n",
      "\n",
      "Array A\n",
      " [[999   1   2   3   4]\n",
      " [  5   6   7   8   9]\n",
      " [ 10  11  12  13  14]\n",
      " [ 15  16  17  18  19]]\n",
      "\n",
      "Array B\n",
      " [[999   1   2   3   4   5   6   7   8   9]\n",
      " [ 10  11  12  13  14  15  16  17  18  19]]\n",
      "\n",
      "ID's: \n",
      "\tA id =  2055081096976 \n",
      "\tB id =  2055081096656\n"
     ]
    }
   ],
   "source": [
    "#view()--> will create a new array, \n",
    "#But if we assing new values, our old reference also get reflected. \n",
    "#still we cannot change the shape of the array\n",
    "\n",
    "\n",
    "print(\"Initial Arrays:b = a.view():#################################\\n\")\n",
    "a = np.arange(20).reshape(4,5)\n",
    "print(\"Array A\\n\",a)\n",
    "\n",
    "b = a.view()\n",
    "print(\"\\nArray B\\n\",b)\n",
    "print(\"\\nID's: \\n\\tA id = \",id(a),\"\\n\\tB id = \", id(b))\n",
    "\n",
    "\n",
    "print(\"\\n\\nChanging shapes:b.shape = (2,10):#################################\")\n",
    "#change the shape of b\n",
    "b.shape = (2,10)\n",
    "print(\"\\nArray A\\n\",a)\n",
    "print(\"\\nArray B\\n\",b)\n",
    "print(\"\\nID's: \\n\\tA id = \",id(a),\"\\n\\tB id = \", id(b))\n",
    "\n",
    "print(\"\\n\\nChanging values:b[0][0] = 999:#################################\")\n",
    "#change the value in b\n",
    "b[0][0] = 999\n",
    "print(\"\\nArray A\\n\",a)\n",
    "print(\"\\nArray B\\n\",b)\n",
    "print(\"\\nID's: \\n\\tA id = \",id(a),\"\\n\\tB id = \", id(b))"
   ]
  },
  {
   "cell_type": "code",
   "execution_count": null,
   "metadata": {},
   "outputs": [],
   "source": []
  },
  {
   "cell_type": "code",
   "execution_count": null,
   "metadata": {},
   "outputs": [],
   "source": []
  },
  {
   "cell_type": "code",
   "execution_count": null,
   "metadata": {},
   "outputs": [],
   "source": []
  },
  {
   "cell_type": "code",
   "execution_count": null,
   "metadata": {},
   "outputs": [],
   "source": []
  },
  {
   "cell_type": "code",
   "execution_count": null,
   "metadata": {},
   "outputs": [],
   "source": []
  },
  {
   "cell_type": "code",
   "execution_count": null,
   "metadata": {},
   "outputs": [],
   "source": []
  },
  {
   "cell_type": "code",
   "execution_count": null,
   "metadata": {},
   "outputs": [],
   "source": []
  },
  {
   "cell_type": "code",
   "execution_count": null,
   "metadata": {},
   "outputs": [],
   "source": []
  },
  {
   "cell_type": "code",
   "execution_count": null,
   "metadata": {},
   "outputs": [],
   "source": []
  },
  {
   "cell_type": "code",
   "execution_count": null,
   "metadata": {},
   "outputs": [],
   "source": []
  },
  {
   "cell_type": "code",
   "execution_count": null,
   "metadata": {},
   "outputs": [],
   "source": []
  },
  {
   "cell_type": "code",
   "execution_count": null,
   "metadata": {},
   "outputs": [],
   "source": []
  },
  {
   "cell_type": "code",
   "execution_count": null,
   "metadata": {},
   "outputs": [],
   "source": []
  },
  {
   "cell_type": "code",
   "execution_count": null,
   "metadata": {},
   "outputs": [],
   "source": []
  },
  {
   "cell_type": "code",
   "execution_count": null,
   "metadata": {},
   "outputs": [],
   "source": []
  },
  {
   "cell_type": "code",
   "execution_count": null,
   "metadata": {},
   "outputs": [],
   "source": []
  },
  {
   "cell_type": "code",
   "execution_count": null,
   "metadata": {},
   "outputs": [],
   "source": []
  },
  {
   "cell_type": "code",
   "execution_count": null,
   "metadata": {},
   "outputs": [],
   "source": []
  },
  {
   "cell_type": "code",
   "execution_count": null,
   "metadata": {},
   "outputs": [],
   "source": []
  },
  {
   "cell_type": "code",
   "execution_count": null,
   "metadata": {},
   "outputs": [],
   "source": []
  },
  {
   "cell_type": "code",
   "execution_count": null,
   "metadata": {},
   "outputs": [],
   "source": []
  },
  {
   "cell_type": "code",
   "execution_count": null,
   "metadata": {},
   "outputs": [],
   "source": []
  },
  {
   "cell_type": "code",
   "execution_count": null,
   "metadata": {},
   "outputs": [],
   "source": []
  },
  {
   "cell_type": "code",
   "execution_count": null,
   "metadata": {},
   "outputs": [],
   "source": []
  },
  {
   "cell_type": "code",
   "execution_count": null,
   "metadata": {},
   "outputs": [],
   "source": []
  },
  {
   "cell_type": "markdown",
   "metadata": {},
   "source": [
    "` Hello `"
   ]
  },
  {
   "cell_type": "code",
   "execution_count": null,
   "metadata": {},
   "outputs": [],
   "source": []
  },
  {
   "cell_type": "code",
   "execution_count": null,
   "metadata": {},
   "outputs": [],
   "source": []
  },
  {
   "cell_type": "code",
   "execution_count": null,
   "metadata": {},
   "outputs": [],
   "source": []
  }
 ],
 "metadata": {
  "kernelspec": {
   "display_name": "Python 3",
   "language": "python",
   "name": "python3"
  },
  "language_info": {
   "codemirror_mode": {
    "name": "ipython",
    "version": 3
   },
   "file_extension": ".py",
   "mimetype": "text/x-python",
   "name": "python",
   "nbconvert_exporter": "python",
   "pygments_lexer": "ipython3",
   "version": "3.7.1"
  }
 },
 "nbformat": 4,
 "nbformat_minor": 2
}
