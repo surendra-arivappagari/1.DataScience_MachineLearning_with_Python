{
 "cells": [
  {
   "cell_type": "markdown",
   "metadata": {},
   "source": [
    "# Pandas Tutorials"
   ]
  },
  {
   "cell_type": "markdown",
   "metadata": {},
   "source": [
    "> - Pandas is used for Processing (load, manipulate, prepare, model, and analyze) the given data. <br>\n",
    "> - Pandas is built on top of the Numpy package so Numpy is required to work with Pandas <br>\n",
    "> - Pandas has 2 data structures for processing the data.\n",
    "> > 1. Series    --> is a one-dimensional array that is capable of storing various data types.\n",
    "> > 2. DataFrame --> is a two-dimensional array with labeled axes (rows and columns)"
   ]
  },
  {
   "cell_type": "markdown",
   "metadata": {},
   "source": [
    "# Import required modules"
   ]
  },
  {
   "cell_type": "code",
   "execution_count": 15,
   "metadata": {},
   "outputs": [],
   "source": [
    "import numpy as np\n",
    "import pandas as pd"
   ]
  },
  {
   "cell_type": "markdown",
   "metadata": {},
   "source": [
    "# A) Series in Pandas"
   ]
  },
  {
   "cell_type": "code",
   "execution_count": 21,
   "metadata": {},
   "outputs": [
    {
     "name": "stdout",
     "output_type": "stream",
     "text": [
      "Series Example\n"
     ]
    },
    {
     "data": {
      "text/plain": [
       "0    15\n",
       "1    16\n",
       "2    17\n",
       "3    18\n",
       "4    19\n",
       "dtype: int32"
      ]
     },
     "execution_count": 21,
     "metadata": {},
     "output_type": "execute_result"
    }
   ],
   "source": [
    "# Series a one-dimensional array that is capable of storing various data types\n",
    "# The row labels of series are called the index.\n",
    "# Series is capable of holding Integers, strings, floating point numbers, Python objects.\n",
    "# It should not contains multiple columns.\n",
    "\n",
    "print(\"Series Example\")\n",
    "s = pd.Series(np.arange(15,20))\n",
    "s"
   ]
  },
  {
   "cell_type": "markdown",
   "metadata": {},
   "source": [
    "### A1) Series from ndarray"
   ]
  },
  {
   "cell_type": "code",
   "execution_count": 39,
   "metadata": {},
   "outputs": [
    {
     "name": "stdout",
     "output_type": "stream",
     "text": [
      "Series From ndarray. \n",
      "\n",
      "Series:\n",
      "a   -1.140473\n",
      "b    0.327533\n",
      "c   -1.009269\n",
      "d   -0.430283\n",
      "e   -0.355748\n",
      "dtype: float64\n"
     ]
    }
   ],
   "source": [
    "print(\"Series From ndarray. \\n\\nSeries:\")\n",
    "\n",
    "s = pd.Series(np.random.randn(5), index=['a','b','c','d','e'])\n",
    "print(s)"
   ]
  },
  {
   "cell_type": "markdown",
   "metadata": {},
   "source": [
    "### A2) Series from Dictionary"
   ]
  },
  {
   "cell_type": "code",
   "execution_count": 38,
   "metadata": {},
   "outputs": [
    {
     "name": "stdout",
     "output_type": "stream",
     "text": [
      "Series From Dictionary. \n",
      "\n",
      "Series:\n",
      "p    111.0\n",
      "q    222.0\n",
      "r    333.0\n",
      "s      NaN\n",
      "t    555.0\n",
      "dtype: float64\n"
     ]
    }
   ],
   "source": [
    "print(\"Series From Dictionary. \\n\\nSeries:\")\n",
    "\n",
    "dict1 = {'p':111, 'q':222, 'r':333, 's':np.NaN, 't':555}\n",
    "s = pd.Series(dict1)\n",
    "print(s)"
   ]
  },
  {
   "cell_type": "markdown",
   "metadata": {},
   "source": [
    "### A3) Series from Scalar value"
   ]
  },
  {
   "cell_type": "code",
   "execution_count": 41,
   "metadata": {},
   "outputs": [
    {
     "name": "stdout",
     "output_type": "stream",
     "text": [
      "Series From Scalar value. Same value will be repeated with index length. \n",
      "\n",
      "Series:\n",
      "i    125\n",
      "j    125\n",
      "k    125\n",
      "l    125\n",
      "dtype: int64\n"
     ]
    }
   ],
   "source": [
    "print(\"Series From Scalar value. Same value will be repeated with index length. \\n\\nSeries:\")\n",
    "\n",
    "s = pd.Series(125, index=['i','j','k','l'])\n",
    "print(s)"
   ]
  },
  {
   "cell_type": "code",
   "execution_count": null,
   "metadata": {},
   "outputs": [],
   "source": []
  },
  {
   "cell_type": "code",
   "execution_count": null,
   "metadata": {},
   "outputs": [],
   "source": []
  },
  {
   "cell_type": "code",
   "execution_count": null,
   "metadata": {},
   "outputs": [],
   "source": []
  }
 ],
 "metadata": {
  "kernelspec": {
   "display_name": "Python 3",
   "language": "python",
   "name": "python3"
  },
  "language_info": {
   "codemirror_mode": {
    "name": "ipython",
    "version": 3
   },
   "file_extension": ".py",
   "mimetype": "text/x-python",
   "name": "python",
   "nbconvert_exporter": "python",
   "pygments_lexer": "ipython3",
   "version": "3.7.1"
  }
 },
 "nbformat": 4,
 "nbformat_minor": 2
}
