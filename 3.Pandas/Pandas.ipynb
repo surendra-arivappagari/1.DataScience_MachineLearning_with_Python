{
 "cells": [
  {
   "cell_type": "markdown",
   "metadata": {},
   "source": [
    "# Pandas Tutorials"
   ]
  },
  {
   "cell_type": "markdown",
   "metadata": {},
   "source": [
    "> - Pandas is used for Processing (load, manipulate, prepare, model, and analyze) the given data. <br>\n",
    "> - Pandas is built on top of the Numpy package so Numpy is required to work with Pandas <br>\n",
    "> - Pandas has 2 data structures for processing the data.\n",
    "> > 1. Series    --> is a one-dimensional array that is capable of storing various data types.\n",
    "> > 2. DataFrame --> is a two-dimensional array with labeled axes (rows and columns)"
   ]
  },
  {
   "cell_type": "markdown",
   "metadata": {},
   "source": [
    "# Import required modules"
   ]
  },
  {
   "cell_type": "code",
   "execution_count": 15,
   "metadata": {},
   "outputs": [],
   "source": [
    "import numpy as np\n",
    "import pandas as pd"
   ]
  },
  {
   "cell_type": "markdown",
   "metadata": {},
   "source": [
    "# A) Series in Pandas"
   ]
  },
  {
   "cell_type": "code",
   "execution_count": 21,
   "metadata": {},
   "outputs": [
    {
     "name": "stdout",
     "output_type": "stream",
     "text": [
      "Series Example\n"
     ]
    },
    {
     "data": {
      "text/plain": [
       "0    15\n",
       "1    16\n",
       "2    17\n",
       "3    18\n",
       "4    19\n",
       "dtype: int32"
      ]
     },
     "execution_count": 21,
     "metadata": {},
     "output_type": "execute_result"
    }
   ],
   "source": [
    "# Series a one-dimensional array that is capable of storing various data types\n",
    "# The row labels of series are called the index.\n",
    "# Series is capable of holding Integers, strings, floating point numbers, Python objects.\n",
    "# It should not contains multiple columns.\n",
    "\n",
    "print(\"Series Example\")\n",
    "s = pd.Series(np.arange(15,20))\n",
    "s"
   ]
  },
  {
   "cell_type": "markdown",
   "metadata": {},
   "source": [
    "### A1) Series from ndarray"
   ]
  },
  {
   "cell_type": "code",
   "execution_count": 39,
   "metadata": {},
   "outputs": [
    {
     "name": "stdout",
     "output_type": "stream",
     "text": [
      "Series From ndarray. \n",
      "\n",
      "Series:\n",
      "a   -1.140473\n",
      "b    0.327533\n",
      "c   -1.009269\n",
      "d   -0.430283\n",
      "e   -0.355748\n",
      "dtype: float64\n"
     ]
    }
   ],
   "source": [
    "print(\"Series From ndarray. \\n\\nSeries:\")\n",
    "\n",
    "s = pd.Series(np.random.randn(5), index=['a','b','c','d','e'])\n",
    "print(s)"
   ]
  },
  {
   "cell_type": "markdown",
   "metadata": {},
   "source": [
    "### A2) Series from Dictionary"
   ]
  },
  {
   "cell_type": "code",
   "execution_count": 38,
   "metadata": {},
   "outputs": [
    {
     "name": "stdout",
     "output_type": "stream",
     "text": [
      "Series From Dictionary. \n",
      "\n",
      "Series:\n",
      "p    111.0\n",
      "q    222.0\n",
      "r    333.0\n",
      "s      NaN\n",
      "t    555.0\n",
      "dtype: float64\n"
     ]
    }
   ],
   "source": [
    "print(\"Series From Dictionary. \\n\\nSeries:\")\n",
    "\n",
    "dict1 = {'p':111, 'q':222, 'r':333, 's':np.NaN, 't':555}\n",
    "s = pd.Series(dict1)\n",
    "print(s)"
   ]
  },
  {
   "cell_type": "markdown",
   "metadata": {},
   "source": [
    "### A3) Series from Scalar value"
   ]
  },
  {
   "cell_type": "code",
   "execution_count": 41,
   "metadata": {},
   "outputs": [
    {
     "name": "stdout",
     "output_type": "stream",
     "text": [
      "Series From Scalar value. Same value will be repeated with index length. \n",
      "\n",
      "Series:\n",
      "i    125\n",
      "j    125\n",
      "k    125\n",
      "l    125\n",
      "dtype: int64\n"
     ]
    }
   ],
   "source": [
    "print(\"Series From Scalar value. Same value will be repeated with index length. \\n\\nSeries:\")\n",
    "\n",
    "s = pd.Series(125, index=['i','j','k','l'])\n",
    "print(s)"
   ]
  },
  {
   "cell_type": "markdown",
   "metadata": {},
   "source": [
    "### A4) Series functionalities"
   ]
  },
  {
   "cell_type": "code",
   "execution_count": 45,
   "metadata": {},
   "outputs": [
    {
     "name": "stdout",
     "output_type": "stream",
     "text": [
      "Series will work like ndarray. Slice operations \n",
      "\n",
      "Series:\n",
      "p    111.0\n",
      "q    222.0\n",
      "r    333.0\n",
      "s      NaN\n",
      "t    555.0\n",
      "dtype: float64\n"
     ]
    }
   ],
   "source": [
    "print(\"Series will work like ndarray. Slice operations \\n\\nSeries:\")\n",
    "\n",
    "dict1 = {'p':111, 'q':222, 'r':333, 's':np.NaN, 't':555}\n",
    "s = pd.Series(dict1)\n",
    "\n",
    "print(s)"
   ]
  },
  {
   "cell_type": "code",
   "execution_count": 61,
   "metadata": {
    "scrolled": true
   },
   "outputs": [
    {
     "name": "stdout",
     "output_type": "stream",
     "text": [
      "Slice:\n",
      "s[1]: 222.0\n",
      "s['r']: 333.0\n",
      "\n",
      "##############################\n",
      "Filters:s[s > 200]:\n",
      " q    222.0\n",
      "r    333.0\n",
      "t    555.0\n",
      "dtype: float64\n",
      "\n",
      "##############################\n",
      "Select Multiple indexes:s[0,2,4]:\n",
      " p    111.0\n",
      "r    333.0\n",
      "t    555.0\n",
      "dtype: float64\n",
      "\n",
      "##############################\n",
      "Check DType: float64\n"
     ]
    }
   ],
   "source": [
    "print(\"Slice:\\ns[1]:\",s[1])\n",
    "print(\"s['r']:\",s['r'])\n",
    "\n",
    "print(\"\\n##############################\")\n",
    "print(\"Filters:s[s > 200]:\\n\", s[s > 200])\n",
    "\n",
    "print(\"\\n##############################\")\n",
    "print(\"Select Multiple indexes:s[0,2,4]:\\n\", s[[0,2,4]])\n",
    "\n",
    "print(\"\\n##############################\")\n",
    "print(\"Check DType:\", s.dtype)\n",
    "\n"
   ]
  },
  {
   "cell_type": "code",
   "execution_count": 64,
   "metadata": {},
   "outputs": [
    {
     "name": "stdout",
     "output_type": "stream",
     "text": [
      "\n",
      "##############################\n",
      "Sum 2 Series: s + s :\n",
      " p     222.0\n",
      "q     444.0\n",
      "r     666.0\n",
      "s       NaN\n",
      "t    1110.0\n",
      "dtype: float64\n",
      "\n",
      "##############################\n",
      "Multiply by 5 : s*5 :\n",
      " p     555.0\n",
      "q    1110.0\n",
      "r    1665.0\n",
      "s       NaN\n",
      "t    2775.0\n",
      "dtype: float64\n"
     ]
    }
   ],
   "source": [
    "print(\"\\n##############################\")\n",
    "print(\"Sum 2 Series: s + s :\\n\", s + s)\n",
    "\n",
    "print(\"\\n##############################\")\n",
    "print(\"Multiply by 5 : s*5 :\\n\", s*5)"
   ]
  },
  {
   "cell_type": "code",
   "execution_count": null,
   "metadata": {},
   "outputs": [],
   "source": []
  },
  {
   "cell_type": "markdown",
   "metadata": {},
   "source": [
    "# B) DataFrame in Pandas"
   ]
  },
  {
   "cell_type": "code",
   "execution_count": 68,
   "metadata": {},
   "outputs": [
    {
     "data": {
      "text/html": [
       "<div>\n",
       "<style scoped>\n",
       "    .dataframe tbody tr th:only-of-type {\n",
       "        vertical-align: middle;\n",
       "    }\n",
       "\n",
       "    .dataframe tbody tr th {\n",
       "        vertical-align: top;\n",
       "    }\n",
       "\n",
       "    .dataframe thead th {\n",
       "        text-align: right;\n",
       "    }\n",
       "</style>\n",
       "<table border=\"1\" class=\"dataframe\">\n",
       "  <thead>\n",
       "    <tr style=\"text-align: right;\">\n",
       "      <th></th>\n",
       "    </tr>\n",
       "  </thead>\n",
       "  <tbody>\n",
       "  </tbody>\n",
       "</table>\n",
       "</div>"
      ],
      "text/plain": [
       "Empty DataFrame\n",
       "Columns: []\n",
       "Index: []"
      ]
     },
     "execution_count": 68,
     "metadata": {},
     "output_type": "execute_result"
    }
   ],
   "source": [
    "# DataFrame is a two-dimensional array with labeled axes (rows and columns).\n",
    "# DataFrame is like Structured table or Excel file\n",
    "df = pd.DataFrame()\n",
    "df"
   ]
  },
  {
   "cell_type": "markdown",
   "metadata": {},
   "source": [
    "### B1) DataFrame from List"
   ]
  },
  {
   "cell_type": "code",
   "execution_count": 74,
   "metadata": {},
   "outputs": [
    {
     "name": "stdout",
     "output_type": "stream",
     "text": [
      "DataFrame Example using List:\n",
      " DataFrame:\n"
     ]
    },
    {
     "data": {
      "text/html": [
       "<div>\n",
       "<style scoped>\n",
       "    .dataframe tbody tr th:only-of-type {\n",
       "        vertical-align: middle;\n",
       "    }\n",
       "\n",
       "    .dataframe tbody tr th {\n",
       "        vertical-align: top;\n",
       "    }\n",
       "\n",
       "    .dataframe thead th {\n",
       "        text-align: right;\n",
       "    }\n",
       "</style>\n",
       "<table border=\"1\" class=\"dataframe\">\n",
       "  <thead>\n",
       "    <tr style=\"text-align: right;\">\n",
       "      <th></th>\n",
       "      <th>ID_NUM</th>\n",
       "    </tr>\n",
       "  </thead>\n",
       "  <tbody>\n",
       "    <tr>\n",
       "      <th>a</th>\n",
       "      <td>2</td>\n",
       "    </tr>\n",
       "    <tr>\n",
       "      <th>b</th>\n",
       "      <td>3</td>\n",
       "    </tr>\n",
       "    <tr>\n",
       "      <th>c</th>\n",
       "      <td>4</td>\n",
       "    </tr>\n",
       "    <tr>\n",
       "      <th>d</th>\n",
       "      <td>5</td>\n",
       "    </tr>\n",
       "    <tr>\n",
       "      <th>e</th>\n",
       "      <td>6</td>\n",
       "    </tr>\n",
       "    <tr>\n",
       "      <th>f</th>\n",
       "      <td>7</td>\n",
       "    </tr>\n",
       "  </tbody>\n",
       "</table>\n",
       "</div>"
      ],
      "text/plain": [
       "   ID_NUM\n",
       "a       2\n",
       "b       3\n",
       "c       4\n",
       "d       5\n",
       "e       6\n",
       "f       7"
      ]
     },
     "execution_count": 74,
     "metadata": {},
     "output_type": "execute_result"
    }
   ],
   "source": [
    "print(\"DataFrame Example using List:\\n DataFrame:\")\n",
    "\n",
    "l1 = [2,3,4,5,6,7]\n",
    "df = pd.DataFrame(l1, index = ['a','b','c','d','e','f'], columns = ['ID_NUM'])\n",
    "df"
   ]
  },
  {
   "cell_type": "markdown",
   "metadata": {},
   "source": [
    "### B2) DataFrame from Dict"
   ]
  },
  {
   "cell_type": "code",
   "execution_count": 76,
   "metadata": {},
   "outputs": [
    {
     "name": "stdout",
     "output_type": "stream",
     "text": [
      "DataFrame Example using Dict:\n",
      " DataFrame:\n"
     ]
    },
    {
     "data": {
      "text/html": [
       "<div>\n",
       "<style scoped>\n",
       "    .dataframe tbody tr th:only-of-type {\n",
       "        vertical-align: middle;\n",
       "    }\n",
       "\n",
       "    .dataframe tbody tr th {\n",
       "        vertical-align: top;\n",
       "    }\n",
       "\n",
       "    .dataframe thead th {\n",
       "        text-align: right;\n",
       "    }\n",
       "</style>\n",
       "<table border=\"1\" class=\"dataframe\">\n",
       "  <thead>\n",
       "    <tr style=\"text-align: right;\">\n",
       "      <th></th>\n",
       "      <th>ID</th>\n",
       "      <th>Name</th>\n",
       "    </tr>\n",
       "  </thead>\n",
       "  <tbody>\n",
       "    <tr>\n",
       "      <th>0</th>\n",
       "      <td>101</td>\n",
       "      <td>AAA</td>\n",
       "    </tr>\n",
       "    <tr>\n",
       "      <th>1</th>\n",
       "      <td>102</td>\n",
       "      <td>BBB</td>\n",
       "    </tr>\n",
       "    <tr>\n",
       "      <th>2</th>\n",
       "      <td>103</td>\n",
       "      <td>CCC</td>\n",
       "    </tr>\n",
       "    <tr>\n",
       "      <th>3</th>\n",
       "      <td>104</td>\n",
       "      <td>DDD</td>\n",
       "    </tr>\n",
       "    <tr>\n",
       "      <th>4</th>\n",
       "      <td>105</td>\n",
       "      <td>EEE</td>\n",
       "    </tr>\n",
       "  </tbody>\n",
       "</table>\n",
       "</div>"
      ],
      "text/plain": [
       "    ID Name\n",
       "0  101  AAA\n",
       "1  102  BBB\n",
       "2  103  CCC\n",
       "3  104  DDD\n",
       "4  105  EEE"
      ]
     },
     "execution_count": 76,
     "metadata": {},
     "output_type": "execute_result"
    }
   ],
   "source": [
    "print(\"DataFrame Example using Dict:\\n DataFrame:\")\n",
    "\n",
    "dict1 = {\"ID\":[101,102,103,104,105], \"Name\":['AAA','BBB','CCC','DDD','EEE']}\n",
    "df = pd.DataFrame(dict1)\n",
    "df"
   ]
  },
  {
   "cell_type": "markdown",
   "metadata": {},
   "source": [
    "### B3) DataFrame from ndarray"
   ]
  },
  {
   "cell_type": "code",
   "execution_count": 100,
   "metadata": {},
   "outputs": [
    {
     "name": "stdout",
     "output_type": "stream",
     "text": [
      "DataFrame Example using Dict:\n",
      " DataFrame:\n"
     ]
    },
    {
     "data": {
      "text/html": [
       "<div>\n",
       "<style scoped>\n",
       "    .dataframe tbody tr th:only-of-type {\n",
       "        vertical-align: middle;\n",
       "    }\n",
       "\n",
       "    .dataframe tbody tr th {\n",
       "        vertical-align: top;\n",
       "    }\n",
       "\n",
       "    .dataframe thead th {\n",
       "        text-align: right;\n",
       "    }\n",
       "</style>\n",
       "<table border=\"1\" class=\"dataframe\">\n",
       "  <thead>\n",
       "    <tr style=\"text-align: right;\">\n",
       "      <th></th>\n",
       "      <th>India</th>\n",
       "      <th>USA</th>\n",
       "      <th>China</th>\n",
       "      <th>Japan</th>\n",
       "      <th>Italy</th>\n",
       "    </tr>\n",
       "  </thead>\n",
       "  <tbody>\n",
       "    <tr>\n",
       "      <th>2000</th>\n",
       "      <td>0.787045</td>\n",
       "      <td>0.749275</td>\n",
       "      <td>0.097031</td>\n",
       "      <td>0.881438</td>\n",
       "      <td>0.821116</td>\n",
       "    </tr>\n",
       "    <tr>\n",
       "      <th>2001</th>\n",
       "      <td>0.887407</td>\n",
       "      <td>0.108695</td>\n",
       "      <td>0.748217</td>\n",
       "      <td>0.011144</td>\n",
       "      <td>0.547425</td>\n",
       "    </tr>\n",
       "    <tr>\n",
       "      <th>2002</th>\n",
       "      <td>0.384851</td>\n",
       "      <td>0.374839</td>\n",
       "      <td>0.026165</td>\n",
       "      <td>0.439566</td>\n",
       "      <td>0.416680</td>\n",
       "    </tr>\n",
       "    <tr>\n",
       "      <th>2003</th>\n",
       "      <td>0.713637</td>\n",
       "      <td>0.768160</td>\n",
       "      <td>0.218996</td>\n",
       "      <td>0.040896</td>\n",
       "      <td>0.847797</td>\n",
       "    </tr>\n",
       "    <tr>\n",
       "      <th>2004</th>\n",
       "      <td>0.145452</td>\n",
       "      <td>0.156977</td>\n",
       "      <td>0.442098</td>\n",
       "      <td>0.047159</td>\n",
       "      <td>0.024486</td>\n",
       "    </tr>\n",
       "    <tr>\n",
       "      <th>2005</th>\n",
       "      <td>0.368619</td>\n",
       "      <td>0.332193</td>\n",
       "      <td>0.758114</td>\n",
       "      <td>0.422307</td>\n",
       "      <td>0.360263</td>\n",
       "    </tr>\n",
       "    <tr>\n",
       "      <th>2006</th>\n",
       "      <td>0.765961</td>\n",
       "      <td>0.833094</td>\n",
       "      <td>0.405134</td>\n",
       "      <td>0.029272</td>\n",
       "      <td>0.557857</td>\n",
       "    </tr>\n",
       "    <tr>\n",
       "      <th>2007</th>\n",
       "      <td>0.013015</td>\n",
       "      <td>0.335582</td>\n",
       "      <td>0.655592</td>\n",
       "      <td>0.658877</td>\n",
       "      <td>0.278767</td>\n",
       "    </tr>\n",
       "    <tr>\n",
       "      <th>2008</th>\n",
       "      <td>0.496660</td>\n",
       "      <td>0.570448</td>\n",
       "      <td>0.309379</td>\n",
       "      <td>0.170474</td>\n",
       "      <td>0.361058</td>\n",
       "    </tr>\n",
       "    <tr>\n",
       "      <th>2009</th>\n",
       "      <td>0.226666</td>\n",
       "      <td>0.604811</td>\n",
       "      <td>0.348438</td>\n",
       "      <td>0.876197</td>\n",
       "      <td>0.684754</td>\n",
       "    </tr>\n",
       "  </tbody>\n",
       "</table>\n",
       "</div>"
      ],
      "text/plain": [
       "         India       USA     China     Japan     Italy\n",
       "2000  0.787045  0.749275  0.097031  0.881438  0.821116\n",
       "2001  0.887407  0.108695  0.748217  0.011144  0.547425\n",
       "2002  0.384851  0.374839  0.026165  0.439566  0.416680\n",
       "2003  0.713637  0.768160  0.218996  0.040896  0.847797\n",
       "2004  0.145452  0.156977  0.442098  0.047159  0.024486\n",
       "2005  0.368619  0.332193  0.758114  0.422307  0.360263\n",
       "2006  0.765961  0.833094  0.405134  0.029272  0.557857\n",
       "2007  0.013015  0.335582  0.655592  0.658877  0.278767\n",
       "2008  0.496660  0.570448  0.309379  0.170474  0.361058\n",
       "2009  0.226666  0.604811  0.348438  0.876197  0.684754"
      ]
     },
     "execution_count": 100,
     "metadata": {},
     "output_type": "execute_result"
    }
   ],
   "source": [
    "print(\"DataFrame Example using Dict:\\n DataFrame:\")\n",
    "\n",
    "a = np.array(np.random.rand(10,5))\n",
    "df = pd.DataFrame(a, index = [np.arange(2000,2010)], columns = ['India', 'USA', 'China', 'Japan', 'Italy'])\n",
    "df"
   ]
  },
  {
   "cell_type": "markdown",
   "metadata": {},
   "source": [
    "### B4) DataFrame Basic functions"
   ]
  },
  {
   "cell_type": "code",
   "execution_count": 102,
   "metadata": {},
   "outputs": [
    {
     "name": "stdout",
     "output_type": "stream",
     "text": [
      "DataFrame count: \n",
      "\n",
      " India    10\n",
      "USA      10\n",
      "China    10\n",
      "Japan    10\n",
      "Italy    10\n",
      "dtype: int64\n"
     ]
    }
   ],
   "source": [
    "print(\"DataFrame count: \\n\\n\", df.count())"
   ]
  },
  {
   "cell_type": "code",
   "execution_count": 103,
   "metadata": {},
   "outputs": [
    {
     "name": "stdout",
     "output_type": "stream",
     "text": [
      "DataFrame Columns list: \n",
      "\n",
      " Index(['India', 'USA', 'China', 'Japan', 'Italy'], dtype='object')\n"
     ]
    }
   ],
   "source": [
    "print(\"DataFrame Columns list: \\n\\n\", df.columns)"
   ]
  },
  {
   "cell_type": "code",
   "execution_count": 104,
   "metadata": {
    "scrolled": true
   },
   "outputs": [
    {
     "name": "stdout",
     "output_type": "stream",
     "text": [
      "DataFrame index list: \n",
      "\n",
      " MultiIndex(levels=[[2000, 2001, 2002, 2003, 2004, 2005, 2006, 2007, 2008, 2009]],\n",
      "           labels=[[0, 1, 2, 3, 4, 5, 6, 7, 8, 9]])\n"
     ]
    }
   ],
   "source": [
    "print(\"DataFrame index list: \\n\\n\", df.index)"
   ]
  },
  {
   "cell_type": "code",
   "execution_count": 108,
   "metadata": {},
   "outputs": [
    {
     "name": "stdout",
     "output_type": "stream",
     "text": [
      "DataFrame Shape(Rows X Columns): \n",
      "\n",
      " (10, 5)\n"
     ]
    }
   ],
   "source": [
    "print(\"DataFrame Shape(Rows X Columns): \\n\\n\", df.shape)"
   ]
  },
  {
   "cell_type": "code",
   "execution_count": 112,
   "metadata": {},
   "outputs": [
    {
     "name": "stdout",
     "output_type": "stream",
     "text": [
      "DataFrame Information: \n",
      "\n",
      "<class 'pandas.core.frame.DataFrame'>\n",
      "MultiIndex: 10 entries, (2000,) to (2009,)\n",
      "Data columns (total 5 columns):\n",
      "India    10 non-null float64\n",
      "USA      10 non-null float64\n",
      "China    10 non-null float64\n",
      "Japan    10 non-null float64\n",
      "Italy    10 non-null float64\n",
      "dtypes: float64(5)\n",
      "memory usage: 506.0 bytes\n"
     ]
    }
   ],
   "source": [
    "print(\"DataFrame Information: \\n\")\n",
    "df.info()"
   ]
  },
  {
   "cell_type": "code",
   "execution_count": 113,
   "metadata": {},
   "outputs": [
    {
     "name": "stdout",
     "output_type": "stream",
     "text": [
      "DataFrame Description: \n",
      "\n"
     ]
    },
    {
     "data": {
      "text/html": [
       "<div>\n",
       "<style scoped>\n",
       "    .dataframe tbody tr th:only-of-type {\n",
       "        vertical-align: middle;\n",
       "    }\n",
       "\n",
       "    .dataframe tbody tr th {\n",
       "        vertical-align: top;\n",
       "    }\n",
       "\n",
       "    .dataframe thead th {\n",
       "        text-align: right;\n",
       "    }\n",
       "</style>\n",
       "<table border=\"1\" class=\"dataframe\">\n",
       "  <thead>\n",
       "    <tr style=\"text-align: right;\">\n",
       "      <th></th>\n",
       "      <th>India</th>\n",
       "      <th>USA</th>\n",
       "      <th>China</th>\n",
       "      <th>Japan</th>\n",
       "      <th>Italy</th>\n",
       "    </tr>\n",
       "  </thead>\n",
       "  <tbody>\n",
       "    <tr>\n",
       "      <th>count</th>\n",
       "      <td>10.000000</td>\n",
       "      <td>10.000000</td>\n",
       "      <td>10.000000</td>\n",
       "      <td>10.000000</td>\n",
       "      <td>10.000000</td>\n",
       "    </tr>\n",
       "    <tr>\n",
       "      <th>mean</th>\n",
       "      <td>0.478931</td>\n",
       "      <td>0.483407</td>\n",
       "      <td>0.400916</td>\n",
       "      <td>0.357733</td>\n",
       "      <td>0.490020</td>\n",
       "    </tr>\n",
       "    <tr>\n",
       "      <th>std</th>\n",
       "      <td>0.300466</td>\n",
       "      <td>0.258164</td>\n",
       "      <td>0.256427</td>\n",
       "      <td>0.350324</td>\n",
       "      <td>0.254655</td>\n",
       "    </tr>\n",
       "    <tr>\n",
       "      <th>min</th>\n",
       "      <td>0.013015</td>\n",
       "      <td>0.108695</td>\n",
       "      <td>0.026165</td>\n",
       "      <td>0.011144</td>\n",
       "      <td>0.024486</td>\n",
       "    </tr>\n",
       "    <tr>\n",
       "      <th>25%</th>\n",
       "      <td>0.262154</td>\n",
       "      <td>0.333040</td>\n",
       "      <td>0.241592</td>\n",
       "      <td>0.042462</td>\n",
       "      <td>0.360462</td>\n",
       "    </tr>\n",
       "    <tr>\n",
       "      <th>50%</th>\n",
       "      <td>0.440756</td>\n",
       "      <td>0.472644</td>\n",
       "      <td>0.376786</td>\n",
       "      <td>0.296390</td>\n",
       "      <td>0.482053</td>\n",
       "    </tr>\n",
       "    <tr>\n",
       "      <th>75%</th>\n",
       "      <td>0.752880</td>\n",
       "      <td>0.713159</td>\n",
       "      <td>0.602218</td>\n",
       "      <td>0.604050</td>\n",
       "      <td>0.653029</td>\n",
       "    </tr>\n",
       "    <tr>\n",
       "      <th>max</th>\n",
       "      <td>0.887407</td>\n",
       "      <td>0.833094</td>\n",
       "      <td>0.758114</td>\n",
       "      <td>0.881438</td>\n",
       "      <td>0.847797</td>\n",
       "    </tr>\n",
       "  </tbody>\n",
       "</table>\n",
       "</div>"
      ],
      "text/plain": [
       "           India        USA      China      Japan      Italy\n",
       "count  10.000000  10.000000  10.000000  10.000000  10.000000\n",
       "mean    0.478931   0.483407   0.400916   0.357733   0.490020\n",
       "std     0.300466   0.258164   0.256427   0.350324   0.254655\n",
       "min     0.013015   0.108695   0.026165   0.011144   0.024486\n",
       "25%     0.262154   0.333040   0.241592   0.042462   0.360462\n",
       "50%     0.440756   0.472644   0.376786   0.296390   0.482053\n",
       "75%     0.752880   0.713159   0.602218   0.604050   0.653029\n",
       "max     0.887407   0.833094   0.758114   0.881438   0.847797"
      ]
     },
     "execution_count": 113,
     "metadata": {},
     "output_type": "execute_result"
    }
   ],
   "source": [
    "print(\"DataFrame Description: \\n\")\n",
    "df.describe()"
   ]
  },
  {
   "cell_type": "code",
   "execution_count": 124,
   "metadata": {},
   "outputs": [
    {
     "name": "stdout",
     "output_type": "stream",
     "text": [
      "DataFrame Sample Data: Given 3 records as Sample.\n",
      "\n"
     ]
    },
    {
     "data": {
      "text/html": [
       "<div>\n",
       "<style scoped>\n",
       "    .dataframe tbody tr th:only-of-type {\n",
       "        vertical-align: middle;\n",
       "    }\n",
       "\n",
       "    .dataframe tbody tr th {\n",
       "        vertical-align: top;\n",
       "    }\n",
       "\n",
       "    .dataframe thead th {\n",
       "        text-align: right;\n",
       "    }\n",
       "</style>\n",
       "<table border=\"1\" class=\"dataframe\">\n",
       "  <thead>\n",
       "    <tr style=\"text-align: right;\">\n",
       "      <th></th>\n",
       "      <th>India</th>\n",
       "      <th>USA</th>\n",
       "      <th>China</th>\n",
       "      <th>Japan</th>\n",
       "      <th>Italy</th>\n",
       "    </tr>\n",
       "  </thead>\n",
       "  <tbody>\n",
       "    <tr>\n",
       "      <th>2005</th>\n",
       "      <td>0.368619</td>\n",
       "      <td>0.332193</td>\n",
       "      <td>0.758114</td>\n",
       "      <td>0.422307</td>\n",
       "      <td>0.360263</td>\n",
       "    </tr>\n",
       "    <tr>\n",
       "      <th>2002</th>\n",
       "      <td>0.384851</td>\n",
       "      <td>0.374839</td>\n",
       "      <td>0.026165</td>\n",
       "      <td>0.439566</td>\n",
       "      <td>0.416680</td>\n",
       "    </tr>\n",
       "    <tr>\n",
       "      <th>2006</th>\n",
       "      <td>0.765961</td>\n",
       "      <td>0.833094</td>\n",
       "      <td>0.405134</td>\n",
       "      <td>0.029272</td>\n",
       "      <td>0.557857</td>\n",
       "    </tr>\n",
       "  </tbody>\n",
       "</table>\n",
       "</div>"
      ],
      "text/plain": [
       "         India       USA     China     Japan     Italy\n",
       "2005  0.368619  0.332193  0.758114  0.422307  0.360263\n",
       "2002  0.384851  0.374839  0.026165  0.439566  0.416680\n",
       "2006  0.765961  0.833094  0.405134  0.029272  0.557857"
      ]
     },
     "execution_count": 124,
     "metadata": {},
     "output_type": "execute_result"
    }
   ],
   "source": [
    "print(\"DataFrame Sample Data: Given 3 records as Sample.\\n\")\n",
    "df.sample(3) "
   ]
  },
  {
   "cell_type": "code",
   "execution_count": null,
   "metadata": {},
   "outputs": [],
   "source": []
  },
  {
   "cell_type": "code",
   "execution_count": null,
   "metadata": {},
   "outputs": [],
   "source": []
  },
  {
   "cell_type": "code",
   "execution_count": null,
   "metadata": {},
   "outputs": [],
   "source": []
  },
  {
   "cell_type": "code",
   "execution_count": null,
   "metadata": {},
   "outputs": [],
   "source": []
  },
  {
   "cell_type": "code",
   "execution_count": null,
   "metadata": {},
   "outputs": [],
   "source": []
  },
  {
   "cell_type": "code",
   "execution_count": null,
   "metadata": {},
   "outputs": [],
   "source": []
  },
  {
   "cell_type": "code",
   "execution_count": null,
   "metadata": {},
   "outputs": [],
   "source": []
  }
 ],
 "metadata": {
  "kernelspec": {
   "display_name": "Python 3",
   "language": "python",
   "name": "python3"
  },
  "language_info": {
   "codemirror_mode": {
    "name": "ipython",
    "version": 3
   },
   "file_extension": ".py",
   "mimetype": "text/x-python",
   "name": "python",
   "nbconvert_exporter": "python",
   "pygments_lexer": "ipython3",
   "version": "3.7.1"
  }
 },
 "nbformat": 4,
 "nbformat_minor": 2
}
