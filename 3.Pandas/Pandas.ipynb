{
 "cells": [
  {
   "cell_type": "markdown",
   "metadata": {},
   "source": [
    "# Pandas Tutorials"
   ]
  },
  {
   "cell_type": "markdown",
   "metadata": {},
   "source": [
    "> - Pandas is used for Processing (load, manipulate, prepare, model, and analyze) the given data. <br>\n",
    "> - Pandas is built on top of the Numpy package so Numpy is required to work with Pandas <br>\n",
    "> - Pandas has 2 data structures for processing the data.\n",
    "> > 1. Series    --> is a one-dimensional array that is capable of storing various data types.\n",
    "> > 2. DataFrame --> is a two-dimensional array with labeled axes (rows and columns)"
   ]
  },
  {
   "cell_type": "markdown",
   "metadata": {},
   "source": [
    "# Import required modules"
   ]
  },
  {
   "cell_type": "code",
   "execution_count": 15,
   "metadata": {},
   "outputs": [],
   "source": [
    "import numpy as np\n",
    "import pandas as pd"
   ]
  },
  {
   "cell_type": "markdown",
   "metadata": {},
   "source": [
    "# A) Series in Pandas"
   ]
  },
  {
   "cell_type": "code",
   "execution_count": 21,
   "metadata": {},
   "outputs": [
    {
     "name": "stdout",
     "output_type": "stream",
     "text": [
      "Series Example\n"
     ]
    },
    {
     "data": {
      "text/plain": [
       "0    15\n",
       "1    16\n",
       "2    17\n",
       "3    18\n",
       "4    19\n",
       "dtype: int32"
      ]
     },
     "execution_count": 21,
     "metadata": {},
     "output_type": "execute_result"
    }
   ],
   "source": [
    "# Series a one-dimensional array that is capable of storing various data types\n",
    "# The row labels of series are called the index.\n",
    "# Series is capable of holding Integers, strings, floating point numbers, Python objects.\n",
    "# It should not contains multiple columns.\n",
    "\n",
    "print(\"Series Example\")\n",
    "s = pd.Series(np.arange(15,20))\n",
    "s"
   ]
  },
  {
   "cell_type": "markdown",
   "metadata": {},
   "source": [
    "### A1) Series from ndarray"
   ]
  },
  {
   "cell_type": "code",
   "execution_count": 39,
   "metadata": {},
   "outputs": [
    {
     "name": "stdout",
     "output_type": "stream",
     "text": [
      "Series From ndarray. \n",
      "\n",
      "Series:\n",
      "a   -1.140473\n",
      "b    0.327533\n",
      "c   -1.009269\n",
      "d   -0.430283\n",
      "e   -0.355748\n",
      "dtype: float64\n"
     ]
    }
   ],
   "source": [
    "print(\"Series From ndarray. \\n\\nSeries:\")\n",
    "\n",
    "s = pd.Series(np.random.randn(5), index=['a','b','c','d','e'])\n",
    "print(s)"
   ]
  },
  {
   "cell_type": "markdown",
   "metadata": {},
   "source": [
    "### A2) Series from Dictionary"
   ]
  },
  {
   "cell_type": "code",
   "execution_count": 38,
   "metadata": {},
   "outputs": [
    {
     "name": "stdout",
     "output_type": "stream",
     "text": [
      "Series From Dictionary. \n",
      "\n",
      "Series:\n",
      "p    111.0\n",
      "q    222.0\n",
      "r    333.0\n",
      "s      NaN\n",
      "t    555.0\n",
      "dtype: float64\n"
     ]
    }
   ],
   "source": [
    "print(\"Series From Dictionary. \\n\\nSeries:\")\n",
    "\n",
    "dict1 = {'p':111, 'q':222, 'r':333, 's':np.NaN, 't':555}\n",
    "s = pd.Series(dict1)\n",
    "print(s)"
   ]
  },
  {
   "cell_type": "markdown",
   "metadata": {},
   "source": [
    "### A3) Series from Scalar value"
   ]
  },
  {
   "cell_type": "code",
   "execution_count": 41,
   "metadata": {},
   "outputs": [
    {
     "name": "stdout",
     "output_type": "stream",
     "text": [
      "Series From Scalar value. Same value will be repeated with index length. \n",
      "\n",
      "Series:\n",
      "i    125\n",
      "j    125\n",
      "k    125\n",
      "l    125\n",
      "dtype: int64\n"
     ]
    }
   ],
   "source": [
    "print(\"Series From Scalar value. Same value will be repeated with index length. \\n\\nSeries:\")\n",
    "\n",
    "s = pd.Series(125, index=['i','j','k','l'])\n",
    "print(s)"
   ]
  },
  {
   "cell_type": "markdown",
   "metadata": {},
   "source": [
    "### A4) Series functionalities"
   ]
  },
  {
   "cell_type": "code",
   "execution_count": 45,
   "metadata": {},
   "outputs": [
    {
     "name": "stdout",
     "output_type": "stream",
     "text": [
      "Series will work like ndarray. Slice operations \n",
      "\n",
      "Series:\n",
      "p    111.0\n",
      "q    222.0\n",
      "r    333.0\n",
      "s      NaN\n",
      "t    555.0\n",
      "dtype: float64\n"
     ]
    }
   ],
   "source": [
    "print(\"Series will work like ndarray. Slice operations \\n\\nSeries:\")\n",
    "\n",
    "dict1 = {'p':111, 'q':222, 'r':333, 's':np.NaN, 't':555}\n",
    "s = pd.Series(dict1)\n",
    "\n",
    "print(s)"
   ]
  },
  {
   "cell_type": "code",
   "execution_count": 61,
   "metadata": {
    "scrolled": true
   },
   "outputs": [
    {
     "name": "stdout",
     "output_type": "stream",
     "text": [
      "Slice:\n",
      "s[1]: 222.0\n",
      "s['r']: 333.0\n",
      "\n",
      "##############################\n",
      "Filters:s[s > 200]:\n",
      " q    222.0\n",
      "r    333.0\n",
      "t    555.0\n",
      "dtype: float64\n",
      "\n",
      "##############################\n",
      "Select Multiple indexes:s[0,2,4]:\n",
      " p    111.0\n",
      "r    333.0\n",
      "t    555.0\n",
      "dtype: float64\n",
      "\n",
      "##############################\n",
      "Check DType: float64\n"
     ]
    }
   ],
   "source": [
    "print(\"Slice:\\ns[1]:\",s[1])\n",
    "print(\"s['r']:\",s['r'])\n",
    "\n",
    "print(\"\\n##############################\")\n",
    "print(\"Filters:s[s > 200]:\\n\", s[s > 200])\n",
    "\n",
    "print(\"\\n##############################\")\n",
    "print(\"Select Multiple indexes:s[0,2,4]:\\n\", s[[0,2,4]])\n",
    "\n",
    "print(\"\\n##############################\")\n",
    "print(\"Check DType:\", s.dtype)\n",
    "\n"
   ]
  },
  {
   "cell_type": "code",
   "execution_count": 64,
   "metadata": {},
   "outputs": [
    {
     "name": "stdout",
     "output_type": "stream",
     "text": [
      "\n",
      "##############################\n",
      "Sum 2 Series: s + s :\n",
      " p     222.0\n",
      "q     444.0\n",
      "r     666.0\n",
      "s       NaN\n",
      "t    1110.0\n",
      "dtype: float64\n",
      "\n",
      "##############################\n",
      "Multiply by 5 : s*5 :\n",
      " p     555.0\n",
      "q    1110.0\n",
      "r    1665.0\n",
      "s       NaN\n",
      "t    2775.0\n",
      "dtype: float64\n"
     ]
    }
   ],
   "source": [
    "print(\"\\n##############################\")\n",
    "print(\"Sum 2 Series: s + s :\\n\", s + s)\n",
    "\n",
    "print(\"\\n##############################\")\n",
    "print(\"Multiply by 5 : s*5 :\\n\", s*5)"
   ]
  },
  {
   "cell_type": "code",
   "execution_count": null,
   "metadata": {},
   "outputs": [],
   "source": []
  },
  {
   "cell_type": "markdown",
   "metadata": {},
   "source": [
    "# B) DataFrame in Pandas"
   ]
  },
  {
   "cell_type": "code",
   "execution_count": 134,
   "metadata": {},
   "outputs": [
    {
     "data": {
      "text/html": [
       "<div>\n",
       "<style scoped>\n",
       "    .dataframe tbody tr th:only-of-type {\n",
       "        vertical-align: middle;\n",
       "    }\n",
       "\n",
       "    .dataframe tbody tr th {\n",
       "        vertical-align: top;\n",
       "    }\n",
       "\n",
       "    .dataframe thead th {\n",
       "        text-align: right;\n",
       "    }\n",
       "</style>\n",
       "<table border=\"1\" class=\"dataframe\">\n",
       "  <thead>\n",
       "    <tr style=\"text-align: right;\">\n",
       "      <th></th>\n",
       "      <th>W</th>\n",
       "      <th>X</th>\n",
       "      <th>Y</th>\n",
       "      <th>Z</th>\n",
       "    </tr>\n",
       "  </thead>\n",
       "  <tbody>\n",
       "    <tr>\n",
       "      <th>A</th>\n",
       "      <td>-1.003719</td>\n",
       "      <td>-1.354529</td>\n",
       "      <td>0.235040</td>\n",
       "      <td>0.389252</td>\n",
       "    </tr>\n",
       "    <tr>\n",
       "      <th>B</th>\n",
       "      <td>-2.318651</td>\n",
       "      <td>-0.456101</td>\n",
       "      <td>0.012880</td>\n",
       "      <td>-1.429024</td>\n",
       "    </tr>\n",
       "    <tr>\n",
       "      <th>C</th>\n",
       "      <td>-0.178227</td>\n",
       "      <td>1.669811</td>\n",
       "      <td>-0.570908</td>\n",
       "      <td>0.373214</td>\n",
       "    </tr>\n",
       "    <tr>\n",
       "      <th>D</th>\n",
       "      <td>0.397618</td>\n",
       "      <td>-0.942842</td>\n",
       "      <td>1.867151</td>\n",
       "      <td>-1.172789</td>\n",
       "    </tr>\n",
       "    <tr>\n",
       "      <th>E</th>\n",
       "      <td>-1.396274</td>\n",
       "      <td>0.702433</td>\n",
       "      <td>-1.543946</td>\n",
       "      <td>-1.039696</td>\n",
       "    </tr>\n",
       "  </tbody>\n",
       "</table>\n",
       "</div>"
      ],
      "text/plain": [
       "          W         X         Y         Z\n",
       "A -1.003719 -1.354529  0.235040  0.389252\n",
       "B -2.318651 -0.456101  0.012880 -1.429024\n",
       "C -0.178227  1.669811 -0.570908  0.373214\n",
       "D  0.397618 -0.942842  1.867151 -1.172789\n",
       "E -1.396274  0.702433 -1.543946 -1.039696"
      ]
     },
     "execution_count": 134,
     "metadata": {},
     "output_type": "execute_result"
    }
   ],
   "source": [
    "# DataFrame is a two-dimensional array with labeled axes (rows and columns).\n",
    "# DataFrame is like Structured table or Excel file\n",
    "df = pd.DataFrame(np.random.randn(5,4),index='A B C D E'.split(),columns='W X Y Z'.split())\n",
    "df"
   ]
  },
  {
   "cell_type": "markdown",
   "metadata": {},
   "source": [
    "### B1) DataFrame from List"
   ]
  },
  {
   "cell_type": "code",
   "execution_count": 74,
   "metadata": {},
   "outputs": [
    {
     "name": "stdout",
     "output_type": "stream",
     "text": [
      "DataFrame Example using List:\n",
      " DataFrame:\n"
     ]
    },
    {
     "data": {
      "text/html": [
       "<div>\n",
       "<style scoped>\n",
       "    .dataframe tbody tr th:only-of-type {\n",
       "        vertical-align: middle;\n",
       "    }\n",
       "\n",
       "    .dataframe tbody tr th {\n",
       "        vertical-align: top;\n",
       "    }\n",
       "\n",
       "    .dataframe thead th {\n",
       "        text-align: right;\n",
       "    }\n",
       "</style>\n",
       "<table border=\"1\" class=\"dataframe\">\n",
       "  <thead>\n",
       "    <tr style=\"text-align: right;\">\n",
       "      <th></th>\n",
       "      <th>ID_NUM</th>\n",
       "    </tr>\n",
       "  </thead>\n",
       "  <tbody>\n",
       "    <tr>\n",
       "      <th>a</th>\n",
       "      <td>2</td>\n",
       "    </tr>\n",
       "    <tr>\n",
       "      <th>b</th>\n",
       "      <td>3</td>\n",
       "    </tr>\n",
       "    <tr>\n",
       "      <th>c</th>\n",
       "      <td>4</td>\n",
       "    </tr>\n",
       "    <tr>\n",
       "      <th>d</th>\n",
       "      <td>5</td>\n",
       "    </tr>\n",
       "    <tr>\n",
       "      <th>e</th>\n",
       "      <td>6</td>\n",
       "    </tr>\n",
       "    <tr>\n",
       "      <th>f</th>\n",
       "      <td>7</td>\n",
       "    </tr>\n",
       "  </tbody>\n",
       "</table>\n",
       "</div>"
      ],
      "text/plain": [
       "   ID_NUM\n",
       "a       2\n",
       "b       3\n",
       "c       4\n",
       "d       5\n",
       "e       6\n",
       "f       7"
      ]
     },
     "execution_count": 74,
     "metadata": {},
     "output_type": "execute_result"
    }
   ],
   "source": [
    "print(\"DataFrame Example using List:\\n DataFrame:\")\n",
    "\n",
    "l1 = [2,3,4,5,6,7]\n",
    "df = pd.DataFrame(l1, index = ['a','b','c','d','e','f'], columns = ['ID_NUM'])\n",
    "df"
   ]
  },
  {
   "cell_type": "markdown",
   "metadata": {},
   "source": [
    "### B2) DataFrame from Dict"
   ]
  },
  {
   "cell_type": "code",
   "execution_count": 76,
   "metadata": {},
   "outputs": [
    {
     "name": "stdout",
     "output_type": "stream",
     "text": [
      "DataFrame Example using Dict:\n",
      " DataFrame:\n"
     ]
    },
    {
     "data": {
      "text/html": [
       "<div>\n",
       "<style scoped>\n",
       "    .dataframe tbody tr th:only-of-type {\n",
       "        vertical-align: middle;\n",
       "    }\n",
       "\n",
       "    .dataframe tbody tr th {\n",
       "        vertical-align: top;\n",
       "    }\n",
       "\n",
       "    .dataframe thead th {\n",
       "        text-align: right;\n",
       "    }\n",
       "</style>\n",
       "<table border=\"1\" class=\"dataframe\">\n",
       "  <thead>\n",
       "    <tr style=\"text-align: right;\">\n",
       "      <th></th>\n",
       "      <th>ID</th>\n",
       "      <th>Name</th>\n",
       "    </tr>\n",
       "  </thead>\n",
       "  <tbody>\n",
       "    <tr>\n",
       "      <th>0</th>\n",
       "      <td>101</td>\n",
       "      <td>AAA</td>\n",
       "    </tr>\n",
       "    <tr>\n",
       "      <th>1</th>\n",
       "      <td>102</td>\n",
       "      <td>BBB</td>\n",
       "    </tr>\n",
       "    <tr>\n",
       "      <th>2</th>\n",
       "      <td>103</td>\n",
       "      <td>CCC</td>\n",
       "    </tr>\n",
       "    <tr>\n",
       "      <th>3</th>\n",
       "      <td>104</td>\n",
       "      <td>DDD</td>\n",
       "    </tr>\n",
       "    <tr>\n",
       "      <th>4</th>\n",
       "      <td>105</td>\n",
       "      <td>EEE</td>\n",
       "    </tr>\n",
       "  </tbody>\n",
       "</table>\n",
       "</div>"
      ],
      "text/plain": [
       "    ID Name\n",
       "0  101  AAA\n",
       "1  102  BBB\n",
       "2  103  CCC\n",
       "3  104  DDD\n",
       "4  105  EEE"
      ]
     },
     "execution_count": 76,
     "metadata": {},
     "output_type": "execute_result"
    }
   ],
   "source": [
    "print(\"DataFrame Example using Dict:\\n DataFrame:\")\n",
    "\n",
    "dict1 = {\"ID\":[101,102,103,104,105], \"Name\":['AAA','BBB','CCC','DDD','EEE']}\n",
    "df = pd.DataFrame(dict1)\n",
    "df"
   ]
  },
  {
   "cell_type": "markdown",
   "metadata": {},
   "source": [
    "### B3) DataFrame from ndarray"
   ]
  },
  {
   "cell_type": "code",
   "execution_count": 136,
   "metadata": {},
   "outputs": [
    {
     "name": "stdout",
     "output_type": "stream",
     "text": [
      "DataFrame Example using Dict:\n",
      " DataFrame:\n"
     ]
    },
    {
     "data": {
      "text/html": [
       "<div>\n",
       "<style scoped>\n",
       "    .dataframe tbody tr th:only-of-type {\n",
       "        vertical-align: middle;\n",
       "    }\n",
       "\n",
       "    .dataframe tbody tr th {\n",
       "        vertical-align: top;\n",
       "    }\n",
       "\n",
       "    .dataframe thead th {\n",
       "        text-align: right;\n",
       "    }\n",
       "</style>\n",
       "<table border=\"1\" class=\"dataframe\">\n",
       "  <thead>\n",
       "    <tr style=\"text-align: right;\">\n",
       "      <th></th>\n",
       "      <th>India</th>\n",
       "      <th>USA</th>\n",
       "      <th>China</th>\n",
       "      <th>Japan</th>\n",
       "      <th>Italy</th>\n",
       "    </tr>\n",
       "  </thead>\n",
       "  <tbody>\n",
       "    <tr>\n",
       "      <th>2000</th>\n",
       "      <td>0.350290</td>\n",
       "      <td>0.346292</td>\n",
       "      <td>0.096251</td>\n",
       "      <td>0.525595</td>\n",
       "      <td>0.110623</td>\n",
       "    </tr>\n",
       "    <tr>\n",
       "      <th>2001</th>\n",
       "      <td>0.915823</td>\n",
       "      <td>0.404017</td>\n",
       "      <td>0.370374</td>\n",
       "      <td>0.360151</td>\n",
       "      <td>0.609577</td>\n",
       "    </tr>\n",
       "    <tr>\n",
       "      <th>2002</th>\n",
       "      <td>0.493764</td>\n",
       "      <td>0.048177</td>\n",
       "      <td>0.232806</td>\n",
       "      <td>0.579379</td>\n",
       "      <td>0.402962</td>\n",
       "    </tr>\n",
       "    <tr>\n",
       "      <th>2003</th>\n",
       "      <td>0.340133</td>\n",
       "      <td>0.853572</td>\n",
       "      <td>0.694253</td>\n",
       "      <td>0.093460</td>\n",
       "      <td>0.409661</td>\n",
       "    </tr>\n",
       "    <tr>\n",
       "      <th>2004</th>\n",
       "      <td>0.621391</td>\n",
       "      <td>0.791143</td>\n",
       "      <td>0.780259</td>\n",
       "      <td>0.710771</td>\n",
       "      <td>0.646590</td>\n",
       "    </tr>\n",
       "    <tr>\n",
       "      <th>2005</th>\n",
       "      <td>0.013221</td>\n",
       "      <td>0.796848</td>\n",
       "      <td>0.011630</td>\n",
       "      <td>0.557202</td>\n",
       "      <td>0.393944</td>\n",
       "    </tr>\n",
       "    <tr>\n",
       "      <th>2006</th>\n",
       "      <td>0.878574</td>\n",
       "      <td>0.592034</td>\n",
       "      <td>0.266376</td>\n",
       "      <td>0.668363</td>\n",
       "      <td>0.242256</td>\n",
       "    </tr>\n",
       "    <tr>\n",
       "      <th>2007</th>\n",
       "      <td>0.363322</td>\n",
       "      <td>0.100547</td>\n",
       "      <td>0.721351</td>\n",
       "      <td>0.829981</td>\n",
       "      <td>0.859235</td>\n",
       "    </tr>\n",
       "    <tr>\n",
       "      <th>2008</th>\n",
       "      <td>0.788926</td>\n",
       "      <td>0.191501</td>\n",
       "      <td>0.716643</td>\n",
       "      <td>0.103029</td>\n",
       "      <td>0.197034</td>\n",
       "    </tr>\n",
       "    <tr>\n",
       "      <th>2009</th>\n",
       "      <td>0.503605</td>\n",
       "      <td>0.053783</td>\n",
       "      <td>0.313549</td>\n",
       "      <td>0.118274</td>\n",
       "      <td>0.834089</td>\n",
       "    </tr>\n",
       "  </tbody>\n",
       "</table>\n",
       "</div>"
      ],
      "text/plain": [
       "         India       USA     China     Japan     Italy\n",
       "2000  0.350290  0.346292  0.096251  0.525595  0.110623\n",
       "2001  0.915823  0.404017  0.370374  0.360151  0.609577\n",
       "2002  0.493764  0.048177  0.232806  0.579379  0.402962\n",
       "2003  0.340133  0.853572  0.694253  0.093460  0.409661\n",
       "2004  0.621391  0.791143  0.780259  0.710771  0.646590\n",
       "2005  0.013221  0.796848  0.011630  0.557202  0.393944\n",
       "2006  0.878574  0.592034  0.266376  0.668363  0.242256\n",
       "2007  0.363322  0.100547  0.721351  0.829981  0.859235\n",
       "2008  0.788926  0.191501  0.716643  0.103029  0.197034\n",
       "2009  0.503605  0.053783  0.313549  0.118274  0.834089"
      ]
     },
     "execution_count": 136,
     "metadata": {},
     "output_type": "execute_result"
    }
   ],
   "source": [
    "print(\"DataFrame Example using Dict:\\n DataFrame:\")\n",
    "\n",
    "a = np.array(np.random.rand(10,5))\n",
    "df = pd.DataFrame(a, index = [np.arange(2000,2010)], columns = ['India', 'USA', 'China', 'Japan', 'Italy'])\n",
    "df"
   ]
  },
  {
   "cell_type": "markdown",
   "metadata": {},
   "source": [
    "### B4) DataFrame Basic functions"
   ]
  },
  {
   "cell_type": "code",
   "execution_count": 102,
   "metadata": {},
   "outputs": [
    {
     "name": "stdout",
     "output_type": "stream",
     "text": [
      "DataFrame count: \n",
      "\n",
      " India    10\n",
      "USA      10\n",
      "China    10\n",
      "Japan    10\n",
      "Italy    10\n",
      "dtype: int64\n"
     ]
    }
   ],
   "source": [
    "print(\"DataFrame count: \\n\\n\", df.count())"
   ]
  },
  {
   "cell_type": "code",
   "execution_count": 103,
   "metadata": {},
   "outputs": [
    {
     "name": "stdout",
     "output_type": "stream",
     "text": [
      "DataFrame Columns list: \n",
      "\n",
      " Index(['India', 'USA', 'China', 'Japan', 'Italy'], dtype='object')\n"
     ]
    }
   ],
   "source": [
    "print(\"DataFrame Columns list: \\n\\n\", df.columns)"
   ]
  },
  {
   "cell_type": "code",
   "execution_count": 130,
   "metadata": {
    "scrolled": true
   },
   "outputs": [
    {
     "name": "stdout",
     "output_type": "stream",
     "text": [
      "DataFrame index (Row Name)list: \n",
      "\n",
      " MultiIndex(levels=[[2000, 2001, 2002, 2003, 2004, 2005, 2006, 2007, 2008, 2009]],\n",
      "           labels=[[0, 1, 2, 3, 4, 5, 6, 7, 8, 9]])\n"
     ]
    }
   ],
   "source": [
    "print(\"DataFrame index (Row Name)list: \\n\\n\", df.index)"
   ]
  },
  {
   "cell_type": "code",
   "execution_count": 108,
   "metadata": {},
   "outputs": [
    {
     "name": "stdout",
     "output_type": "stream",
     "text": [
      "DataFrame Shape(Rows X Columns): \n",
      "\n",
      " (10, 5)\n"
     ]
    }
   ],
   "source": [
    "print(\"DataFrame Shape(Rows X Columns): \\n\\n\", df.shape)"
   ]
  },
  {
   "cell_type": "code",
   "execution_count": 129,
   "metadata": {
    "scrolled": true
   },
   "outputs": [
    {
     "name": "stdout",
     "output_type": "stream",
     "text": [
      "DataFrame DataTypes of each column.\n",
      "\n"
     ]
    },
    {
     "data": {
      "text/plain": [
       "India    float64\n",
       "USA      float64\n",
       "China    float64\n",
       "Japan    float64\n",
       "Italy    float64\n",
       "dtype: object"
      ]
     },
     "execution_count": 129,
     "metadata": {},
     "output_type": "execute_result"
    }
   ],
   "source": [
    "print(\"DataFrame DataTypes of each column.\\n\")\n",
    "df.dtypes"
   ]
  },
  {
   "cell_type": "code",
   "execution_count": 112,
   "metadata": {},
   "outputs": [
    {
     "name": "stdout",
     "output_type": "stream",
     "text": [
      "DataFrame Information: \n",
      "\n",
      "<class 'pandas.core.frame.DataFrame'>\n",
      "MultiIndex: 10 entries, (2000,) to (2009,)\n",
      "Data columns (total 5 columns):\n",
      "India    10 non-null float64\n",
      "USA      10 non-null float64\n",
      "China    10 non-null float64\n",
      "Japan    10 non-null float64\n",
      "Italy    10 non-null float64\n",
      "dtypes: float64(5)\n",
      "memory usage: 506.0 bytes\n"
     ]
    }
   ],
   "source": [
    "print(\"DataFrame Information: \\n\")\n",
    "df.info()"
   ]
  },
  {
   "cell_type": "code",
   "execution_count": 113,
   "metadata": {},
   "outputs": [
    {
     "name": "stdout",
     "output_type": "stream",
     "text": [
      "DataFrame Description: \n",
      "\n"
     ]
    },
    {
     "data": {
      "text/html": [
       "<div>\n",
       "<style scoped>\n",
       "    .dataframe tbody tr th:only-of-type {\n",
       "        vertical-align: middle;\n",
       "    }\n",
       "\n",
       "    .dataframe tbody tr th {\n",
       "        vertical-align: top;\n",
       "    }\n",
       "\n",
       "    .dataframe thead th {\n",
       "        text-align: right;\n",
       "    }\n",
       "</style>\n",
       "<table border=\"1\" class=\"dataframe\">\n",
       "  <thead>\n",
       "    <tr style=\"text-align: right;\">\n",
       "      <th></th>\n",
       "      <th>India</th>\n",
       "      <th>USA</th>\n",
       "      <th>China</th>\n",
       "      <th>Japan</th>\n",
       "      <th>Italy</th>\n",
       "    </tr>\n",
       "  </thead>\n",
       "  <tbody>\n",
       "    <tr>\n",
       "      <th>count</th>\n",
       "      <td>10.000000</td>\n",
       "      <td>10.000000</td>\n",
       "      <td>10.000000</td>\n",
       "      <td>10.000000</td>\n",
       "      <td>10.000000</td>\n",
       "    </tr>\n",
       "    <tr>\n",
       "      <th>mean</th>\n",
       "      <td>0.478931</td>\n",
       "      <td>0.483407</td>\n",
       "      <td>0.400916</td>\n",
       "      <td>0.357733</td>\n",
       "      <td>0.490020</td>\n",
       "    </tr>\n",
       "    <tr>\n",
       "      <th>std</th>\n",
       "      <td>0.300466</td>\n",
       "      <td>0.258164</td>\n",
       "      <td>0.256427</td>\n",
       "      <td>0.350324</td>\n",
       "      <td>0.254655</td>\n",
       "    </tr>\n",
       "    <tr>\n",
       "      <th>min</th>\n",
       "      <td>0.013015</td>\n",
       "      <td>0.108695</td>\n",
       "      <td>0.026165</td>\n",
       "      <td>0.011144</td>\n",
       "      <td>0.024486</td>\n",
       "    </tr>\n",
       "    <tr>\n",
       "      <th>25%</th>\n",
       "      <td>0.262154</td>\n",
       "      <td>0.333040</td>\n",
       "      <td>0.241592</td>\n",
       "      <td>0.042462</td>\n",
       "      <td>0.360462</td>\n",
       "    </tr>\n",
       "    <tr>\n",
       "      <th>50%</th>\n",
       "      <td>0.440756</td>\n",
       "      <td>0.472644</td>\n",
       "      <td>0.376786</td>\n",
       "      <td>0.296390</td>\n",
       "      <td>0.482053</td>\n",
       "    </tr>\n",
       "    <tr>\n",
       "      <th>75%</th>\n",
       "      <td>0.752880</td>\n",
       "      <td>0.713159</td>\n",
       "      <td>0.602218</td>\n",
       "      <td>0.604050</td>\n",
       "      <td>0.653029</td>\n",
       "    </tr>\n",
       "    <tr>\n",
       "      <th>max</th>\n",
       "      <td>0.887407</td>\n",
       "      <td>0.833094</td>\n",
       "      <td>0.758114</td>\n",
       "      <td>0.881438</td>\n",
       "      <td>0.847797</td>\n",
       "    </tr>\n",
       "  </tbody>\n",
       "</table>\n",
       "</div>"
      ],
      "text/plain": [
       "           India        USA      China      Japan      Italy\n",
       "count  10.000000  10.000000  10.000000  10.000000  10.000000\n",
       "mean    0.478931   0.483407   0.400916   0.357733   0.490020\n",
       "std     0.300466   0.258164   0.256427   0.350324   0.254655\n",
       "min     0.013015   0.108695   0.026165   0.011144   0.024486\n",
       "25%     0.262154   0.333040   0.241592   0.042462   0.360462\n",
       "50%     0.440756   0.472644   0.376786   0.296390   0.482053\n",
       "75%     0.752880   0.713159   0.602218   0.604050   0.653029\n",
       "max     0.887407   0.833094   0.758114   0.881438   0.847797"
      ]
     },
     "execution_count": 113,
     "metadata": {},
     "output_type": "execute_result"
    }
   ],
   "source": [
    "print(\"DataFrame Description: \\n\")\n",
    "df.describe()"
   ]
  },
  {
   "cell_type": "code",
   "execution_count": 124,
   "metadata": {},
   "outputs": [
    {
     "name": "stdout",
     "output_type": "stream",
     "text": [
      "DataFrame Sample Data: Given 3 records as Sample.\n",
      "\n"
     ]
    },
    {
     "data": {
      "text/html": [
       "<div>\n",
       "<style scoped>\n",
       "    .dataframe tbody tr th:only-of-type {\n",
       "        vertical-align: middle;\n",
       "    }\n",
       "\n",
       "    .dataframe tbody tr th {\n",
       "        vertical-align: top;\n",
       "    }\n",
       "\n",
       "    .dataframe thead th {\n",
       "        text-align: right;\n",
       "    }\n",
       "</style>\n",
       "<table border=\"1\" class=\"dataframe\">\n",
       "  <thead>\n",
       "    <tr style=\"text-align: right;\">\n",
       "      <th></th>\n",
       "      <th>India</th>\n",
       "      <th>USA</th>\n",
       "      <th>China</th>\n",
       "      <th>Japan</th>\n",
       "      <th>Italy</th>\n",
       "    </tr>\n",
       "  </thead>\n",
       "  <tbody>\n",
       "    <tr>\n",
       "      <th>2005</th>\n",
       "      <td>0.368619</td>\n",
       "      <td>0.332193</td>\n",
       "      <td>0.758114</td>\n",
       "      <td>0.422307</td>\n",
       "      <td>0.360263</td>\n",
       "    </tr>\n",
       "    <tr>\n",
       "      <th>2002</th>\n",
       "      <td>0.384851</td>\n",
       "      <td>0.374839</td>\n",
       "      <td>0.026165</td>\n",
       "      <td>0.439566</td>\n",
       "      <td>0.416680</td>\n",
       "    </tr>\n",
       "    <tr>\n",
       "      <th>2006</th>\n",
       "      <td>0.765961</td>\n",
       "      <td>0.833094</td>\n",
       "      <td>0.405134</td>\n",
       "      <td>0.029272</td>\n",
       "      <td>0.557857</td>\n",
       "    </tr>\n",
       "  </tbody>\n",
       "</table>\n",
       "</div>"
      ],
      "text/plain": [
       "         India       USA     China     Japan     Italy\n",
       "2005  0.368619  0.332193  0.758114  0.422307  0.360263\n",
       "2002  0.384851  0.374839  0.026165  0.439566  0.416680\n",
       "2006  0.765961  0.833094  0.405134  0.029272  0.557857"
      ]
     },
     "execution_count": 124,
     "metadata": {},
     "output_type": "execute_result"
    }
   ],
   "source": [
    "print(\"DataFrame Sample Data: Given 3 records as Sample.\\n\")\n",
    "df.sample(3) "
   ]
  },
  {
   "cell_type": "code",
   "execution_count": 125,
   "metadata": {},
   "outputs": [
    {
     "name": "stdout",
     "output_type": "stream",
     "text": [
      "DataFrame Pick top 3 Records.\n",
      "\n"
     ]
    },
    {
     "data": {
      "text/html": [
       "<div>\n",
       "<style scoped>\n",
       "    .dataframe tbody tr th:only-of-type {\n",
       "        vertical-align: middle;\n",
       "    }\n",
       "\n",
       "    .dataframe tbody tr th {\n",
       "        vertical-align: top;\n",
       "    }\n",
       "\n",
       "    .dataframe thead th {\n",
       "        text-align: right;\n",
       "    }\n",
       "</style>\n",
       "<table border=\"1\" class=\"dataframe\">\n",
       "  <thead>\n",
       "    <tr style=\"text-align: right;\">\n",
       "      <th></th>\n",
       "      <th>India</th>\n",
       "      <th>USA</th>\n",
       "      <th>China</th>\n",
       "      <th>Japan</th>\n",
       "      <th>Italy</th>\n",
       "    </tr>\n",
       "  </thead>\n",
       "  <tbody>\n",
       "    <tr>\n",
       "      <th>2000</th>\n",
       "      <td>0.787045</td>\n",
       "      <td>0.749275</td>\n",
       "      <td>0.097031</td>\n",
       "      <td>0.881438</td>\n",
       "      <td>0.821116</td>\n",
       "    </tr>\n",
       "    <tr>\n",
       "      <th>2001</th>\n",
       "      <td>0.887407</td>\n",
       "      <td>0.108695</td>\n",
       "      <td>0.748217</td>\n",
       "      <td>0.011144</td>\n",
       "      <td>0.547425</td>\n",
       "    </tr>\n",
       "    <tr>\n",
       "      <th>2002</th>\n",
       "      <td>0.384851</td>\n",
       "      <td>0.374839</td>\n",
       "      <td>0.026165</td>\n",
       "      <td>0.439566</td>\n",
       "      <td>0.416680</td>\n",
       "    </tr>\n",
       "  </tbody>\n",
       "</table>\n",
       "</div>"
      ],
      "text/plain": [
       "         India       USA     China     Japan     Italy\n",
       "2000  0.787045  0.749275  0.097031  0.881438  0.821116\n",
       "2001  0.887407  0.108695  0.748217  0.011144  0.547425\n",
       "2002  0.384851  0.374839  0.026165  0.439566  0.416680"
      ]
     },
     "execution_count": 125,
     "metadata": {},
     "output_type": "execute_result"
    }
   ],
   "source": [
    "print(\"DataFrame Pick top 3 Records.\\n\")\n",
    "df.head(3) "
   ]
  },
  {
   "cell_type": "code",
   "execution_count": 127,
   "metadata": {},
   "outputs": [
    {
     "name": "stdout",
     "output_type": "stream",
     "text": [
      "DataFrame Pick bottom 3 Records.\n",
      "\n"
     ]
    },
    {
     "data": {
      "text/html": [
       "<div>\n",
       "<style scoped>\n",
       "    .dataframe tbody tr th:only-of-type {\n",
       "        vertical-align: middle;\n",
       "    }\n",
       "\n",
       "    .dataframe tbody tr th {\n",
       "        vertical-align: top;\n",
       "    }\n",
       "\n",
       "    .dataframe thead th {\n",
       "        text-align: right;\n",
       "    }\n",
       "</style>\n",
       "<table border=\"1\" class=\"dataframe\">\n",
       "  <thead>\n",
       "    <tr style=\"text-align: right;\">\n",
       "      <th></th>\n",
       "      <th>India</th>\n",
       "      <th>USA</th>\n",
       "      <th>China</th>\n",
       "      <th>Japan</th>\n",
       "      <th>Italy</th>\n",
       "    </tr>\n",
       "  </thead>\n",
       "  <tbody>\n",
       "    <tr>\n",
       "      <th>2007</th>\n",
       "      <td>0.013015</td>\n",
       "      <td>0.335582</td>\n",
       "      <td>0.655592</td>\n",
       "      <td>0.658877</td>\n",
       "      <td>0.278767</td>\n",
       "    </tr>\n",
       "    <tr>\n",
       "      <th>2008</th>\n",
       "      <td>0.496660</td>\n",
       "      <td>0.570448</td>\n",
       "      <td>0.309379</td>\n",
       "      <td>0.170474</td>\n",
       "      <td>0.361058</td>\n",
       "    </tr>\n",
       "    <tr>\n",
       "      <th>2009</th>\n",
       "      <td>0.226666</td>\n",
       "      <td>0.604811</td>\n",
       "      <td>0.348438</td>\n",
       "      <td>0.876197</td>\n",
       "      <td>0.684754</td>\n",
       "    </tr>\n",
       "  </tbody>\n",
       "</table>\n",
       "</div>"
      ],
      "text/plain": [
       "         India       USA     China     Japan     Italy\n",
       "2007  0.013015  0.335582  0.655592  0.658877  0.278767\n",
       "2008  0.496660  0.570448  0.309379  0.170474  0.361058\n",
       "2009  0.226666  0.604811  0.348438  0.876197  0.684754"
      ]
     },
     "execution_count": 127,
     "metadata": {},
     "output_type": "execute_result"
    }
   ],
   "source": [
    "print(\"DataFrame Pick bottom 3 Records.\\n\")\n",
    "df.tail(3) "
   ]
  },
  {
   "cell_type": "markdown",
   "metadata": {},
   "source": [
    "### B5) DataFrame Columns with Select, Create, Rename, drop\n",
    "> ###  Axis = 0 --> for Rows\n",
    "> ###  Axis = 1 --> for Columns"
   ]
  },
  {
   "cell_type": "code",
   "execution_count": 138,
   "metadata": {
    "scrolled": true
   },
   "outputs": [
    {
     "name": "stdout",
     "output_type": "stream",
     "text": [
      "DataFrame Data Lookslike below. DataFrame DF:\n",
      "\n"
     ]
    },
    {
     "data": {
      "text/html": [
       "<div>\n",
       "<style scoped>\n",
       "    .dataframe tbody tr th:only-of-type {\n",
       "        vertical-align: middle;\n",
       "    }\n",
       "\n",
       "    .dataframe tbody tr th {\n",
       "        vertical-align: top;\n",
       "    }\n",
       "\n",
       "    .dataframe thead th {\n",
       "        text-align: right;\n",
       "    }\n",
       "</style>\n",
       "<table border=\"1\" class=\"dataframe\">\n",
       "  <thead>\n",
       "    <tr style=\"text-align: right;\">\n",
       "      <th></th>\n",
       "      <th>India</th>\n",
       "      <th>USA</th>\n",
       "      <th>China</th>\n",
       "      <th>Japan</th>\n",
       "      <th>Italy</th>\n",
       "    </tr>\n",
       "  </thead>\n",
       "  <tbody>\n",
       "    <tr>\n",
       "      <th>2000</th>\n",
       "      <td>0.399694</td>\n",
       "      <td>0.322446</td>\n",
       "      <td>0.949832</td>\n",
       "      <td>0.477198</td>\n",
       "      <td>0.108064</td>\n",
       "    </tr>\n",
       "    <tr>\n",
       "      <th>2001</th>\n",
       "      <td>0.619891</td>\n",
       "      <td>0.418961</td>\n",
       "      <td>0.866907</td>\n",
       "      <td>0.342787</td>\n",
       "      <td>0.545301</td>\n",
       "    </tr>\n",
       "    <tr>\n",
       "      <th>2002</th>\n",
       "      <td>0.344944</td>\n",
       "      <td>0.090686</td>\n",
       "      <td>0.114429</td>\n",
       "      <td>0.015913</td>\n",
       "      <td>0.025554</td>\n",
       "    </tr>\n",
       "    <tr>\n",
       "      <th>2003</th>\n",
       "      <td>0.962349</td>\n",
       "      <td>0.778660</td>\n",
       "      <td>0.244048</td>\n",
       "      <td>0.399331</td>\n",
       "      <td>0.613096</td>\n",
       "    </tr>\n",
       "    <tr>\n",
       "      <th>2004</th>\n",
       "      <td>0.859724</td>\n",
       "      <td>0.163855</td>\n",
       "      <td>0.693371</td>\n",
       "      <td>0.818648</td>\n",
       "      <td>0.967456</td>\n",
       "    </tr>\n",
       "    <tr>\n",
       "      <th>2005</th>\n",
       "      <td>0.787853</td>\n",
       "      <td>0.108535</td>\n",
       "      <td>0.568081</td>\n",
       "      <td>0.566507</td>\n",
       "      <td>0.167816</td>\n",
       "    </tr>\n",
       "    <tr>\n",
       "      <th>2006</th>\n",
       "      <td>0.615568</td>\n",
       "      <td>0.476624</td>\n",
       "      <td>0.894124</td>\n",
       "      <td>0.565522</td>\n",
       "      <td>0.930300</td>\n",
       "    </tr>\n",
       "    <tr>\n",
       "      <th>2007</th>\n",
       "      <td>0.882948</td>\n",
       "      <td>0.895825</td>\n",
       "      <td>0.473075</td>\n",
       "      <td>0.590638</td>\n",
       "      <td>0.769765</td>\n",
       "    </tr>\n",
       "    <tr>\n",
       "      <th>2008</th>\n",
       "      <td>0.521790</td>\n",
       "      <td>0.097142</td>\n",
       "      <td>0.189303</td>\n",
       "      <td>0.039195</td>\n",
       "      <td>0.104441</td>\n",
       "    </tr>\n",
       "    <tr>\n",
       "      <th>2009</th>\n",
       "      <td>0.628223</td>\n",
       "      <td>0.021361</td>\n",
       "      <td>0.917344</td>\n",
       "      <td>0.207355</td>\n",
       "      <td>0.868885</td>\n",
       "    </tr>\n",
       "  </tbody>\n",
       "</table>\n",
       "</div>"
      ],
      "text/plain": [
       "         India       USA     China     Japan     Italy\n",
       "2000  0.399694  0.322446  0.949832  0.477198  0.108064\n",
       "2001  0.619891  0.418961  0.866907  0.342787  0.545301\n",
       "2002  0.344944  0.090686  0.114429  0.015913  0.025554\n",
       "2003  0.962349  0.778660  0.244048  0.399331  0.613096\n",
       "2004  0.859724  0.163855  0.693371  0.818648  0.967456\n",
       "2005  0.787853  0.108535  0.568081  0.566507  0.167816\n",
       "2006  0.615568  0.476624  0.894124  0.565522  0.930300\n",
       "2007  0.882948  0.895825  0.473075  0.590638  0.769765\n",
       "2008  0.521790  0.097142  0.189303  0.039195  0.104441\n",
       "2009  0.628223  0.021361  0.917344  0.207355  0.868885"
      ]
     },
     "execution_count": 138,
     "metadata": {},
     "output_type": "execute_result"
    }
   ],
   "source": [
    "print(\"DataFrame Data Lookslike below. DataFrame DF:\\n\")\n",
    "\n",
    "a = np.array(np.random.rand(10,5))\n",
    "df = pd.DataFrame(a, index = [np.arange(2000,2010)], columns = ['India', 'USA', 'China', 'Japan', 'Italy'])\n",
    "df"
   ]
  },
  {
   "cell_type": "markdown",
   "metadata": {},
   "source": [
    "#### B5a) Select Columns"
   ]
  },
  {
   "cell_type": "code",
   "execution_count": 140,
   "metadata": {
    "scrolled": false
   },
   "outputs": [
    {
     "name": "stdout",
     "output_type": "stream",
     "text": [
      "Select only India column\n"
     ]
    },
    {
     "data": {
      "text/plain": [
       "2000    0.399694\n",
       "2001    0.619891\n",
       "2002    0.344944\n",
       "2003    0.962349\n",
       "2004    0.859724\n",
       "2005    0.787853\n",
       "2006    0.615568\n",
       "2007    0.882948\n",
       "2008    0.521790\n",
       "2009    0.628223\n",
       "Name: India, dtype: float64"
      ]
     },
     "execution_count": 140,
     "metadata": {},
     "output_type": "execute_result"
    }
   ],
   "source": [
    "#Select only perticular column\n",
    "print(\"Select only India column\")\n",
    "df['India']"
   ]
  },
  {
   "cell_type": "code",
   "execution_count": 143,
   "metadata": {},
   "outputs": [
    {
     "name": "stdout",
     "output_type": "stream",
     "text": [
      "Type of India column:\n"
     ]
    },
    {
     "data": {
      "text/plain": [
       "pandas.core.series.Series"
      ]
     },
     "execution_count": 143,
     "metadata": {},
     "output_type": "execute_result"
    }
   ],
   "source": [
    "#check the type of each column: DataFrame is colletion of Series.\n",
    "print(\"Type of India column:\")\n",
    "type(df['India'])"
   ]
  },
  {
   "cell_type": "code",
   "execution_count": 141,
   "metadata": {
    "scrolled": true
   },
   "outputs": [
    {
     "name": "stdout",
     "output_type": "stream",
     "text": [
      "Select only India, USA columns\n"
     ]
    },
    {
     "data": {
      "text/html": [
       "<div>\n",
       "<style scoped>\n",
       "    .dataframe tbody tr th:only-of-type {\n",
       "        vertical-align: middle;\n",
       "    }\n",
       "\n",
       "    .dataframe tbody tr th {\n",
       "        vertical-align: top;\n",
       "    }\n",
       "\n",
       "    .dataframe thead th {\n",
       "        text-align: right;\n",
       "    }\n",
       "</style>\n",
       "<table border=\"1\" class=\"dataframe\">\n",
       "  <thead>\n",
       "    <tr style=\"text-align: right;\">\n",
       "      <th></th>\n",
       "      <th>India</th>\n",
       "      <th>USA</th>\n",
       "    </tr>\n",
       "  </thead>\n",
       "  <tbody>\n",
       "    <tr>\n",
       "      <th>2000</th>\n",
       "      <td>0.399694</td>\n",
       "      <td>0.322446</td>\n",
       "    </tr>\n",
       "    <tr>\n",
       "      <th>2001</th>\n",
       "      <td>0.619891</td>\n",
       "      <td>0.418961</td>\n",
       "    </tr>\n",
       "    <tr>\n",
       "      <th>2002</th>\n",
       "      <td>0.344944</td>\n",
       "      <td>0.090686</td>\n",
       "    </tr>\n",
       "    <tr>\n",
       "      <th>2003</th>\n",
       "      <td>0.962349</td>\n",
       "      <td>0.778660</td>\n",
       "    </tr>\n",
       "    <tr>\n",
       "      <th>2004</th>\n",
       "      <td>0.859724</td>\n",
       "      <td>0.163855</td>\n",
       "    </tr>\n",
       "    <tr>\n",
       "      <th>2005</th>\n",
       "      <td>0.787853</td>\n",
       "      <td>0.108535</td>\n",
       "    </tr>\n",
       "    <tr>\n",
       "      <th>2006</th>\n",
       "      <td>0.615568</td>\n",
       "      <td>0.476624</td>\n",
       "    </tr>\n",
       "    <tr>\n",
       "      <th>2007</th>\n",
       "      <td>0.882948</td>\n",
       "      <td>0.895825</td>\n",
       "    </tr>\n",
       "    <tr>\n",
       "      <th>2008</th>\n",
       "      <td>0.521790</td>\n",
       "      <td>0.097142</td>\n",
       "    </tr>\n",
       "    <tr>\n",
       "      <th>2009</th>\n",
       "      <td>0.628223</td>\n",
       "      <td>0.021361</td>\n",
       "    </tr>\n",
       "  </tbody>\n",
       "</table>\n",
       "</div>"
      ],
      "text/plain": [
       "         India       USA\n",
       "2000  0.399694  0.322446\n",
       "2001  0.619891  0.418961\n",
       "2002  0.344944  0.090686\n",
       "2003  0.962349  0.778660\n",
       "2004  0.859724  0.163855\n",
       "2005  0.787853  0.108535\n",
       "2006  0.615568  0.476624\n",
       "2007  0.882948  0.895825\n",
       "2008  0.521790  0.097142\n",
       "2009  0.628223  0.021361"
      ]
     },
     "execution_count": 141,
     "metadata": {},
     "output_type": "execute_result"
    }
   ],
   "source": [
    "#Select list of columns\n",
    "\n",
    "print(\"Select only India, USA columns\")\n",
    "df[['India', 'USA']]"
   ]
  },
  {
   "cell_type": "markdown",
   "metadata": {},
   "source": [
    "#### B5b) Create New columns"
   ]
  },
  {
   "cell_type": "code",
   "execution_count": 150,
   "metadata": {},
   "outputs": [
    {
     "name": "stdout",
     "output_type": "stream",
     "text": [
      "Create India+USA columnsdata as IND_USA\n"
     ]
    },
    {
     "data": {
      "text/html": [
       "<div>\n",
       "<style scoped>\n",
       "    .dataframe tbody tr th:only-of-type {\n",
       "        vertical-align: middle;\n",
       "    }\n",
       "\n",
       "    .dataframe tbody tr th {\n",
       "        vertical-align: top;\n",
       "    }\n",
       "\n",
       "    .dataframe thead th {\n",
       "        text-align: right;\n",
       "    }\n",
       "</style>\n",
       "<table border=\"1\" class=\"dataframe\">\n",
       "  <thead>\n",
       "    <tr style=\"text-align: right;\">\n",
       "      <th></th>\n",
       "      <th>India</th>\n",
       "      <th>USA</th>\n",
       "      <th>China</th>\n",
       "      <th>Japan</th>\n",
       "      <th>Italy</th>\n",
       "      <th>IND_USA</th>\n",
       "    </tr>\n",
       "  </thead>\n",
       "  <tbody>\n",
       "    <tr>\n",
       "      <th>2000</th>\n",
       "      <td>0.399694</td>\n",
       "      <td>0.322446</td>\n",
       "      <td>0.949832</td>\n",
       "      <td>0.477198</td>\n",
       "      <td>0.108064</td>\n",
       "      <td>0.722140</td>\n",
       "    </tr>\n",
       "    <tr>\n",
       "      <th>2001</th>\n",
       "      <td>0.619891</td>\n",
       "      <td>0.418961</td>\n",
       "      <td>0.866907</td>\n",
       "      <td>0.342787</td>\n",
       "      <td>0.545301</td>\n",
       "      <td>1.038853</td>\n",
       "    </tr>\n",
       "    <tr>\n",
       "      <th>2002</th>\n",
       "      <td>0.344944</td>\n",
       "      <td>0.090686</td>\n",
       "      <td>0.114429</td>\n",
       "      <td>0.015913</td>\n",
       "      <td>0.025554</td>\n",
       "      <td>0.435631</td>\n",
       "    </tr>\n",
       "    <tr>\n",
       "      <th>2003</th>\n",
       "      <td>0.962349</td>\n",
       "      <td>0.778660</td>\n",
       "      <td>0.244048</td>\n",
       "      <td>0.399331</td>\n",
       "      <td>0.613096</td>\n",
       "      <td>1.741009</td>\n",
       "    </tr>\n",
       "    <tr>\n",
       "      <th>2004</th>\n",
       "      <td>0.859724</td>\n",
       "      <td>0.163855</td>\n",
       "      <td>0.693371</td>\n",
       "      <td>0.818648</td>\n",
       "      <td>0.967456</td>\n",
       "      <td>1.023578</td>\n",
       "    </tr>\n",
       "    <tr>\n",
       "      <th>2005</th>\n",
       "      <td>0.787853</td>\n",
       "      <td>0.108535</td>\n",
       "      <td>0.568081</td>\n",
       "      <td>0.566507</td>\n",
       "      <td>0.167816</td>\n",
       "      <td>0.896388</td>\n",
       "    </tr>\n",
       "    <tr>\n",
       "      <th>2006</th>\n",
       "      <td>0.615568</td>\n",
       "      <td>0.476624</td>\n",
       "      <td>0.894124</td>\n",
       "      <td>0.565522</td>\n",
       "      <td>0.930300</td>\n",
       "      <td>1.092192</td>\n",
       "    </tr>\n",
       "    <tr>\n",
       "      <th>2007</th>\n",
       "      <td>0.882948</td>\n",
       "      <td>0.895825</td>\n",
       "      <td>0.473075</td>\n",
       "      <td>0.590638</td>\n",
       "      <td>0.769765</td>\n",
       "      <td>1.778772</td>\n",
       "    </tr>\n",
       "    <tr>\n",
       "      <th>2008</th>\n",
       "      <td>0.521790</td>\n",
       "      <td>0.097142</td>\n",
       "      <td>0.189303</td>\n",
       "      <td>0.039195</td>\n",
       "      <td>0.104441</td>\n",
       "      <td>0.618932</td>\n",
       "    </tr>\n",
       "    <tr>\n",
       "      <th>2009</th>\n",
       "      <td>0.628223</td>\n",
       "      <td>0.021361</td>\n",
       "      <td>0.917344</td>\n",
       "      <td>0.207355</td>\n",
       "      <td>0.868885</td>\n",
       "      <td>0.649584</td>\n",
       "    </tr>\n",
       "  </tbody>\n",
       "</table>\n",
       "</div>"
      ],
      "text/plain": [
       "         India       USA     China     Japan     Italy   IND_USA\n",
       "2000  0.399694  0.322446  0.949832  0.477198  0.108064  0.722140\n",
       "2001  0.619891  0.418961  0.866907  0.342787  0.545301  1.038853\n",
       "2002  0.344944  0.090686  0.114429  0.015913  0.025554  0.435631\n",
       "2003  0.962349  0.778660  0.244048  0.399331  0.613096  1.741009\n",
       "2004  0.859724  0.163855  0.693371  0.818648  0.967456  1.023578\n",
       "2005  0.787853  0.108535  0.568081  0.566507  0.167816  0.896388\n",
       "2006  0.615568  0.476624  0.894124  0.565522  0.930300  1.092192\n",
       "2007  0.882948  0.895825  0.473075  0.590638  0.769765  1.778772\n",
       "2008  0.521790  0.097142  0.189303  0.039195  0.104441  0.618932\n",
       "2009  0.628223  0.021361  0.917344  0.207355  0.868885  0.649584"
      ]
     },
     "execution_count": 150,
     "metadata": {},
     "output_type": "execute_result"
    }
   ],
   "source": [
    "print(\"Create India+USA columnsdata as IND_USA\")\n",
    "df['IND_USA'] = df['India'] + df['USA']\n",
    "df"
   ]
  },
  {
   "cell_type": "markdown",
   "metadata": {},
   "source": [
    "#### B5c) Rename columns"
   ]
  },
  {
   "cell_type": "code",
   "execution_count": 151,
   "metadata": {},
   "outputs": [
    {
     "name": "stdout",
     "output_type": "stream",
     "text": [
      "Rename IND_USA column as IND_puls_USA\n"
     ]
    },
    {
     "data": {
      "text/html": [
       "<div>\n",
       "<style scoped>\n",
       "    .dataframe tbody tr th:only-of-type {\n",
       "        vertical-align: middle;\n",
       "    }\n",
       "\n",
       "    .dataframe tbody tr th {\n",
       "        vertical-align: top;\n",
       "    }\n",
       "\n",
       "    .dataframe thead th {\n",
       "        text-align: right;\n",
       "    }\n",
       "</style>\n",
       "<table border=\"1\" class=\"dataframe\">\n",
       "  <thead>\n",
       "    <tr style=\"text-align: right;\">\n",
       "      <th></th>\n",
       "      <th>India</th>\n",
       "      <th>USA</th>\n",
       "      <th>China</th>\n",
       "      <th>Japan</th>\n",
       "      <th>Italy</th>\n",
       "      <th>IND_puls_USA</th>\n",
       "    </tr>\n",
       "  </thead>\n",
       "  <tbody>\n",
       "    <tr>\n",
       "      <th>2000</th>\n",
       "      <td>0.399694</td>\n",
       "      <td>0.322446</td>\n",
       "      <td>0.949832</td>\n",
       "      <td>0.477198</td>\n",
       "      <td>0.108064</td>\n",
       "      <td>0.722140</td>\n",
       "    </tr>\n",
       "    <tr>\n",
       "      <th>2001</th>\n",
       "      <td>0.619891</td>\n",
       "      <td>0.418961</td>\n",
       "      <td>0.866907</td>\n",
       "      <td>0.342787</td>\n",
       "      <td>0.545301</td>\n",
       "      <td>1.038853</td>\n",
       "    </tr>\n",
       "    <tr>\n",
       "      <th>2002</th>\n",
       "      <td>0.344944</td>\n",
       "      <td>0.090686</td>\n",
       "      <td>0.114429</td>\n",
       "      <td>0.015913</td>\n",
       "      <td>0.025554</td>\n",
       "      <td>0.435631</td>\n",
       "    </tr>\n",
       "    <tr>\n",
       "      <th>2003</th>\n",
       "      <td>0.962349</td>\n",
       "      <td>0.778660</td>\n",
       "      <td>0.244048</td>\n",
       "      <td>0.399331</td>\n",
       "      <td>0.613096</td>\n",
       "      <td>1.741009</td>\n",
       "    </tr>\n",
       "    <tr>\n",
       "      <th>2004</th>\n",
       "      <td>0.859724</td>\n",
       "      <td>0.163855</td>\n",
       "      <td>0.693371</td>\n",
       "      <td>0.818648</td>\n",
       "      <td>0.967456</td>\n",
       "      <td>1.023578</td>\n",
       "    </tr>\n",
       "    <tr>\n",
       "      <th>2005</th>\n",
       "      <td>0.787853</td>\n",
       "      <td>0.108535</td>\n",
       "      <td>0.568081</td>\n",
       "      <td>0.566507</td>\n",
       "      <td>0.167816</td>\n",
       "      <td>0.896388</td>\n",
       "    </tr>\n",
       "    <tr>\n",
       "      <th>2006</th>\n",
       "      <td>0.615568</td>\n",
       "      <td>0.476624</td>\n",
       "      <td>0.894124</td>\n",
       "      <td>0.565522</td>\n",
       "      <td>0.930300</td>\n",
       "      <td>1.092192</td>\n",
       "    </tr>\n",
       "    <tr>\n",
       "      <th>2007</th>\n",
       "      <td>0.882948</td>\n",
       "      <td>0.895825</td>\n",
       "      <td>0.473075</td>\n",
       "      <td>0.590638</td>\n",
       "      <td>0.769765</td>\n",
       "      <td>1.778772</td>\n",
       "    </tr>\n",
       "    <tr>\n",
       "      <th>2008</th>\n",
       "      <td>0.521790</td>\n",
       "      <td>0.097142</td>\n",
       "      <td>0.189303</td>\n",
       "      <td>0.039195</td>\n",
       "      <td>0.104441</td>\n",
       "      <td>0.618932</td>\n",
       "    </tr>\n",
       "    <tr>\n",
       "      <th>2009</th>\n",
       "      <td>0.628223</td>\n",
       "      <td>0.021361</td>\n",
       "      <td>0.917344</td>\n",
       "      <td>0.207355</td>\n",
       "      <td>0.868885</td>\n",
       "      <td>0.649584</td>\n",
       "    </tr>\n",
       "  </tbody>\n",
       "</table>\n",
       "</div>"
      ],
      "text/plain": [
       "         India       USA     China     Japan     Italy  IND_puls_USA\n",
       "2000  0.399694  0.322446  0.949832  0.477198  0.108064      0.722140\n",
       "2001  0.619891  0.418961  0.866907  0.342787  0.545301      1.038853\n",
       "2002  0.344944  0.090686  0.114429  0.015913  0.025554      0.435631\n",
       "2003  0.962349  0.778660  0.244048  0.399331  0.613096      1.741009\n",
       "2004  0.859724  0.163855  0.693371  0.818648  0.967456      1.023578\n",
       "2005  0.787853  0.108535  0.568081  0.566507  0.167816      0.896388\n",
       "2006  0.615568  0.476624  0.894124  0.565522  0.930300      1.092192\n",
       "2007  0.882948  0.895825  0.473075  0.590638  0.769765      1.778772\n",
       "2008  0.521790  0.097142  0.189303  0.039195  0.104441      0.618932\n",
       "2009  0.628223  0.021361  0.917344  0.207355  0.868885      0.649584"
      ]
     },
     "execution_count": 151,
     "metadata": {},
     "output_type": "execute_result"
    }
   ],
   "source": [
    "print(\"Rename IND_USA column as IND_puls_USA\")\n",
    "df = df.rename(columns={'IND_USA':'IND_puls_USA'})\n",
    "df"
   ]
  },
  {
   "cell_type": "markdown",
   "metadata": {},
   "source": [
    "#### B5d) Drop existing columns"
   ]
  },
  {
   "cell_type": "code",
   "execution_count": 152,
   "metadata": {},
   "outputs": [
    {
     "name": "stdout",
     "output_type": "stream",
     "text": [
      "Drop IND_puls_USA columns from DataFrame. Axis=1 for columns.\n"
     ]
    },
    {
     "data": {
      "text/html": [
       "<div>\n",
       "<style scoped>\n",
       "    .dataframe tbody tr th:only-of-type {\n",
       "        vertical-align: middle;\n",
       "    }\n",
       "\n",
       "    .dataframe tbody tr th {\n",
       "        vertical-align: top;\n",
       "    }\n",
       "\n",
       "    .dataframe thead th {\n",
       "        text-align: right;\n",
       "    }\n",
       "</style>\n",
       "<table border=\"1\" class=\"dataframe\">\n",
       "  <thead>\n",
       "    <tr style=\"text-align: right;\">\n",
       "      <th></th>\n",
       "      <th>India</th>\n",
       "      <th>USA</th>\n",
       "      <th>China</th>\n",
       "      <th>Japan</th>\n",
       "      <th>Italy</th>\n",
       "    </tr>\n",
       "  </thead>\n",
       "  <tbody>\n",
       "    <tr>\n",
       "      <th>2000</th>\n",
       "      <td>0.399694</td>\n",
       "      <td>0.322446</td>\n",
       "      <td>0.949832</td>\n",
       "      <td>0.477198</td>\n",
       "      <td>0.108064</td>\n",
       "    </tr>\n",
       "    <tr>\n",
       "      <th>2001</th>\n",
       "      <td>0.619891</td>\n",
       "      <td>0.418961</td>\n",
       "      <td>0.866907</td>\n",
       "      <td>0.342787</td>\n",
       "      <td>0.545301</td>\n",
       "    </tr>\n",
       "    <tr>\n",
       "      <th>2002</th>\n",
       "      <td>0.344944</td>\n",
       "      <td>0.090686</td>\n",
       "      <td>0.114429</td>\n",
       "      <td>0.015913</td>\n",
       "      <td>0.025554</td>\n",
       "    </tr>\n",
       "    <tr>\n",
       "      <th>2003</th>\n",
       "      <td>0.962349</td>\n",
       "      <td>0.778660</td>\n",
       "      <td>0.244048</td>\n",
       "      <td>0.399331</td>\n",
       "      <td>0.613096</td>\n",
       "    </tr>\n",
       "    <tr>\n",
       "      <th>2004</th>\n",
       "      <td>0.859724</td>\n",
       "      <td>0.163855</td>\n",
       "      <td>0.693371</td>\n",
       "      <td>0.818648</td>\n",
       "      <td>0.967456</td>\n",
       "    </tr>\n",
       "    <tr>\n",
       "      <th>2005</th>\n",
       "      <td>0.787853</td>\n",
       "      <td>0.108535</td>\n",
       "      <td>0.568081</td>\n",
       "      <td>0.566507</td>\n",
       "      <td>0.167816</td>\n",
       "    </tr>\n",
       "    <tr>\n",
       "      <th>2006</th>\n",
       "      <td>0.615568</td>\n",
       "      <td>0.476624</td>\n",
       "      <td>0.894124</td>\n",
       "      <td>0.565522</td>\n",
       "      <td>0.930300</td>\n",
       "    </tr>\n",
       "    <tr>\n",
       "      <th>2007</th>\n",
       "      <td>0.882948</td>\n",
       "      <td>0.895825</td>\n",
       "      <td>0.473075</td>\n",
       "      <td>0.590638</td>\n",
       "      <td>0.769765</td>\n",
       "    </tr>\n",
       "    <tr>\n",
       "      <th>2008</th>\n",
       "      <td>0.521790</td>\n",
       "      <td>0.097142</td>\n",
       "      <td>0.189303</td>\n",
       "      <td>0.039195</td>\n",
       "      <td>0.104441</td>\n",
       "    </tr>\n",
       "    <tr>\n",
       "      <th>2009</th>\n",
       "      <td>0.628223</td>\n",
       "      <td>0.021361</td>\n",
       "      <td>0.917344</td>\n",
       "      <td>0.207355</td>\n",
       "      <td>0.868885</td>\n",
       "    </tr>\n",
       "  </tbody>\n",
       "</table>\n",
       "</div>"
      ],
      "text/plain": [
       "         India       USA     China     Japan     Italy\n",
       "2000  0.399694  0.322446  0.949832  0.477198  0.108064\n",
       "2001  0.619891  0.418961  0.866907  0.342787  0.545301\n",
       "2002  0.344944  0.090686  0.114429  0.015913  0.025554\n",
       "2003  0.962349  0.778660  0.244048  0.399331  0.613096\n",
       "2004  0.859724  0.163855  0.693371  0.818648  0.967456\n",
       "2005  0.787853  0.108535  0.568081  0.566507  0.167816\n",
       "2006  0.615568  0.476624  0.894124  0.565522  0.930300\n",
       "2007  0.882948  0.895825  0.473075  0.590638  0.769765\n",
       "2008  0.521790  0.097142  0.189303  0.039195  0.104441\n",
       "2009  0.628223  0.021361  0.917344  0.207355  0.868885"
      ]
     },
     "execution_count": 152,
     "metadata": {},
     "output_type": "execute_result"
    }
   ],
   "source": [
    "print(\"Drop IND_puls_USA columns from DataFrame. Axis=1 for columns.\")\n",
    "df = df.drop('IND_puls_USA', axis=1)\n",
    "df"
   ]
  },
  {
   "cell_type": "markdown",
   "metadata": {},
   "source": [
    "### B6) DataFrame Rows with Select, Create, Rename, drop\n",
    "> ###  Axis = 0 --> for Rows\n",
    "> ###  Axis = 1 --> for Columns"
   ]
  },
  {
   "cell_type": "code",
   "execution_count": null,
   "metadata": {},
   "outputs": [],
   "source": []
  },
  {
   "cell_type": "code",
   "execution_count": null,
   "metadata": {},
   "outputs": [],
   "source": []
  },
  {
   "cell_type": "code",
   "execution_count": null,
   "metadata": {},
   "outputs": [],
   "source": []
  },
  {
   "cell_type": "code",
   "execution_count": null,
   "metadata": {},
   "outputs": [],
   "source": []
  },
  {
   "cell_type": "code",
   "execution_count": null,
   "metadata": {},
   "outputs": [],
   "source": []
  },
  {
   "cell_type": "code",
   "execution_count": null,
   "metadata": {},
   "outputs": [],
   "source": []
  },
  {
   "cell_type": "code",
   "execution_count": null,
   "metadata": {},
   "outputs": [],
   "source": []
  },
  {
   "cell_type": "code",
   "execution_count": null,
   "metadata": {},
   "outputs": [],
   "source": []
  }
 ],
 "metadata": {
  "kernelspec": {
   "display_name": "Python 3",
   "language": "python",
   "name": "python3"
  },
  "language_info": {
   "codemirror_mode": {
    "name": "ipython",
    "version": 3
   },
   "file_extension": ".py",
   "mimetype": "text/x-python",
   "name": "python",
   "nbconvert_exporter": "python",
   "pygments_lexer": "ipython3",
   "version": "3.7.1"
  }
 },
 "nbformat": 4,
 "nbformat_minor": 2
}
